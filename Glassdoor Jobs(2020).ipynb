{
 "cells": [
  {
   "cell_type": "markdown",
   "metadata": {},
   "source": [
    "### Importing the libraries"
   ]
  },
  {
   "cell_type": "code",
   "execution_count": 6,
   "metadata": {},
   "outputs": [],
   "source": [
    "import numpy as np\n",
    "import pandas as pd\n",
    "import matplotlib.pyplot as plt\n",
    "import seaborn as sns \n",
    "from scipy import stats\n",
    "from scipy.stats import norm\n",
    "import os\n",
    "import warnings\n",
    "from re import search\n",
    "from datetime import datetime\n",
    "import plotly.express as px\n",
    "import plotly.graph_objects as go\n",
    "warnings.filterwarnings('ignore')"
   ]
  },
  {
   "cell_type": "markdown",
   "metadata": {},
   "source": [
    "Getting and setting the current working directory is important because sometimes we will be working with data that is updated every few hours/days. In this situation, downloading the data(if it is small)/ connecting it to an instance of the database will give us static data to work with. We can always activate the connction to work with the latest data."
   ]
  },
  {
   "cell_type": "code",
   "execution_count": 7,
   "metadata": {},
   "outputs": [
    {
     "data": {
      "text/plain": [
       "'c:\\\\Users\\\\manit\\\\OneDrive\\\\Desktop\\\\Projects\\\\Data science Salary estimator'"
      ]
     },
     "execution_count": 7,
     "metadata": {},
     "output_type": "execute_result"
    }
   ],
   "source": [
    "os.getcwd()"
   ]
  },
  {
   "cell_type": "code",
   "execution_count": 8,
   "metadata": {},
   "outputs": [],
   "source": [
    "os.chdir('/Users/manit/OneDrive/Desktop/Projects/Data science Salary estimator')"
   ]
  },
  {
   "cell_type": "code",
   "execution_count": 9,
   "metadata": {},
   "outputs": [],
   "source": [
    "raw_data=pd.read_csv('glassdoor_jobs.csv')"
   ]
  },
  {
   "cell_type": "markdown",
   "metadata": {},
   "source": [
    "In case of a mistake or deletion of data, we would have to import the data again but this step will function as a backup to return to our original state in case of a mistake."
   ]
  },
  {
   "cell_type": "code",
   "execution_count": 10,
   "metadata": {},
   "outputs": [
    {
     "data": {
      "text/html": [
       "<div>\n",
       "<style scoped>\n",
       "    .dataframe tbody tr th:only-of-type {\n",
       "        vertical-align: middle;\n",
       "    }\n",
       "\n",
       "    .dataframe tbody tr th {\n",
       "        vertical-align: top;\n",
       "    }\n",
       "\n",
       "    .dataframe thead th {\n",
       "        text-align: right;\n",
       "    }\n",
       "</style>\n",
       "<table border=\"1\" class=\"dataframe\">\n",
       "  <thead>\n",
       "    <tr style=\"text-align: right;\">\n",
       "      <th></th>\n",
       "      <th>Unnamed: 0</th>\n",
       "      <th>Job Title</th>\n",
       "      <th>Salary Estimate</th>\n",
       "      <th>Job Description</th>\n",
       "      <th>Rating</th>\n",
       "      <th>Company Name</th>\n",
       "      <th>Location</th>\n",
       "      <th>Headquarters</th>\n",
       "      <th>Size</th>\n",
       "      <th>Founded</th>\n",
       "      <th>Type of ownership</th>\n",
       "      <th>Industry</th>\n",
       "      <th>Sector</th>\n",
       "      <th>Revenue</th>\n",
       "      <th>Competitors</th>\n",
       "    </tr>\n",
       "  </thead>\n",
       "  <tbody>\n",
       "    <tr>\n",
       "      <th>0</th>\n",
       "      <td>0</td>\n",
       "      <td>Data Scientist</td>\n",
       "      <td>$53K-$91K (Glassdoor est.)</td>\n",
       "      <td>Data Scientist\\nLocation: Albuquerque, NM\\nEdu...</td>\n",
       "      <td>3.8</td>\n",
       "      <td>Tecolote Research\\n3.8</td>\n",
       "      <td>Albuquerque, NM</td>\n",
       "      <td>Goleta, CA</td>\n",
       "      <td>501 to 1000 employees</td>\n",
       "      <td>26-05-1905</td>\n",
       "      <td>Company - Private</td>\n",
       "      <td>Aerospace &amp; Defense</td>\n",
       "      <td>Aerospace &amp; Defense</td>\n",
       "      <td>$50 to $100 million (USD)</td>\n",
       "      <td>-1</td>\n",
       "    </tr>\n",
       "    <tr>\n",
       "      <th>1</th>\n",
       "      <td>1</td>\n",
       "      <td>Healthcare Data Scientist</td>\n",
       "      <td>$63K-$112K (Glassdoor est.)</td>\n",
       "      <td>What You Will Do:\\n\\nI. General Summary\\n\\nThe...</td>\n",
       "      <td>3.4</td>\n",
       "      <td>University of Maryland Medical System\\n3.4</td>\n",
       "      <td>Linthicum, MD</td>\n",
       "      <td>Baltimore, MD</td>\n",
       "      <td>10000+ employees</td>\n",
       "      <td>06-06-1905</td>\n",
       "      <td>Other Organization</td>\n",
       "      <td>Health Care Services &amp; Hospitals</td>\n",
       "      <td>Health Care</td>\n",
       "      <td>$2 to $5 billion (USD)</td>\n",
       "      <td>-1</td>\n",
       "    </tr>\n",
       "    <tr>\n",
       "      <th>2</th>\n",
       "      <td>2</td>\n",
       "      <td>Data Scientist</td>\n",
       "      <td>$80K-$90K (Glassdoor est.)</td>\n",
       "      <td>KnowBe4, Inc. is a high growth information sec...</td>\n",
       "      <td>4.8</td>\n",
       "      <td>KnowBe4\\n4.8</td>\n",
       "      <td>Clearwater, FL</td>\n",
       "      <td>Clearwater, FL</td>\n",
       "      <td>501 to 1000 employees</td>\n",
       "      <td>02-07-1905</td>\n",
       "      <td>Company - Private</td>\n",
       "      <td>Security Services</td>\n",
       "      <td>Business Services</td>\n",
       "      <td>$100 to $500 million (USD)</td>\n",
       "      <td>-1</td>\n",
       "    </tr>\n",
       "    <tr>\n",
       "      <th>3</th>\n",
       "      <td>3</td>\n",
       "      <td>Data Scientist</td>\n",
       "      <td>$56K-$97K (Glassdoor est.)</td>\n",
       "      <td>*Organization and Job ID**\\nJob ID: 310709\\n\\n...</td>\n",
       "      <td>3.8</td>\n",
       "      <td>PNNL\\n3.8</td>\n",
       "      <td>Richland, WA</td>\n",
       "      <td>Richland, WA</td>\n",
       "      <td>1001 to 5000 employees</td>\n",
       "      <td>18-05-1905</td>\n",
       "      <td>Government</td>\n",
       "      <td>Energy</td>\n",
       "      <td>Oil, Gas, Energy &amp; Utilities</td>\n",
       "      <td>$500 million to $1 billion (USD)</td>\n",
       "      <td>Oak Ridge National Laboratory, National Renewa...</td>\n",
       "    </tr>\n",
       "    <tr>\n",
       "      <th>4</th>\n",
       "      <td>4</td>\n",
       "      <td>Data Scientist</td>\n",
       "      <td>$86K-$143K (Glassdoor est.)</td>\n",
       "      <td>Data Scientist\\nAffinity Solutions / Marketing...</td>\n",
       "      <td>2.9</td>\n",
       "      <td>Affinity Solutions\\n2.9</td>\n",
       "      <td>New York, NY</td>\n",
       "      <td>New York, NY</td>\n",
       "      <td>51 to 200 employees</td>\n",
       "      <td>20-06-1905</td>\n",
       "      <td>Company - Private</td>\n",
       "      <td>Advertising &amp; Marketing</td>\n",
       "      <td>Business Services</td>\n",
       "      <td>Unknown / Non-Applicable</td>\n",
       "      <td>Commerce Signals, Cardlytics, Yodlee</td>\n",
       "    </tr>\n",
       "  </tbody>\n",
       "</table>\n",
       "</div>"
      ],
      "text/plain": [
       "   Unnamed: 0                  Job Title              Salary Estimate  \\\n",
       "0           0             Data Scientist   $53K-$91K (Glassdoor est.)   \n",
       "1           1  Healthcare Data Scientist  $63K-$112K (Glassdoor est.)   \n",
       "2           2             Data Scientist   $80K-$90K (Glassdoor est.)   \n",
       "3           3             Data Scientist   $56K-$97K (Glassdoor est.)   \n",
       "4           4             Data Scientist  $86K-$143K (Glassdoor est.)   \n",
       "\n",
       "                                     Job Description  Rating  \\\n",
       "0  Data Scientist\\nLocation: Albuquerque, NM\\nEdu...     3.8   \n",
       "1  What You Will Do:\\n\\nI. General Summary\\n\\nThe...     3.4   \n",
       "2  KnowBe4, Inc. is a high growth information sec...     4.8   \n",
       "3  *Organization and Job ID**\\nJob ID: 310709\\n\\n...     3.8   \n",
       "4  Data Scientist\\nAffinity Solutions / Marketing...     2.9   \n",
       "\n",
       "                                 Company Name         Location  \\\n",
       "0                      Tecolote Research\\n3.8  Albuquerque, NM   \n",
       "1  University of Maryland Medical System\\n3.4    Linthicum, MD   \n",
       "2                                KnowBe4\\n4.8   Clearwater, FL   \n",
       "3                                   PNNL\\n3.8     Richland, WA   \n",
       "4                     Affinity Solutions\\n2.9     New York, NY   \n",
       "\n",
       "     Headquarters                    Size     Founded   Type of ownership  \\\n",
       "0      Goleta, CA   501 to 1000 employees  26-05-1905   Company - Private   \n",
       "1   Baltimore, MD        10000+ employees  06-06-1905  Other Organization   \n",
       "2  Clearwater, FL   501 to 1000 employees  02-07-1905   Company - Private   \n",
       "3    Richland, WA  1001 to 5000 employees  18-05-1905          Government   \n",
       "4    New York, NY     51 to 200 employees  20-06-1905   Company - Private   \n",
       "\n",
       "                           Industry                        Sector  \\\n",
       "0               Aerospace & Defense           Aerospace & Defense   \n",
       "1  Health Care Services & Hospitals                   Health Care   \n",
       "2                 Security Services             Business Services   \n",
       "3                            Energy  Oil, Gas, Energy & Utilities   \n",
       "4           Advertising & Marketing             Business Services   \n",
       "\n",
       "                            Revenue  \\\n",
       "0         $50 to $100 million (USD)   \n",
       "1            $2 to $5 billion (USD)   \n",
       "2        $100 to $500 million (USD)   \n",
       "3  $500 million to $1 billion (USD)   \n",
       "4          Unknown / Non-Applicable   \n",
       "\n",
       "                                         Competitors  \n",
       "0                                                 -1  \n",
       "1                                                 -1  \n",
       "2                                                 -1  \n",
       "3  Oak Ridge National Laboratory, National Renewa...  \n",
       "4               Commerce Signals, Cardlytics, Yodlee  "
      ]
     },
     "execution_count": 10,
     "metadata": {},
     "output_type": "execute_result"
    }
   ],
   "source": [
    "data=raw_data.copy()\n",
    "data.head()"
   ]
  },
  {
   "cell_type": "markdown",
   "metadata": {},
   "source": [
    "### Getting an overview of our dataset\n",
    "The info() method in python is used to get an outlook of our coloumns and their respective types and it also gives information whether the columns have null values or not. This step is necessary because, we can get an overview of the types of columns in our data."
   ]
  },
  {
   "cell_type": "code",
   "execution_count": 11,
   "metadata": {},
   "outputs": [
    {
     "name": "stdout",
     "output_type": "stream",
     "text": [
      "<class 'pandas.core.frame.DataFrame'>\n",
      "RangeIndex: 956 entries, 0 to 955\n",
      "Data columns (total 15 columns):\n",
      " #   Column             Non-Null Count  Dtype  \n",
      "---  ------             --------------  -----  \n",
      " 0   Unnamed: 0         956 non-null    int64  \n",
      " 1   Job Title          956 non-null    object \n",
      " 2   Salary Estimate    956 non-null    object \n",
      " 3   Job Description    956 non-null    object \n",
      " 4   Rating             956 non-null    float64\n",
      " 5   Company Name       956 non-null    object \n",
      " 6   Location           956 non-null    object \n",
      " 7   Headquarters       956 non-null    object \n",
      " 8   Size               956 non-null    object \n",
      " 9   Founded            956 non-null    object \n",
      " 10  Type of ownership  956 non-null    object \n",
      " 11  Industry           956 non-null    object \n",
      " 12  Sector             956 non-null    object \n",
      " 13  Revenue            956 non-null    object \n",
      " 14  Competitors        956 non-null    object \n",
      "dtypes: float64(1), int64(1), object(13)\n",
      "memory usage: 112.2+ KB\n"
     ]
    }
   ],
   "source": [
    "data.info()"
   ]
  },
  {
   "cell_type": "markdown",
   "metadata": {},
   "source": [
    "### Missing values \n",
    "The function below is used to check for missing values in our dataset. Output is in the form of a dataframe so reading it is easy."
   ]
  },
  {
   "cell_type": "code",
   "execution_count": 12,
   "metadata": {},
   "outputs": [
    {
     "data": {
      "text/html": [
       "<div>\n",
       "<style scoped>\n",
       "    .dataframe tbody tr th:only-of-type {\n",
       "        vertical-align: middle;\n",
       "    }\n",
       "\n",
       "    .dataframe tbody tr th {\n",
       "        vertical-align: top;\n",
       "    }\n",
       "\n",
       "    .dataframe thead th {\n",
       "        text-align: right;\n",
       "    }\n",
       "</style>\n",
       "<table border=\"1\" class=\"dataframe\">\n",
       "  <thead>\n",
       "    <tr style=\"text-align: right;\">\n",
       "      <th></th>\n",
       "      <th>Total</th>\n",
       "      <th>Percent</th>\n",
       "    </tr>\n",
       "  </thead>\n",
       "  <tbody>\n",
       "    <tr>\n",
       "      <th>Unnamed: 0</th>\n",
       "      <td>0</td>\n",
       "      <td>0.0</td>\n",
       "    </tr>\n",
       "    <tr>\n",
       "      <th>Job Title</th>\n",
       "      <td>0</td>\n",
       "      <td>0.0</td>\n",
       "    </tr>\n",
       "    <tr>\n",
       "      <th>Salary Estimate</th>\n",
       "      <td>0</td>\n",
       "      <td>0.0</td>\n",
       "    </tr>\n",
       "    <tr>\n",
       "      <th>Job Description</th>\n",
       "      <td>0</td>\n",
       "      <td>0.0</td>\n",
       "    </tr>\n",
       "    <tr>\n",
       "      <th>Rating</th>\n",
       "      <td>0</td>\n",
       "      <td>0.0</td>\n",
       "    </tr>\n",
       "    <tr>\n",
       "      <th>Company Name</th>\n",
       "      <td>0</td>\n",
       "      <td>0.0</td>\n",
       "    </tr>\n",
       "    <tr>\n",
       "      <th>Location</th>\n",
       "      <td>0</td>\n",
       "      <td>0.0</td>\n",
       "    </tr>\n",
       "    <tr>\n",
       "      <th>Headquarters</th>\n",
       "      <td>0</td>\n",
       "      <td>0.0</td>\n",
       "    </tr>\n",
       "    <tr>\n",
       "      <th>Size</th>\n",
       "      <td>0</td>\n",
       "      <td>0.0</td>\n",
       "    </tr>\n",
       "    <tr>\n",
       "      <th>Founded</th>\n",
       "      <td>0</td>\n",
       "      <td>0.0</td>\n",
       "    </tr>\n",
       "    <tr>\n",
       "      <th>Type of ownership</th>\n",
       "      <td>0</td>\n",
       "      <td>0.0</td>\n",
       "    </tr>\n",
       "    <tr>\n",
       "      <th>Industry</th>\n",
       "      <td>0</td>\n",
       "      <td>0.0</td>\n",
       "    </tr>\n",
       "    <tr>\n",
       "      <th>Sector</th>\n",
       "      <td>0</td>\n",
       "      <td>0.0</td>\n",
       "    </tr>\n",
       "    <tr>\n",
       "      <th>Revenue</th>\n",
       "      <td>0</td>\n",
       "      <td>0.0</td>\n",
       "    </tr>\n",
       "    <tr>\n",
       "      <th>Competitors</th>\n",
       "      <td>0</td>\n",
       "      <td>0.0</td>\n",
       "    </tr>\n",
       "  </tbody>\n",
       "</table>\n",
       "</div>"
      ],
      "text/plain": [
       "                   Total  Percent\n",
       "Unnamed: 0             0      0.0\n",
       "Job Title              0      0.0\n",
       "Salary Estimate        0      0.0\n",
       "Job Description        0      0.0\n",
       "Rating                 0      0.0\n",
       "Company Name           0      0.0\n",
       "Location               0      0.0\n",
       "Headquarters           0      0.0\n",
       "Size                   0      0.0\n",
       "Founded                0      0.0\n",
       "Type of ownership      0      0.0\n",
       "Industry               0      0.0\n",
       "Sector                 0      0.0\n",
       "Revenue                0      0.0\n",
       "Competitors            0      0.0"
      ]
     },
     "execution_count": 12,
     "metadata": {},
     "output_type": "execute_result"
    }
   ],
   "source": [
    "def draw_missing_data_table(data):\n",
    "    total = data.isnull().sum().sort_values(ascending=False)\n",
    "    percent = (data.isnull().sum()/data.isnull().count()).sort_values(ascending=False)\n",
    "    missing_data = pd.concat([total, percent], axis=1, keys=['Total', 'Percent'])\n",
    "    return missing_data\n",
    "draw_missing_data_table(data)"
   ]
  },
  {
   "cell_type": "markdown",
   "metadata": {},
   "source": [
    "Luckily there are no missing values in our data. Now we move on to the next step of cleaning the data because the data is messy and gathering insights from this messy data is not going to be of any use for us."
   ]
  },
  {
   "cell_type": "markdown",
   "metadata": {},
   "source": [
    "Checking the head of the data again to get an overview of what to do with the data"
   ]
  },
  {
   "cell_type": "code",
   "execution_count": 13,
   "metadata": {},
   "outputs": [
    {
     "data": {
      "text/html": [
       "<div>\n",
       "<style scoped>\n",
       "    .dataframe tbody tr th:only-of-type {\n",
       "        vertical-align: middle;\n",
       "    }\n",
       "\n",
       "    .dataframe tbody tr th {\n",
       "        vertical-align: top;\n",
       "    }\n",
       "\n",
       "    .dataframe thead th {\n",
       "        text-align: right;\n",
       "    }\n",
       "</style>\n",
       "<table border=\"1\" class=\"dataframe\">\n",
       "  <thead>\n",
       "    <tr style=\"text-align: right;\">\n",
       "      <th></th>\n",
       "      <th>Unnamed: 0</th>\n",
       "      <th>Job Title</th>\n",
       "      <th>Salary Estimate</th>\n",
       "      <th>Job Description</th>\n",
       "      <th>Rating</th>\n",
       "      <th>Company Name</th>\n",
       "      <th>Location</th>\n",
       "      <th>Headquarters</th>\n",
       "      <th>Size</th>\n",
       "      <th>Founded</th>\n",
       "      <th>Type of ownership</th>\n",
       "      <th>Industry</th>\n",
       "      <th>Sector</th>\n",
       "      <th>Revenue</th>\n",
       "      <th>Competitors</th>\n",
       "    </tr>\n",
       "  </thead>\n",
       "  <tbody>\n",
       "    <tr>\n",
       "      <th>0</th>\n",
       "      <td>0</td>\n",
       "      <td>Data Scientist</td>\n",
       "      <td>$53K-$91K (Glassdoor est.)</td>\n",
       "      <td>Data Scientist\\nLocation: Albuquerque, NM\\nEdu...</td>\n",
       "      <td>3.8</td>\n",
       "      <td>Tecolote Research\\n3.8</td>\n",
       "      <td>Albuquerque, NM</td>\n",
       "      <td>Goleta, CA</td>\n",
       "      <td>501 to 1000 employees</td>\n",
       "      <td>26-05-1905</td>\n",
       "      <td>Company - Private</td>\n",
       "      <td>Aerospace &amp; Defense</td>\n",
       "      <td>Aerospace &amp; Defense</td>\n",
       "      <td>$50 to $100 million (USD)</td>\n",
       "      <td>-1</td>\n",
       "    </tr>\n",
       "    <tr>\n",
       "      <th>1</th>\n",
       "      <td>1</td>\n",
       "      <td>Healthcare Data Scientist</td>\n",
       "      <td>$63K-$112K (Glassdoor est.)</td>\n",
       "      <td>What You Will Do:\\n\\nI. General Summary\\n\\nThe...</td>\n",
       "      <td>3.4</td>\n",
       "      <td>University of Maryland Medical System\\n3.4</td>\n",
       "      <td>Linthicum, MD</td>\n",
       "      <td>Baltimore, MD</td>\n",
       "      <td>10000+ employees</td>\n",
       "      <td>06-06-1905</td>\n",
       "      <td>Other Organization</td>\n",
       "      <td>Health Care Services &amp; Hospitals</td>\n",
       "      <td>Health Care</td>\n",
       "      <td>$2 to $5 billion (USD)</td>\n",
       "      <td>-1</td>\n",
       "    </tr>\n",
       "    <tr>\n",
       "      <th>2</th>\n",
       "      <td>2</td>\n",
       "      <td>Data Scientist</td>\n",
       "      <td>$80K-$90K (Glassdoor est.)</td>\n",
       "      <td>KnowBe4, Inc. is a high growth information sec...</td>\n",
       "      <td>4.8</td>\n",
       "      <td>KnowBe4\\n4.8</td>\n",
       "      <td>Clearwater, FL</td>\n",
       "      <td>Clearwater, FL</td>\n",
       "      <td>501 to 1000 employees</td>\n",
       "      <td>02-07-1905</td>\n",
       "      <td>Company - Private</td>\n",
       "      <td>Security Services</td>\n",
       "      <td>Business Services</td>\n",
       "      <td>$100 to $500 million (USD)</td>\n",
       "      <td>-1</td>\n",
       "    </tr>\n",
       "    <tr>\n",
       "      <th>3</th>\n",
       "      <td>3</td>\n",
       "      <td>Data Scientist</td>\n",
       "      <td>$56K-$97K (Glassdoor est.)</td>\n",
       "      <td>*Organization and Job ID**\\nJob ID: 310709\\n\\n...</td>\n",
       "      <td>3.8</td>\n",
       "      <td>PNNL\\n3.8</td>\n",
       "      <td>Richland, WA</td>\n",
       "      <td>Richland, WA</td>\n",
       "      <td>1001 to 5000 employees</td>\n",
       "      <td>18-05-1905</td>\n",
       "      <td>Government</td>\n",
       "      <td>Energy</td>\n",
       "      <td>Oil, Gas, Energy &amp; Utilities</td>\n",
       "      <td>$500 million to $1 billion (USD)</td>\n",
       "      <td>Oak Ridge National Laboratory, National Renewa...</td>\n",
       "    </tr>\n",
       "    <tr>\n",
       "      <th>4</th>\n",
       "      <td>4</td>\n",
       "      <td>Data Scientist</td>\n",
       "      <td>$86K-$143K (Glassdoor est.)</td>\n",
       "      <td>Data Scientist\\nAffinity Solutions / Marketing...</td>\n",
       "      <td>2.9</td>\n",
       "      <td>Affinity Solutions\\n2.9</td>\n",
       "      <td>New York, NY</td>\n",
       "      <td>New York, NY</td>\n",
       "      <td>51 to 200 employees</td>\n",
       "      <td>20-06-1905</td>\n",
       "      <td>Company - Private</td>\n",
       "      <td>Advertising &amp; Marketing</td>\n",
       "      <td>Business Services</td>\n",
       "      <td>Unknown / Non-Applicable</td>\n",
       "      <td>Commerce Signals, Cardlytics, Yodlee</td>\n",
       "    </tr>\n",
       "  </tbody>\n",
       "</table>\n",
       "</div>"
      ],
      "text/plain": [
       "   Unnamed: 0                  Job Title              Salary Estimate  \\\n",
       "0           0             Data Scientist   $53K-$91K (Glassdoor est.)   \n",
       "1           1  Healthcare Data Scientist  $63K-$112K (Glassdoor est.)   \n",
       "2           2             Data Scientist   $80K-$90K (Glassdoor est.)   \n",
       "3           3             Data Scientist   $56K-$97K (Glassdoor est.)   \n",
       "4           4             Data Scientist  $86K-$143K (Glassdoor est.)   \n",
       "\n",
       "                                     Job Description  Rating  \\\n",
       "0  Data Scientist\\nLocation: Albuquerque, NM\\nEdu...     3.8   \n",
       "1  What You Will Do:\\n\\nI. General Summary\\n\\nThe...     3.4   \n",
       "2  KnowBe4, Inc. is a high growth information sec...     4.8   \n",
       "3  *Organization and Job ID**\\nJob ID: 310709\\n\\n...     3.8   \n",
       "4  Data Scientist\\nAffinity Solutions / Marketing...     2.9   \n",
       "\n",
       "                                 Company Name         Location  \\\n",
       "0                      Tecolote Research\\n3.8  Albuquerque, NM   \n",
       "1  University of Maryland Medical System\\n3.4    Linthicum, MD   \n",
       "2                                KnowBe4\\n4.8   Clearwater, FL   \n",
       "3                                   PNNL\\n3.8     Richland, WA   \n",
       "4                     Affinity Solutions\\n2.9     New York, NY   \n",
       "\n",
       "     Headquarters                    Size     Founded   Type of ownership  \\\n",
       "0      Goleta, CA   501 to 1000 employees  26-05-1905   Company - Private   \n",
       "1   Baltimore, MD        10000+ employees  06-06-1905  Other Organization   \n",
       "2  Clearwater, FL   501 to 1000 employees  02-07-1905   Company - Private   \n",
       "3    Richland, WA  1001 to 5000 employees  18-05-1905          Government   \n",
       "4    New York, NY     51 to 200 employees  20-06-1905   Company - Private   \n",
       "\n",
       "                           Industry                        Sector  \\\n",
       "0               Aerospace & Defense           Aerospace & Defense   \n",
       "1  Health Care Services & Hospitals                   Health Care   \n",
       "2                 Security Services             Business Services   \n",
       "3                            Energy  Oil, Gas, Energy & Utilities   \n",
       "4           Advertising & Marketing             Business Services   \n",
       "\n",
       "                            Revenue  \\\n",
       "0         $50 to $100 million (USD)   \n",
       "1            $2 to $5 billion (USD)   \n",
       "2        $100 to $500 million (USD)   \n",
       "3  $500 million to $1 billion (USD)   \n",
       "4          Unknown / Non-Applicable   \n",
       "\n",
       "                                         Competitors  \n",
       "0                                                 -1  \n",
       "1                                                 -1  \n",
       "2                                                 -1  \n",
       "3  Oak Ridge National Laboratory, National Renewa...  \n",
       "4               Commerce Signals, Cardlytics, Yodlee  "
      ]
     },
     "execution_count": 13,
     "metadata": {},
     "output_type": "execute_result"
    }
   ],
   "source": [
    "data.head()"
   ]
  },
  {
   "cell_type": "markdown",
   "metadata": {},
   "source": [
    "Before cleaning the data, noting down the columns to clean and how to clean them will help us while doing the task and this will be useful when others look at the code.\n",
    "\n",
    "#### Observations:\n",
    "\n",
    "1) The column unnamed is unnecessary and can be removed.\n",
    "\n",
    "2) Salary Estimate: Can remove the strings in between the two numbers in this column and can add another column to our dataset (minimum salary and maximum salary). If necessary can add a mean salary column.\n",
    "\n",
    "3) Company Name: Company name also contains rating which is already available to us in the \"Rating\" column. Keeping the rating here will not be of any use and will be removed.\n",
    "\n",
    "4) Location: Contains both the location and state. Splitting this into two columns : \"Location\" and \"State\" will help us in our analysis.\n",
    "\n",
    "5) Headquarters: Not changing this column because I do not think this is going to be useful for my analysis. Will clean the data if needed.\n",
    "\n",
    "6) Size: Contains unnecessary wordings, removing them. Better to remove the wordings and split them into minimum and maximum employees columns or an average employee column will give a better perspective of the company.\n",
    "\n",
    "7) Competitors: Field has a lot of -1(missing values). Can get the number of competitors and can assign 0 if the number is -1.\n",
    "\n",
    "8) Revenue:"
   ]
  },
  {
   "cell_type": "code",
   "execution_count": 14,
   "metadata": {},
   "outputs": [],
   "source": [
    "# Removing competitors column\n",
    "data.drop(columns=['Unnamed: 0'],inplace=True,axis=1)"
   ]
  },
  {
   "cell_type": "markdown",
   "metadata": {},
   "source": [
    "#### Competitors"
   ]
  },
  {
   "cell_type": "code",
   "execution_count": 15,
   "metadata": {},
   "outputs": [
    {
     "data": {
      "text/plain": [
       "0    634\n",
       "3    253\n",
       "2     50\n",
       "1     18\n",
       "4      1\n",
       "Name: Competitors, dtype: int64"
      ]
     },
     "execution_count": 15,
     "metadata": {},
     "output_type": "execute_result"
    }
   ],
   "source": [
    "data['Competitors']=data['Competitors'].apply(lambda x: 0 if x=='-1' else len(x.split(',')))\n",
    "data['Competitors'].value_counts()"
   ]
  },
  {
   "cell_type": "code",
   "execution_count": 16,
   "metadata": {},
   "outputs": [
    {
     "data": {
      "text/plain": [
       "Novartis                                           14\n",
       "MassMutual                                         14\n",
       "Takeda Pharmaceuticals                             14\n",
       "Reynolds American                                  14\n",
       "Software Engineering Institute                     13\n",
       "The Church of Jesus Christ of Latter-day Saints    13\n",
       "Liberty Mutual Insurance                           10\n",
       "PNNL                                               10\n",
       "AstraZeneca                                         9\n",
       "Alector                                             8\n",
       "MITRE                                               8\n",
       "Fareportal                                          7\n",
       "Rochester Regional Health                           7\n",
       "Advanced BioScience Laboratories                    7\n",
       "Numeric, LLC                                        7\n",
       "Pfizer                                              7\n",
       "Esri                                                6\n",
       "Beebe Healthcare                                    6\n",
       "Apellis Pharmaceuticals                             6\n",
       "ManTech                                             6\n",
       "Name: Company Name, dtype: int64"
      ]
     },
     "execution_count": 16,
     "metadata": {},
     "output_type": "execute_result"
    }
   ],
   "source": [
    "data['Company Name'] = data['Company Name'].str.split(\"\\n\").str[0]\n",
    "data['Company Name'].value_counts().sort_values(ascending=False).head(20)"
   ]
  },
  {
   "cell_type": "markdown",
   "metadata": {},
   "source": [
    "#### Company Name\n"
   ]
  },
  {
   "cell_type": "markdown",
   "metadata": {},
   "source": [
    "### Sales"
   ]
  },
  {
   "cell_type": "markdown",
   "metadata": {},
   "source": [
    "Removing -1 columns in our data because determining how much salary they are earning is tough."
   ]
  },
  {
   "cell_type": "code",
   "execution_count": 17,
   "metadata": {},
   "outputs": [],
   "source": [
    "data=data[data['Salary Estimate']!='-1']"
   ]
  },
  {
   "cell_type": "markdown",
   "metadata": {},
   "source": [
    "### Salary"
   ]
  },
  {
   "cell_type": "code",
   "execution_count": 18,
   "metadata": {},
   "outputs": [],
   "source": [
    "data['Salary Estimate']=data['Salary Estimate'].str.split('(').str[0]"
   ]
  },
  {
   "cell_type": "code",
   "execution_count": 19,
   "metadata": {},
   "outputs": [],
   "source": [
    "# Replacing the $ and k values\n",
    "data['Salary Estimate']=data['Salary Estimate'].str.replace('$','')\n",
    "data['Salary Estimate']=data['Salary Estimate'].str.replace('K','')"
   ]
  },
  {
   "cell_type": "code",
   "execution_count": 20,
   "metadata": {},
   "outputs": [],
   "source": [
    "data['hourly']=data['Salary Estimate'].apply(lambda x: 1 if 'per hour' in x.lower() else 0)\n"
   ]
  },
  {
   "cell_type": "code",
   "execution_count": 21,
   "metadata": {},
   "outputs": [],
   "source": [
    "data['employer_provided_salary']=data['Salary Estimate'].apply(lambda x: 1 if 'employer provided salary:' in x.lower() else 0)"
   ]
  },
  {
   "cell_type": "code",
   "execution_count": 22,
   "metadata": {},
   "outputs": [],
   "source": [
    "data['Salary Estimate']=data['Salary Estimate'].apply(lambda x: x.lower().replace('per hour','').replace('employer provided salary:',''))"
   ]
  },
  {
   "cell_type": "code",
   "execution_count": 23,
   "metadata": {},
   "outputs": [],
   "source": [
    "data['min_salary']=data['Salary Estimate'].str.split('-').str[0]\n",
    "data['max_salary']=data['Salary Estimate'].str.split('-').str[1]"
   ]
  },
  {
   "cell_type": "code",
   "execution_count": 24,
   "metadata": {},
   "outputs": [],
   "source": [
    "data[['min_salary','max_salary']]=data[['min_salary','max_salary']].apply(pd.to_numeric,axis=1)"
   ]
  },
  {
   "cell_type": "code",
   "execution_count": 25,
   "metadata": {},
   "outputs": [],
   "source": [
    "data['average_salary']=(data['min_salary']+data['max_salary'])/2"
   ]
  },
  {
   "cell_type": "markdown",
   "metadata": {},
   "source": [
    "### Adding a state column "
   ]
  },
  {
   "cell_type": "code",
   "execution_count": 26,
   "metadata": {},
   "outputs": [],
   "source": [
    "data['state']=data['Location'].str.split(',').str[1]\n",
    "data['state']=data['state'].str.replace('Los Angeles','LA')"
   ]
  },
  {
   "cell_type": "markdown",
   "metadata": {},
   "source": [
    "### Size"
   ]
  },
  {
   "cell_type": "code",
   "execution_count": 27,
   "metadata": {},
   "outputs": [],
   "source": [
    "data['Size']=data['Size'].apply(lambda x: x.split('e')[0])"
   ]
  },
  {
   "cell_type": "markdown",
   "metadata": {},
   "source": [
    "### Companies with headquarters and location in the same state?"
   ]
  },
  {
   "cell_type": "code",
   "execution_count": 28,
   "metadata": {},
   "outputs": [],
   "source": [
    "data['same_state']= data.apply(lambda x: 1 if x.Location==x.Headquarters else 0,axis=1)"
   ]
  },
  {
   "cell_type": "markdown",
   "metadata": {},
   "source": [
    "#### Senior positions"
   ]
  },
  {
   "cell_type": "code",
   "execution_count": 29,
   "metadata": {},
   "outputs": [
    {
     "data": {
      "text/plain": [
       "0    573\n",
       "1    169\n",
       "Name: Senior, dtype: int64"
      ]
     },
     "execution_count": 29,
     "metadata": {},
     "output_type": "execute_result"
    }
   ],
   "source": [
    "data['Senior'] = data['Job Title'].apply(lambda x: 1 if 'Senior' in x or 'Sr' in x else 0 )\n",
    "data['Senior'].value_counts()"
   ]
  },
  {
   "cell_type": "markdown",
   "metadata": {},
   "source": [
    "#### Research Positions"
   ]
  },
  {
   "cell_type": "code",
   "execution_count": 30,
   "metadata": {},
   "outputs": [
    {
     "data": {
      "text/plain": [
       "0    714\n",
       "1     28\n",
       "Name: research_positions, dtype: int64"
      ]
     },
     "execution_count": 30,
     "metadata": {},
     "output_type": "execute_result"
    }
   ],
   "source": [
    "data['research_positions'] = data['Job Title'].apply(lambda x: 1 if 'research' in x.lower() else 0 )\n",
    "data['research_positions'].value_counts()"
   ]
  },
  {
   "cell_type": "markdown",
   "metadata": {},
   "source": [
    "#### Data Engineers"
   ]
  },
  {
   "cell_type": "code",
   "execution_count": 31,
   "metadata": {},
   "outputs": [
    {
     "data": {
      "text/plain": [
       "0    623\n",
       "1    119\n",
       "Name: engineers, dtype: int64"
      ]
     },
     "execution_count": 31,
     "metadata": {},
     "output_type": "execute_result"
    }
   ],
   "source": [
    "data['engineers'] = data['Job Title'].apply(lambda x: 1 if 'data engineer' in x.lower() else 0 )\n",
    "data['engineers'].value_counts()"
   ]
  },
  {
   "cell_type": "markdown",
   "metadata": {},
   "source": [
    "#### Data Scientist Positions"
   ]
  },
  {
   "cell_type": "code",
   "execution_count": 32,
   "metadata": {},
   "outputs": [
    {
     "data": {
      "text/plain": [
       "0    463\n",
       "1    279\n",
       "Name: scientist, dtype: int64"
      ]
     },
     "execution_count": 32,
     "metadata": {},
     "output_type": "execute_result"
    }
   ],
   "source": [
    "data['scientist'] = data['Job Title'].apply(lambda x: 1 if 'data scientist' in x.lower() else 0 )\n",
    "data['scientist'].value_counts()"
   ]
  },
  {
   "cell_type": "markdown",
   "metadata": {},
   "source": [
    "#### Managerial positions"
   ]
  },
  {
   "cell_type": "code",
   "execution_count": 33,
   "metadata": {},
   "outputs": [
    {
     "data": {
      "text/plain": [
       "0    717\n",
       "1     25\n",
       "Name: manager, dtype: int64"
      ]
     },
     "execution_count": 33,
     "metadata": {},
     "output_type": "execute_result"
    }
   ],
   "source": [
    "data['manager'] = data['Job Title'].apply(lambda x: 1 if 'manager' in x.lower() else 0 )\n",
    "data['manager'].value_counts()"
   ]
  },
  {
   "cell_type": "markdown",
   "metadata": {},
   "source": [
    "#### Analysts"
   ]
  },
  {
   "cell_type": "code",
   "execution_count": 34,
   "metadata": {},
   "outputs": [
    {
     "data": {
      "text/plain": [
       "0    639\n",
       "1    103\n",
       "Name: analyst, dtype: int64"
      ]
     },
     "execution_count": 34,
     "metadata": {},
     "output_type": "execute_result"
    }
   ],
   "source": [
    "data['analyst'] = data['Job Title'].apply(lambda x: 1 if 'analyst' in x.lower() else 0 )\n",
    "data['analyst'].value_counts()"
   ]
  },
  {
   "cell_type": "markdown",
   "metadata": {},
   "source": [
    "### The different positions in the dataset"
   ]
  },
  {
   "cell_type": "code",
   "execution_count": 35,
   "metadata": {},
   "outputs": [
    {
     "data": {
      "text/html": [
       "<style type=\"text/css\">\n",
       "#T_f3b94_row0_col1 {\n",
       "  background-color: #08306b;\n",
       "  color: #f1f1f1;\n",
       "}\n",
       "#T_f3b94_row1_col1 {\n",
       "  background-color: #549fcd;\n",
       "  color: #f1f1f1;\n",
       "}\n",
       "#T_f3b94_row2_col1 {\n",
       "  background-color: #a0cbe2;\n",
       "  color: #000000;\n",
       "}\n",
       "#T_f3b94_row3_col1 {\n",
       "  background-color: #b4d3e9;\n",
       "  color: #000000;\n",
       "}\n",
       "#T_f3b94_row4_col1 {\n",
       "  background-color: #f5f9fe;\n",
       "  color: #000000;\n",
       "}\n",
       "#T_f3b94_row5_col1 {\n",
       "  background-color: #f7fbff;\n",
       "  color: #000000;\n",
       "}\n",
       "</style>\n",
       "<table id=\"T_f3b94\">\n",
       "  <thead>\n",
       "    <tr>\n",
       "      <th class=\"blank level0\" >&nbsp;</th>\n",
       "      <th id=\"T_f3b94_level0_col0\" class=\"col_heading level0 col0\" >Job Listings</th>\n",
       "      <th id=\"T_f3b94_level0_col1\" class=\"col_heading level0 col1\" >Count</th>\n",
       "    </tr>\n",
       "  </thead>\n",
       "  <tbody>\n",
       "    <tr>\n",
       "      <th id=\"T_f3b94_level0_row0\" class=\"row_heading level0 row0\" >3</th>\n",
       "      <td id=\"T_f3b94_row0_col0\" class=\"data row0 col0\" >Data Scientist</td>\n",
       "      <td id=\"T_f3b94_row0_col1\" class=\"data row0 col1\" >279</td>\n",
       "    </tr>\n",
       "    <tr>\n",
       "      <th id=\"T_f3b94_level0_row1\" class=\"row_heading level0 row1\" >0</th>\n",
       "      <td id=\"T_f3b94_row1_col0\" class=\"data row1 col0\" >Senior</td>\n",
       "      <td id=\"T_f3b94_row1_col1\" class=\"data row1 col1\" >169</td>\n",
       "    </tr>\n",
       "    <tr>\n",
       "      <th id=\"T_f3b94_level0_row2\" class=\"row_heading level0 row2\" >5</th>\n",
       "      <td id=\"T_f3b94_row2_col0\" class=\"data row2 col0\" >Data Engineers</td>\n",
       "      <td id=\"T_f3b94_row2_col1\" class=\"data row2 col1\" >119</td>\n",
       "    </tr>\n",
       "    <tr>\n",
       "      <th id=\"T_f3b94_level0_row3\" class=\"row_heading level0 row3\" >2</th>\n",
       "      <td id=\"T_f3b94_row3_col0\" class=\"data row3 col0\" >Analyst</td>\n",
       "      <td id=\"T_f3b94_row3_col1\" class=\"data row3 col1\" >103</td>\n",
       "    </tr>\n",
       "    <tr>\n",
       "      <th id=\"T_f3b94_level0_row4\" class=\"row_heading level0 row4\" >1</th>\n",
       "      <td id=\"T_f3b94_row4_col0\" class=\"data row4 col0\" >Research</td>\n",
       "      <td id=\"T_f3b94_row4_col1\" class=\"data row4 col1\" >28</td>\n",
       "    </tr>\n",
       "    <tr>\n",
       "      <th id=\"T_f3b94_level0_row5\" class=\"row_heading level0 row5\" >4</th>\n",
       "      <td id=\"T_f3b94_row5_col0\" class=\"data row5 col0\" >Manager</td>\n",
       "      <td id=\"T_f3b94_row5_col1\" class=\"data row5 col1\" >25</td>\n",
       "    </tr>\n",
       "  </tbody>\n",
       "</table>\n"
      ],
      "text/plain": [
       "<pandas.io.formats.style.Styler at 0x24d2f9eb040>"
      ]
     },
     "execution_count": 35,
     "metadata": {},
     "output_type": "execute_result"
    }
   ],
   "source": [
    "positions= data[['Senior','research_positions','analyst','scientist','manager','engineers']]\n",
    "value=[]\n",
    "def position(positions):\n",
    "    for index,values in enumerate(positions):\n",
    "        value.append(positions[values].value_counts()[1])\n",
    "    dataz={'Job Listings':['Senior','Research','Analyst','Data Scientist','Manager','Data Engineers'],'Count':value}\n",
    "    data_positons=pd.DataFrame(dataz)\n",
    "    return data_positons.sort_values(by='Count',ascending=False)\n",
    "z=position(positions)\n",
    "z.style.background_gradient(cmap=\"Blues\")"
   ]
  },
  {
   "cell_type": "markdown",
   "metadata": {},
   "source": [
    "#### Adding another column for the positions of junior and seniors"
   ]
  },
  {
   "cell_type": "code",
   "execution_count": 36,
   "metadata": {},
   "outputs": [
    {
     "data": {
      "text/plain": [
       "none      694\n",
       "senior     46\n",
       "junior      2\n",
       "Name: Seniority, dtype: int64"
      ]
     },
     "execution_count": 36,
     "metadata": {},
     "output_type": "execute_result"
    }
   ],
   "source": [
    "def seniority(x):\n",
    "    if 'sr' in x.lower() or 'Senior' in x.lower() or 'Lead' in x.lower():\n",
    "        return 'senior'\n",
    "    elif 'Junior' in x.lower() or 'jr' in x.lower():\n",
    "        return 'junior'\n",
    "    else:\n",
    "        return 'none'\n",
    "data['Seniority']=data['Job Title'].apply(seniority)\n",
    "data['Seniority'].value_counts()"
   ]
  },
  {
   "cell_type": "markdown",
   "metadata": {},
   "source": [
    "#### Adding other column for data analyst, data scientist , data engineers and research positions.\n",
    "\n",
    "Adding for only these roles because these are relavant for my analysis"
   ]
  },
  {
   "cell_type": "code",
   "execution_count": 37,
   "metadata": {},
   "outputs": [
    {
     "data": {
      "text/plain": [
       "data scientist     279\n",
       "other positions    216\n",
       "data engineer      118\n",
       "data analyst       103\n",
       "research            26\n",
       "Name: Job Title, dtype: int64"
      ]
     },
     "execution_count": 37,
     "metadata": {},
     "output_type": "execute_result"
    }
   ],
   "source": [
    "def roles(x):\n",
    "    if 'data scientist' in x.lower():\n",
    "        return 'data scientist'\n",
    "    elif 'analyst' in x.lower():\n",
    "        return 'data analyst'\n",
    "    elif 'data engineer' in x.lower():\n",
    "        return 'data engineer'\n",
    "    elif 'research' in x.lower():\n",
    "        return 'research'\n",
    "    else:\n",
    "        return 'other positions'\n",
    "data['Job Title']=data['Job Title'].apply(roles)\n",
    "data['Job Title'].value_counts()"
   ]
  },
  {
   "cell_type": "code",
   "execution_count": 38,
   "metadata": {},
   "outputs": [],
   "source": [
    "data[['min_salary','max_salary','average_salary','Rating','Competitors']]=data[['min_salary','max_salary','average_salary','Rating','Competitors']].apply(pd.to_numeric, axis = 1)"
   ]
  },
  {
   "cell_type": "code",
   "execution_count": 39,
   "metadata": {},
   "outputs": [],
   "source": [
    "data[['min_salary','max_salary','average_salary']]=data[['min_salary','max_salary','average_salary']]*1000"
   ]
  },
  {
   "cell_type": "code",
   "execution_count": null,
   "metadata": {},
   "outputs": [],
   "source": []
  },
  {
   "cell_type": "markdown",
   "metadata": {},
   "source": [
    "### Revenue"
   ]
  },
  {
   "cell_type": "code",
   "execution_count": 40,
   "metadata": {},
   "outputs": [
    {
     "data": {
      "text/plain": [
       "array(['$50 to $100 million (USD)', '$2 to $5 billion (USD)',\n",
       "       '$100 to $500 million (USD)', '$500 million to $1 billion (USD)',\n",
       "       'Unknown / Non-Applicable', '$1 to $2 billion (USD)',\n",
       "       '$25 to $50 million (USD)', '$10+ billion (USD)',\n",
       "       '$1 to $5 million (USD)', '$10 to $25 million (USD)',\n",
       "       '$5 to $10 billion (USD)', 'Less than $1 million (USD)',\n",
       "       '$5 to $10 million (USD)', '-1'], dtype=object)"
      ]
     },
     "execution_count": 40,
     "metadata": {},
     "output_type": "execute_result"
    }
   ],
   "source": [
    "data['Revenue'].unique()"
   ]
  },
  {
   "cell_type": "markdown",
   "metadata": {},
   "source": [
    "Checking how many job postings are listed by companies based on their revenue."
   ]
  },
  {
   "cell_type": "code",
   "execution_count": 41,
   "metadata": {},
   "outputs": [
    {
     "data": {
      "text/plain": [
       "Text(0.5, 1.0, 'Job Postings')"
      ]
     },
     "execution_count": 41,
     "metadata": {},
     "output_type": "execute_result"
    },
    {
     "data": {
      "image/png": "[encoded data removed]",
      "text/plain": [
       "<Figure size 1000x400 with 1 Axes>"
      ]
     },
     "metadata": {},
     "output_type": "display_data"
    }
   ],
   "source": [
    "data['Revenue'].value_counts().sort_values(ascending=False).reset_index()\n",
    "plt.figure(figsize=(10,4))\n",
    "sns.countplot(y='Revenue',data=data,order = data['Revenue'].value_counts().index,palette='twilight_r')\n",
    "plt.xlabel('Count of Listings',size=15)\n",
    "plt.ylabel('Revenue',size=15)\n",
    "plt.title('Job Postings',size=20)"
   ]
  },
  {
   "cell_type": "markdown",
   "metadata": {},
   "source": [
    "There are many companies with unknown/Non-Applicable revenue and the companies with largest revenue are hiring the most number of employees."
   ]
  },
  {
   "cell_type": "markdown",
   "metadata": {},
   "source": [
    "Average salary given to the employees by these companies. Not considering the role of the candidate."
   ]
  },
  {
   "cell_type": "markdown",
   "metadata": {},
   "source": [
    "##### What we can infer from the above plot is that the companies that are earning more will be paying more for the candidates. So, let's create a hypothesis that:Companies that draw in huge revenues also give the highest average salary."
   ]
  },
  {
   "cell_type": "code",
   "execution_count": 42,
   "metadata": {},
   "outputs": [
    {
     "data": {
      "text/plain": [
       "Text(0.5, 1.0, 'Revenue and Average Salary')"
      ]
     },
     "execution_count": 42,
     "metadata": {},
     "output_type": "execute_result"
    },
    {
     "data": {
      "image/png": "[encoded data removed]",
      "text/plain": [
       "<Figure size 1000x400 with 1 Axes>"
      ]
     },
     "metadata": {},
     "output_type": "display_data"
    }
   ],
   "source": [
    "revenue_size = data.groupby(by='Revenue')['average_salary'].mean().sort_values(ascending=False).reset_index()\n",
    "plt.figure(figsize=(10,4))\n",
    "sns.barplot(x=revenue_size['average_salary'],y=revenue_size['Revenue'],palette='Blues_r')\n",
    "plt.title('Revenue and Average Salary',size=15)\n"
   ]
  },
  {
   "cell_type": "markdown",
   "metadata": {},
   "source": [
    "We cannot reject the hypothesis because - from the above 2 figures it is evident that companies with huge revenue are listing jobs for high average salary. This is well known to everyone because if the company is not earning, it will not have money to pay its employees and in-turn will not be open to hiring."
   ]
  },
  {
   "cell_type": "code",
   "execution_count": 43,
   "metadata": {},
   "outputs": [
    {
     "data": {
      "text/html": [
       "<div>\n",
       "<style scoped>\n",
       "    .dataframe tbody tr th:only-of-type {\n",
       "        vertical-align: middle;\n",
       "    }\n",
       "\n",
       "    .dataframe tbody tr th {\n",
       "        vertical-align: top;\n",
       "    }\n",
       "\n",
       "    .dataframe thead th {\n",
       "        text-align: right;\n",
       "    }\n",
       "</style>\n",
       "<table border=\"1\" class=\"dataframe\">\n",
       "  <thead>\n",
       "    <tr style=\"text-align: right;\">\n",
       "      <th></th>\n",
       "      <th></th>\n",
       "      <th>average_salary</th>\n",
       "    </tr>\n",
       "    <tr>\n",
       "      <th>Revenue</th>\n",
       "      <th>Seniority</th>\n",
       "      <th></th>\n",
       "    </tr>\n",
       "  </thead>\n",
       "  <tbody>\n",
       "    <tr>\n",
       "      <th rowspan=\"3\" valign=\"top\">$1 to $2 billion (USD)</th>\n",
       "      <th>junior</th>\n",
       "      <td>106500.000000</td>\n",
       "    </tr>\n",
       "    <tr>\n",
       "      <th>none</th>\n",
       "      <td>103008.771930</td>\n",
       "    </tr>\n",
       "    <tr>\n",
       "      <th>senior</th>\n",
       "      <td>147000.000000</td>\n",
       "    </tr>\n",
       "    <tr>\n",
       "      <th>$1 to $5 million (USD)</th>\n",
       "      <th>none</th>\n",
       "      <td>119312.500000</td>\n",
       "    </tr>\n",
       "    <tr>\n",
       "      <th>$10 to $25 million (USD)</th>\n",
       "      <th>none</th>\n",
       "      <td>100359.375000</td>\n",
       "    </tr>\n",
       "    <tr>\n",
       "      <th rowspan=\"2\" valign=\"top\">$10+ billion (USD)</th>\n",
       "      <th>none</th>\n",
       "      <td>114325.688073</td>\n",
       "    </tr>\n",
       "    <tr>\n",
       "      <th>senior</th>\n",
       "      <td>121266.666667</td>\n",
       "    </tr>\n",
       "    <tr>\n",
       "      <th rowspan=\"2\" valign=\"top\">$100 to $500 million (USD)</th>\n",
       "      <th>none</th>\n",
       "      <td>80869.047619</td>\n",
       "    </tr>\n",
       "    <tr>\n",
       "      <th>senior</th>\n",
       "      <td>110571.428571</td>\n",
       "    </tr>\n",
       "    <tr>\n",
       "      <th rowspan=\"2\" valign=\"top\">$2 to $5 billion (USD)</th>\n",
       "      <th>none</th>\n",
       "      <td>93666.666667</td>\n",
       "    </tr>\n",
       "    <tr>\n",
       "      <th>senior</th>\n",
       "      <td>107500.000000</td>\n",
       "    </tr>\n",
       "    <tr>\n",
       "      <th rowspan=\"3\" valign=\"top\">$25 to $50 million (USD)</th>\n",
       "      <th>junior</th>\n",
       "      <td>56500.000000</td>\n",
       "    </tr>\n",
       "    <tr>\n",
       "      <th>none</th>\n",
       "      <td>80263.888889</td>\n",
       "    </tr>\n",
       "    <tr>\n",
       "      <th>senior</th>\n",
       "      <td>122500.000000</td>\n",
       "    </tr>\n",
       "    <tr>\n",
       "      <th rowspan=\"2\" valign=\"top\">$5 to $10 billion (USD)</th>\n",
       "      <th>none</th>\n",
       "      <td>92264.705882</td>\n",
       "    </tr>\n",
       "    <tr>\n",
       "      <th>senior</th>\n",
       "      <td>110500.000000</td>\n",
       "    </tr>\n",
       "    <tr>\n",
       "      <th rowspan=\"2\" valign=\"top\">$5 to $10 million (USD)</th>\n",
       "      <th>none</th>\n",
       "      <td>124411.764706</td>\n",
       "    </tr>\n",
       "    <tr>\n",
       "      <th>senior</th>\n",
       "      <td>155000.000000</td>\n",
       "    </tr>\n",
       "    <tr>\n",
       "      <th>$50 to $100 million (USD)</th>\n",
       "      <th>none</th>\n",
       "      <td>100565.217391</td>\n",
       "    </tr>\n",
       "    <tr>\n",
       "      <th rowspan=\"2\" valign=\"top\">$500 million to $1 billion (USD)</th>\n",
       "      <th>none</th>\n",
       "      <td>87888.888889</td>\n",
       "    </tr>\n",
       "    <tr>\n",
       "      <th>senior</th>\n",
       "      <td>70833.333333</td>\n",
       "    </tr>\n",
       "    <tr>\n",
       "      <th>-1</th>\n",
       "      <th>none</th>\n",
       "      <td>117500.000000</td>\n",
       "    </tr>\n",
       "    <tr>\n",
       "      <th>Less than $1 million (USD)</th>\n",
       "      <th>none</th>\n",
       "      <td>108625.000000</td>\n",
       "    </tr>\n",
       "    <tr>\n",
       "      <th rowspan=\"2\" valign=\"top\">Unknown / Non-Applicable</th>\n",
       "      <th>none</th>\n",
       "      <td>104787.564767</td>\n",
       "    </tr>\n",
       "    <tr>\n",
       "      <th>senior</th>\n",
       "      <td>95100.000000</td>\n",
       "    </tr>\n",
       "  </tbody>\n",
       "</table>\n",
       "</div>"
      ],
      "text/plain": [
       "                                            average_salary\n",
       "Revenue                          Seniority                \n",
       "$1 to $2 billion (USD)           junior      106500.000000\n",
       "                                 none        103008.771930\n",
       "                                 senior      147000.000000\n",
       "$1 to $5 million (USD)           none        119312.500000\n",
       "$10 to $25 million (USD)         none        100359.375000\n",
       "$10+ billion (USD)               none        114325.688073\n",
       "                                 senior      121266.666667\n",
       "$100 to $500 million (USD)       none         80869.047619\n",
       "                                 senior      110571.428571\n",
       "$2 to $5 billion (USD)           none         93666.666667\n",
       "                                 senior      107500.000000\n",
       "$25 to $50 million (USD)         junior       56500.000000\n",
       "                                 none         80263.888889\n",
       "                                 senior      122500.000000\n",
       "$5 to $10 billion (USD)          none         92264.705882\n",
       "                                 senior      110500.000000\n",
       "$5 to $10 million (USD)          none        124411.764706\n",
       "                                 senior      155000.000000\n",
       "$50 to $100 million (USD)        none        100565.217391\n",
       "$500 million to $1 billion (USD) none         87888.888889\n",
       "                                 senior       70833.333333\n",
       "-1                               none        117500.000000\n",
       "Less than $1 million (USD)       none        108625.000000\n",
       "Unknown / Non-Applicable         none        104787.564767\n",
       "                                 senior       95100.000000"
      ]
     },
     "execution_count": 43,
     "metadata": {},
     "output_type": "execute_result"
    }
   ],
   "source": [
    "revenue_seniority = pd.DataFrame(data.groupby(by=['Revenue','Seniority'])['average_salary'].mean())\n",
    "revenue_seniority"
   ]
  },
  {
   "cell_type": "markdown",
   "metadata": {},
   "source": [
    "#### Distribution of average_salary and Rating"
   ]
  },
  {
   "cell_type": "code",
   "execution_count": 44,
   "metadata": {},
   "outputs": [
    {
     "data": {
      "text/plain": [
       "<AxesSubplot:xlabel='Rating', ylabel='Count'>"
      ]
     },
     "execution_count": 44,
     "metadata": {},
     "output_type": "execute_result"
    },
    {
     "data": {
      "image/png": "[encoded data removed]",
      "text/plain": [
       "<Figure size 1000x1000 with 2 Axes>"
      ]
     },
     "metadata": {},
     "output_type": "display_data"
    }
   ],
   "source": [
    "data_numerical=data[['average_salary','Rating','Competitors']]\n",
    "fig = plt.figure(figsize=(10,10))\n",
    "gs = fig.add_gridspec(2,2)\n",
    "gs.update(wspace=0.4, hspace=0.4)\n",
    "# adding figures\n",
    "ax0 = fig.add_subplot(gs[0,0])\n",
    "ax1 = fig.add_subplot(gs[0,1])\n",
    "sns.histplot(ax=ax0,x=data['average_salary'],color='darkred',kde=True,alpha=0.5)\n",
    "sns.histplot(ax=ax1,x=data['Rating'],color='darkred',kde=True,alpha=0.5)"
   ]
  },
  {
   "cell_type": "markdown",
   "metadata": {},
   "source": [
    "The distributions appear to be normal. But for further confirmation, checking the skewness and kurtosis will give us better clarity. Usually kurtosis in the range -3 to +3 is accepted."
   ]
  },
  {
   "cell_type": "markdown",
   "metadata": {},
   "source": [
    "#### Skewness and Kurtosis of the above histograms"
   ]
  },
  {
   "cell_type": "code",
   "execution_count": 45,
   "metadata": {},
   "outputs": [
    {
     "data": {
      "text/html": [
       "<div>\n",
       "<style scoped>\n",
       "    .dataframe tbody tr th:only-of-type {\n",
       "        vertical-align: middle;\n",
       "    }\n",
       "\n",
       "    .dataframe tbody tr th {\n",
       "        vertical-align: top;\n",
       "    }\n",
       "\n",
       "    .dataframe thead th {\n",
       "        text-align: right;\n",
       "    }\n",
       "</style>\n",
       "<table border=\"1\" class=\"dataframe\">\n",
       "  <thead>\n",
       "    <tr style=\"text-align: right;\">\n",
       "      <th></th>\n",
       "      <th>Columns</th>\n",
       "      <th>Skewness</th>\n",
       "      <th>Kurtosis</th>\n",
       "    </tr>\n",
       "  </thead>\n",
       "  <tbody>\n",
       "    <tr>\n",
       "      <th>0</th>\n",
       "      <td>average_salary</td>\n",
       "      <td>0.609474</td>\n",
       "      <td>0.889196</td>\n",
       "    </tr>\n",
       "    <tr>\n",
       "      <th>1</th>\n",
       "      <td>Rating</td>\n",
       "      <td>-2.814020</td>\n",
       "      <td>14.304127</td>\n",
       "    </tr>\n",
       "    <tr>\n",
       "      <th>2</th>\n",
       "      <td>Competitors</td>\n",
       "      <td>0.613365</td>\n",
       "      <td>-1.549975</td>\n",
       "    </tr>\n",
       "  </tbody>\n",
       "</table>\n",
       "</div>"
      ],
      "text/plain": [
       "          Columns  Skewness   Kurtosis\n",
       "0  average_salary  0.609474   0.889196\n",
       "1          Rating -2.814020  14.304127\n",
       "2     Competitors  0.613365  -1.549975"
      ]
     },
     "execution_count": 45,
     "metadata": {},
     "output_type": "execute_result"
    }
   ],
   "source": [
    "s_k=[]\n",
    "for i in data_numerical.columns:\n",
    "    s_k.append([i,data_numerical[i].skew(),data_numerical[i].kurt()])\n",
    "skew_kurt=pd.DataFrame(s_k,columns=['Columns','Skewness','Kurtosis'])\n",
    "skew_kurt"
   ]
  },
  {
   "cell_type": "markdown",
   "metadata": {},
   "source": [
    "The average_salary and competitors follows a normal distribution but for Rating column the kurtosis is 14 that is 11 more than the accepted value (accepted value of kurtosis is -3 to +3. Have to normalize/standardize this column for the machine learning model because when applying regression, the predictions will be not accurate if the distribution is not normal."
   ]
  },
  {
   "cell_type": "code",
   "execution_count": 46,
   "metadata": {},
   "outputs": [
    {
     "data": {
      "text/plain": [
       "<AxesSubplot:>"
      ]
     },
     "execution_count": 46,
     "metadata": {},
     "output_type": "execute_result"
    },
    {
     "data": {
      "image/png": "[encoded data removed]",
      "text/plain": [
       "<Figure size 640x480 with 2 Axes>"
      ]
     },
     "metadata": {},
     "output_type": "display_data"
    }
   ],
   "source": [
    "matrix = np.triu(data_numerical.corr())\n",
    "colors=['lightblue','grey']\n",
    "sns.heatmap(data=data_numerical.corr(), annot=True, mask=matrix,cmap='Accent_r')"
   ]
  },
  {
   "cell_type": "markdown",
   "metadata": {},
   "source": [
    "#### Earnings of the above positions (average salary estimate)"
   ]
  },
  {
   "cell_type": "code",
   "execution_count": 47,
   "metadata": {},
   "outputs": [
    {
     "data": {
      "application/vnd.plotly.v1+json": {
       "config": {
        "plotlyServerURL": "https://plotly.com"
       },
       "data": [
        {
         "marker": {
          "color": [
           "lightslategray",
           "lightslategray",
           "lightslategray",
           "lightslategray",
           "crimson"
          ]
         },
         "type": "bar",
         "x": [
          "data analyst",
          "other positions",
          "research",
          "data engineer",
          "data scientist"
         ],
         "y": [
          65786.40776699029,
          92518.51851851853,
          100750,
          105800.84745762713,
          117564.51612903226
         ]
        }
       ],
       "layout": {
        "template": {
         "data": {
          "bar": [
           {
            "error_x": {
             "color": "#2a3f5f"
            },
            "error_y": {
             "color": "#2a3f5f"
            },
            "marker": {
             "line": {
              "color": "#E5ECF6",
              "width": 0.5
             },
             "pattern": {
              "fillmode": "overlay",
              "size": 10,
              "solidity": 0.2
             }
            },
            "type": "bar"
           }
          ],
          "barpolar": [
           {
            "marker": {
             "line": {
              "color": "#E5ECF6",
              "width": 0.5
             },
             "pattern": {
              "fillmode": "overlay",
              "size": 10,
              "solidity": 0.2
             }
            },
            "type": "barpolar"
           }
          ],
          "carpet": [
           {
            "aaxis": {
             "endlinecolor": "#2a3f5f",
             "gridcolor": "white",
             "linecolor": "white",
             "minorgridcolor": "white",
             "startlinecolor": "#2a3f5f"
            },
            "baxis": {
             "endlinecolor": "#2a3f5f",
             "gridcolor": "white",
             "linecolor": "white",
             "minorgridcolor": "white",
             "startlinecolor": "#2a3f5f"
            },
            "type": "carpet"
           }
          ],
          "choropleth": [
           {
            "colorbar": {
             "outlinewidth": 0,
             "ticks": ""
            },
            "type": "choropleth"
           }
          ],
          "contour": [
           {
            "colorbar": {
             "outlinewidth": 0,
             "ticks": ""
            },
            "colorscale": [
             [
              0,
              "#0d0887"
             ],
             [
              0.1111111111111111,
              "#46039f"
             ],
             [
              0.2222222222222222,
              "#7201a8"
             ],
             [
              0.3333333333333333,
              "#9c179e"
             ],
             [
              0.4444444444444444,
              "#bd3786"
             ],
             [
              0.5555555555555556,
              "#d8576b"
             ],
             [
              0.6666666666666666,
              "#ed7953"
             ],
             [
              0.7777777777777778,
              "#fb9f3a"
             ],
             [
              0.8888888888888888,
              "#fdca26"
             ],
             [
              1,
              "#f0f921"
             ]
            ],
            "type": "contour"
           }
          ],
          "contourcarpet": [
           {
            "colorbar": {
             "outlinewidth": 0,
             "ticks": ""
            },
            "type": "contourcarpet"
           }
          ],
          "heatmap": [
           {
            "colorbar": {
             "outlinewidth": 0,
             "ticks": ""
            },
            "colorscale": [
             [
              0,
              "#0d0887"
             ],
             [
              0.1111111111111111,
              "#46039f"
             ],
             [
              0.2222222222222222,
              "#7201a8"
             ],
             [
              0.3333333333333333,
              "#9c179e"
             ],
             [
              0.4444444444444444,
              "#bd3786"
             ],
             [
              0.5555555555555556,
              "#d8576b"
             ],
             [
              0.6666666666666666,
              "#ed7953"
             ],
             [
              0.7777777777777778,
              "#fb9f3a"
             ],
             [
              0.8888888888888888,
              "#fdca26"
             ],
             [
              1,
              "#f0f921"
             ]
            ],
            "type": "heatmap"
           }
          ],
          "heatmapgl": [
           {
            "colorbar": {
             "outlinewidth": 0,
             "ticks": ""
            },
            "colorscale": [
             [
              0,
              "#0d0887"
             ],
             [
              0.1111111111111111,
              "#46039f"
             ],
             [
              0.2222222222222222,
              "#7201a8"
             ],
             [
              0.3333333333333333,
              "#9c179e"
             ],
             [
              0.4444444444444444,
              "#bd3786"
             ],
             [
              0.5555555555555556,
              "#d8576b"
             ],
             [
              0.6666666666666666,
              "#ed7953"
             ],
             [
              0.7777777777777778,
              "#fb9f3a"
             ],
             [
              0.8888888888888888,
              "#fdca26"
             ],
             [
              1,
              "#f0f921"
             ]
            ],
            "type": "heatmapgl"
           }
          ],
          "histogram": [
           {
            "marker": {
             "pattern": {
              "fillmode": "overlay",
              "size": 10,
              "solidity": 0.2
             }
            },
            "type": "histogram"
           }
          ],
          "histogram2d": [
           {
            "colorbar": {
             "outlinewidth": 0,
             "ticks": ""
            },
            "colorscale": [
             [
              0,
              "#0d0887"
             ],
             [
              0.1111111111111111,
              "#46039f"
             ],
             [
              0.2222222222222222,
              "#7201a8"
             ],
             [
              0.3333333333333333,
              "#9c179e"
             ],
             [
              0.4444444444444444,
              "#bd3786"
             ],
             [
              0.5555555555555556,
              "#d8576b"
             ],
             [
              0.6666666666666666,
              "#ed7953"
             ],
             [
              0.7777777777777778,
              "#fb9f3a"
             ],
             [
              0.8888888888888888,
              "#fdca26"
             ],
             [
              1,
              "#f0f921"
             ]
            ],
            "type": "histogram2d"
           }
          ],
          "histogram2dcontour": [
           {
            "colorbar": {
             "outlinewidth": 0,
             "ticks": ""
            },
            "colorscale": [
             [
              0,
              "#0d0887"
             ],
             [
              0.1111111111111111,
              "#46039f"
             ],
             [
              0.2222222222222222,
              "#7201a8"
             ],
             [
              0.3333333333333333,
              "#9c179e"
             ],
             [
              0.4444444444444444,
              "#bd3786"
             ],
             [
              0.5555555555555556,
              "#d8576b"
             ],
             [
              0.6666666666666666,
              "#ed7953"
             ],
             [
              0.7777777777777778,
              "#fb9f3a"
             ],
             [
              0.8888888888888888,
              "#fdca26"
             ],
             [
              1,
              "#f0f921"
             ]
            ],
            "type": "histogram2dcontour"
           }
          ],
          "mesh3d": [
           {
            "colorbar": {
             "outlinewidth": 0,
             "ticks": ""
            },
            "type": "mesh3d"
           }
          ],
          "parcoords": [
           {
            "line": {
             "colorbar": {
              "outlinewidth": 0,
              "ticks": ""
             }
            },
            "type": "parcoords"
           }
          ],
          "pie": [
           {
            "automargin": true,
            "type": "pie"
           }
          ],
          "scatter": [
           {
            "fillpattern": {
             "fillmode": "overlay",
             "size": 10,
             "solidity": 0.2
            },
            "type": "scatter"
           }
          ],
          "scatter3d": [
           {
            "line": {
             "colorbar": {
              "outlinewidth": 0,
              "ticks": ""
             }
            },
            "marker": {
             "colorbar": {
              "outlinewidth": 0,
              "ticks": ""
             }
            },
            "type": "scatter3d"
           }
          ],
          "scattercarpet": [
           {
            "marker": {
             "colorbar": {
              "outlinewidth": 0,
              "ticks": ""
             }
            },
            "type": "scattercarpet"
           }
          ],
          "scattergeo": [
           {
            "marker": {
             "colorbar": {
              "outlinewidth": 0,
              "ticks": ""
             }
            },
            "type": "scattergeo"
           }
          ],
          "scattergl": [
           {
            "marker": {
             "colorbar": {
              "outlinewidth": 0,
              "ticks": ""
             }
            },
            "type": "scattergl"
           }
          ],
          "scattermapbox": [
           {
            "marker": {
             "colorbar": {
              "outlinewidth": 0,
              "ticks": ""
             }
            },
            "type": "scattermapbox"
           }
          ],
          "scatterpolar": [
           {
            "marker": {
             "colorbar": {
              "outlinewidth": 0,
              "ticks": ""
             }
            },
            "type": "scatterpolar"
           }
          ],
          "scatterpolargl": [
           {
            "marker": {
             "colorbar": {
              "outlinewidth": 0,
              "ticks": ""
             }
            },
            "type": "scatterpolargl"
           }
          ],
          "scatterternary": [
           {
            "marker": {
             "colorbar": {
              "outlinewidth": 0,
              "ticks": ""
             }
            },
            "type": "scatterternary"
           }
          ],
          "surface": [
           {
            "colorbar": {
             "outlinewidth": 0,
             "ticks": ""
            },
            "colorscale": [
             [
              0,
              "#0d0887"
             ],
             [
              0.1111111111111111,
              "#46039f"
             ],
             [
              0.2222222222222222,
              "#7201a8"
             ],
             [
              0.3333333333333333,
              "#9c179e"
             ],
             [
              0.4444444444444444,
              "#bd3786"
             ],
             [
              0.5555555555555556,
              "#d8576b"
             ],
             [
              0.6666666666666666,
              "#ed7953"
             ],
             [
              0.7777777777777778,
              "#fb9f3a"
             ],
             [
              0.8888888888888888,
              "#fdca26"
             ],
             [
              1,
              "#f0f921"
             ]
            ],
            "type": "surface"
           }
          ],
          "table": [
           {
            "cells": {
             "fill": {
              "color": "#EBF0F8"
             },
             "line": {
              "color": "white"
             }
            },
            "header": {
             "fill": {
              "color": "#C8D4E3"
             },
             "line": {
              "color": "white"
             }
            },
            "type": "table"
           }
          ]
         },
         "layout": {
          "annotationdefaults": {
           "arrowcolor": "#2a3f5f",
           "arrowhead": 0,
           "arrowwidth": 1
          },
          "autotypenumbers": "strict",
          "coloraxis": {
           "colorbar": {
            "outlinewidth": 0,
            "ticks": ""
           }
          },
          "colorscale": {
           "diverging": [
            [
             0,
             "#8e0152"
            ],
            [
             0.1,
             "#c51b7d"
            ],
            [
             0.2,
             "#de77ae"
            ],
            [
             0.3,
             "#f1b6da"
            ],
            [
             0.4,
             "#fde0ef"
            ],
            [
             0.5,
             "#f7f7f7"
            ],
            [
             0.6,
             "#e6f5d0"
            ],
            [
             0.7,
             "#b8e186"
            ],
            [
             0.8,
             "#7fbc41"
            ],
            [
             0.9,
             "#4d9221"
            ],
            [
             1,
             "#276419"
            ]
           ],
           "sequential": [
            [
             0,
             "#0d0887"
            ],
            [
             0.1111111111111111,
             "#46039f"
            ],
            [
             0.2222222222222222,
             "#7201a8"
            ],
            [
             0.3333333333333333,
             "#9c179e"
            ],
            [
             0.4444444444444444,
             "#bd3786"
            ],
            [
             0.5555555555555556,
             "#d8576b"
            ],
            [
             0.6666666666666666,
             "#ed7953"
            ],
            [
             0.7777777777777778,
             "#fb9f3a"
            ],
            [
             0.8888888888888888,
             "#fdca26"
            ],
            [
             1,
             "#f0f921"
            ]
           ],
           "sequentialminus": [
            [
             0,
             "#0d0887"
            ],
            [
             0.1111111111111111,
             "#46039f"
            ],
            [
             0.2222222222222222,
             "#7201a8"
            ],
            [
             0.3333333333333333,
             "#9c179e"
            ],
            [
             0.4444444444444444,
             "#bd3786"
            ],
            [
             0.5555555555555556,
             "#d8576b"
            ],
            [
             0.6666666666666666,
             "#ed7953"
            ],
            [
             0.7777777777777778,
             "#fb9f3a"
            ],
            [
             0.8888888888888888,
             "#fdca26"
            ],
            [
             1,
             "#f0f921"
            ]
           ]
          },
          "colorway": [
           "#636efa",
           "#EF553B",
           "#00cc96",
           "#ab63fa",
           "#FFA15A",
           "#19d3f3",
           "#FF6692",
           "#B6E880",
           "#FF97FF",
           "#FECB52"
          ],
          "font": {
           "color": "#2a3f5f"
          },
          "geo": {
           "bgcolor": "white",
           "lakecolor": "white",
           "landcolor": "#E5ECF6",
           "showlakes": true,
           "showland": true,
           "subunitcolor": "white"
          },
          "hoverlabel": {
           "align": "left"
          },
          "hovermode": "closest",
          "mapbox": {
           "style": "light"
          },
          "paper_bgcolor": "white",
          "plot_bgcolor": "#E5ECF6",
          "polar": {
           "angularaxis": {
            "gridcolor": "white",
            "linecolor": "white",
            "ticks": ""
           },
           "bgcolor": "#E5ECF6",
           "radialaxis": {
            "gridcolor": "white",
            "linecolor": "white",
            "ticks": ""
           }
          },
          "scene": {
           "xaxis": {
            "backgroundcolor": "#E5ECF6",
            "gridcolor": "white",
            "gridwidth": 2,
            "linecolor": "white",
            "showbackground": true,
            "ticks": "",
            "zerolinecolor": "white"
           },
           "yaxis": {
            "backgroundcolor": "#E5ECF6",
            "gridcolor": "white",
            "gridwidth": 2,
            "linecolor": "white",
            "showbackground": true,
            "ticks": "",
            "zerolinecolor": "white"
           },
           "zaxis": {
            "backgroundcolor": "#E5ECF6",
            "gridcolor": "white",
            "gridwidth": 2,
            "linecolor": "white",
            "showbackground": true,
            "ticks": "",
            "zerolinecolor": "white"
           }
          },
          "shapedefaults": {
           "line": {
            "color": "#2a3f5f"
           }
          },
          "ternary": {
           "aaxis": {
            "gridcolor": "white",
            "linecolor": "white",
            "ticks": ""
           },
           "baxis": {
            "gridcolor": "white",
            "linecolor": "white",
            "ticks": ""
           },
           "bgcolor": "#E5ECF6",
           "caxis": {
            "gridcolor": "white",
            "linecolor": "white",
            "ticks": ""
           }
          },
          "title": {
           "x": 0.05
          },
          "xaxis": {
           "automargin": true,
           "gridcolor": "white",
           "linecolor": "white",
           "ticks": "",
           "title": {
            "standoff": 15
           },
           "zerolinecolor": "white",
           "zerolinewidth": 2
          },
          "yaxis": {
           "automargin": true,
           "gridcolor": "white",
           "linecolor": "white",
           "ticks": "",
           "title": {
            "standoff": 15
           },
           "zerolinecolor": "white",
           "zerolinewidth": 2
          }
         }
        },
        "title": {
         "text": "Average Salary"
        }
       }
      }
     },
     "metadata": {},
     "output_type": "display_data"
    }
   ],
   "source": [
    "position_salary = data.groupby(by='Job Title')['average_salary'].mean().sort_values(ascending=True).reset_index()\n",
    "colors = ['lightslategray',] * 5\n",
    "colors[4] = 'crimson'\n",
    "fig = go.Figure(data=[go.Bar(\n",
    "    y=position_salary['average_salary'],\n",
    "    x=position_salary['Job Title'],\n",
    "    marker_color=colors # marker color can be a single color value or an iterable\n",
    ")])\n",
    "fig.update_layout(title_text='Average Salary')\n",
    "\n"
   ]
  },
  {
   "cell_type": "markdown",
   "metadata": {},
   "source": [
    "#### Job offerings depending on the position in our data."
   ]
  },
  {
   "cell_type": "code",
   "execution_count": 48,
   "metadata": {},
   "outputs": [
    {
     "data": {
      "text/html": [
       "<style type=\"text/css\">\n",
       "#T_8ec91_row0_col0, #T_8ec91_row5_col0, #T_8ec91_row11_col0 {\n",
       "  background-color: #f7fbff;\n",
       "  color: #000000;\n",
       "}\n",
       "#T_8ec91_row1_col0 {\n",
       "  background-color: #a3cce3;\n",
       "  color: #000000;\n",
       "}\n",
       "#T_8ec91_row2_col0 {\n",
       "  background-color: #f5f9fe;\n",
       "  color: #000000;\n",
       "}\n",
       "#T_8ec91_row3_col0 {\n",
       "  background-color: #9ac8e0;\n",
       "  color: #000000;\n",
       "}\n",
       "#T_8ec91_row4_col0 {\n",
       "  background-color: #edf4fc;\n",
       "  color: #000000;\n",
       "}\n",
       "#T_8ec91_row6_col0 {\n",
       "  background-color: #08306b;\n",
       "  color: #f1f1f1;\n",
       "}\n",
       "#T_8ec91_row7_col0 {\n",
       "  background-color: #f0f6fd;\n",
       "  color: #000000;\n",
       "}\n",
       "#T_8ec91_row8_col0 {\n",
       "  background-color: #1f6eb3;\n",
       "  color: #f1f1f1;\n",
       "}\n",
       "#T_8ec91_row9_col0 {\n",
       "  background-color: #eef5fc;\n",
       "  color: #000000;\n",
       "}\n",
       "#T_8ec91_row10_col0 {\n",
       "  background-color: #e6f0f9;\n",
       "  color: #000000;\n",
       "}\n",
       "</style>\n",
       "<table id=\"T_8ec91\">\n",
       "  <thead>\n",
       "    <tr>\n",
       "      <th class=\"blank\" >&nbsp;</th>\n",
       "      <th class=\"blank level0\" >&nbsp;</th>\n",
       "      <th id=\"T_8ec91_level0_col0\" class=\"col_heading level0 col0\" >Size</th>\n",
       "    </tr>\n",
       "    <tr>\n",
       "      <th class=\"index_name level0\" >Job Title</th>\n",
       "      <th class=\"index_name level1\" >Seniority</th>\n",
       "      <th class=\"blank col0\" >&nbsp;</th>\n",
       "    </tr>\n",
       "  </thead>\n",
       "  <tbody>\n",
       "    <tr>\n",
       "      <th id=\"T_8ec91_level0_row0\" class=\"row_heading level0 row0\" rowspan=\"3\">data analyst</th>\n",
       "      <th id=\"T_8ec91_level1_row0\" class=\"row_heading level1 row0\" >junior</th>\n",
       "      <td id=\"T_8ec91_row0_col0\" class=\"data row0 col0\" >1</td>\n",
       "    </tr>\n",
       "    <tr>\n",
       "      <th id=\"T_8ec91_level1_row1\" class=\"row_heading level1 row1\" >none</th>\n",
       "      <td id=\"T_8ec91_row1_col0\" class=\"data row1 col0\" >97</td>\n",
       "    </tr>\n",
       "    <tr>\n",
       "      <th id=\"T_8ec91_level1_row2\" class=\"row_heading level1 row2\" >senior</th>\n",
       "      <td id=\"T_8ec91_row2_col0\" class=\"data row2 col0\" >5</td>\n",
       "    </tr>\n",
       "    <tr>\n",
       "      <th id=\"T_8ec91_level0_row3\" class=\"row_heading level0 row3\" rowspan=\"2\">data engineer</th>\n",
       "      <th id=\"T_8ec91_level1_row3\" class=\"row_heading level1 row3\" >none</th>\n",
       "      <td id=\"T_8ec91_row3_col0\" class=\"data row3 col0\" >103</td>\n",
       "    </tr>\n",
       "    <tr>\n",
       "      <th id=\"T_8ec91_level1_row4\" class=\"row_heading level1 row4\" >senior</th>\n",
       "      <td id=\"T_8ec91_row4_col0\" class=\"data row4 col0\" >15</td>\n",
       "    </tr>\n",
       "    <tr>\n",
       "      <th id=\"T_8ec91_level0_row5\" class=\"row_heading level0 row5\" rowspan=\"3\">data scientist</th>\n",
       "      <th id=\"T_8ec91_level1_row5\" class=\"row_heading level1 row5\" >junior</th>\n",
       "      <td id=\"T_8ec91_row5_col0\" class=\"data row5 col0\" >1</td>\n",
       "    </tr>\n",
       "    <tr>\n",
       "      <th id=\"T_8ec91_level1_row6\" class=\"row_heading level1 row6\" >none</th>\n",
       "      <td id=\"T_8ec91_row6_col0\" class=\"data row6 col0\" >267</td>\n",
       "    </tr>\n",
       "    <tr>\n",
       "      <th id=\"T_8ec91_level1_row7\" class=\"row_heading level1 row7\" >senior</th>\n",
       "      <td id=\"T_8ec91_row7_col0\" class=\"data row7 col0\" >11</td>\n",
       "    </tr>\n",
       "    <tr>\n",
       "      <th id=\"T_8ec91_level0_row8\" class=\"row_heading level0 row8\" rowspan=\"2\">other positions</th>\n",
       "      <th id=\"T_8ec91_level1_row8\" class=\"row_heading level1 row8\" >none</th>\n",
       "      <td id=\"T_8ec91_row8_col0\" class=\"data row8 col0\" >203</td>\n",
       "    </tr>\n",
       "    <tr>\n",
       "      <th id=\"T_8ec91_level1_row9\" class=\"row_heading level1 row9\" >senior</th>\n",
       "      <td id=\"T_8ec91_row9_col0\" class=\"data row9 col0\" >13</td>\n",
       "    </tr>\n",
       "    <tr>\n",
       "      <th id=\"T_8ec91_level0_row10\" class=\"row_heading level0 row10\" rowspan=\"2\">research</th>\n",
       "      <th id=\"T_8ec91_level1_row10\" class=\"row_heading level1 row10\" >none</th>\n",
       "      <td id=\"T_8ec91_row10_col0\" class=\"data row10 col0\" >24</td>\n",
       "    </tr>\n",
       "    <tr>\n",
       "      <th id=\"T_8ec91_level1_row11\" class=\"row_heading level1 row11\" >senior</th>\n",
       "      <td id=\"T_8ec91_row11_col0\" class=\"data row11 col0\" >2</td>\n",
       "    </tr>\n",
       "  </tbody>\n",
       "</table>\n"
      ],
      "text/plain": [
       "<pandas.io.formats.style.Styler at 0x24d3552d130>"
      ]
     },
     "execution_count": 48,
     "metadata": {},
     "output_type": "execute_result"
    }
   ],
   "source": [
    "job_offerings=data.groupby(by=['Job Title','Seniority'])['Size'].count()\n",
    "job_offerings=pd.DataFrame(job_offerings)\n",
    "job_offerings.style.background_gradient(cmap=\"Blues\")"
   ]
  },
  {
   "cell_type": "markdown",
   "metadata": {},
   "source": [
    "##### Average Salary estimates based on positions and the job title"
   ]
  },
  {
   "cell_type": "code",
   "execution_count": 49,
   "metadata": {},
   "outputs": [
    {
     "data": {
      "text/html": [
       "<style type=\"text/css\">\n",
       "#T_43f8f_row7_col0 {\n",
       "  background-color: lightblue;\n",
       "}\n",
       "</style>\n",
       "<table id=\"T_43f8f\">\n",
       "  <thead>\n",
       "    <tr>\n",
       "      <th class=\"blank\" >&nbsp;</th>\n",
       "      <th class=\"blank level0\" >&nbsp;</th>\n",
       "      <th id=\"T_43f8f_level0_col0\" class=\"col_heading level0 col0\" >average_salary</th>\n",
       "    </tr>\n",
       "    <tr>\n",
       "      <th class=\"index_name level0\" >Job Title</th>\n",
       "      <th class=\"index_name level1\" >Seniority</th>\n",
       "      <th class=\"blank col0\" >&nbsp;</th>\n",
       "    </tr>\n",
       "  </thead>\n",
       "  <tbody>\n",
       "    <tr>\n",
       "      <th id=\"T_43f8f_level0_row0\" class=\"row_heading level0 row0\" rowspan=\"3\">data analyst</th>\n",
       "      <th id=\"T_43f8f_level1_row0\" class=\"row_heading level1 row0\" >junior</th>\n",
       "      <td id=\"T_43f8f_row0_col0\" class=\"data row0 col0\" >56500.000000</td>\n",
       "    </tr>\n",
       "    <tr>\n",
       "      <th id=\"T_43f8f_level1_row1\" class=\"row_heading level1 row1\" >none</th>\n",
       "      <td id=\"T_43f8f_row1_col0\" class=\"data row1 col0\" >65371.134021</td>\n",
       "    </tr>\n",
       "    <tr>\n",
       "      <th id=\"T_43f8f_level1_row2\" class=\"row_heading level1 row2\" >senior</th>\n",
       "      <td id=\"T_43f8f_row2_col0\" class=\"data row2 col0\" >75700.000000</td>\n",
       "    </tr>\n",
       "    <tr>\n",
       "      <th id=\"T_43f8f_level0_row3\" class=\"row_heading level0 row3\" rowspan=\"2\">data engineer</th>\n",
       "      <th id=\"T_43f8f_level1_row3\" class=\"row_heading level1 row3\" >none</th>\n",
       "      <td id=\"T_43f8f_row3_col0\" class=\"data row3 col0\" >105519.417476</td>\n",
       "    </tr>\n",
       "    <tr>\n",
       "      <th id=\"T_43f8f_level1_row4\" class=\"row_heading level1 row4\" >senior</th>\n",
       "      <td id=\"T_43f8f_row4_col0\" class=\"data row4 col0\" >107733.333333</td>\n",
       "    </tr>\n",
       "    <tr>\n",
       "      <th id=\"T_43f8f_level0_row5\" class=\"row_heading level0 row5\" rowspan=\"3\">data scientist</th>\n",
       "      <th id=\"T_43f8f_level1_row5\" class=\"row_heading level1 row5\" >junior</th>\n",
       "      <td id=\"T_43f8f_row5_col0\" class=\"data row5 col0\" >106500.000000</td>\n",
       "    </tr>\n",
       "    <tr>\n",
       "      <th id=\"T_43f8f_level1_row6\" class=\"row_heading level1 row6\" >none</th>\n",
       "      <td id=\"T_43f8f_row6_col0\" class=\"data row6 col0\" >116962.546816</td>\n",
       "    </tr>\n",
       "    <tr>\n",
       "      <th id=\"T_43f8f_level1_row7\" class=\"row_heading level1 row7\" >senior</th>\n",
       "      <td id=\"T_43f8f_row7_col0\" class=\"data row7 col0\" >133181.818182</td>\n",
       "    </tr>\n",
       "    <tr>\n",
       "      <th id=\"T_43f8f_level0_row8\" class=\"row_heading level0 row8\" rowspan=\"2\">other positions</th>\n",
       "      <th id=\"T_43f8f_level1_row8\" class=\"row_heading level1 row8\" >none</th>\n",
       "      <td id=\"T_43f8f_row8_col0\" class=\"data row8 col0\" >90985.221675</td>\n",
       "    </tr>\n",
       "    <tr>\n",
       "      <th id=\"T_43f8f_level1_row9\" class=\"row_heading level1 row9\" >senior</th>\n",
       "      <td id=\"T_43f8f_row9_col0\" class=\"data row9 col0\" >116461.538462</td>\n",
       "    </tr>\n",
       "    <tr>\n",
       "      <th id=\"T_43f8f_level0_row10\" class=\"row_heading level0 row10\" rowspan=\"2\">research</th>\n",
       "      <th id=\"T_43f8f_level1_row10\" class=\"row_heading level1 row10\" >none</th>\n",
       "      <td id=\"T_43f8f_row10_col0\" class=\"data row10 col0\" >103187.500000</td>\n",
       "    </tr>\n",
       "    <tr>\n",
       "      <th id=\"T_43f8f_level1_row11\" class=\"row_heading level1 row11\" >senior</th>\n",
       "      <td id=\"T_43f8f_row11_col0\" class=\"data row11 col0\" >71500.000000</td>\n",
       "    </tr>\n",
       "  </tbody>\n",
       "</table>\n"
      ],
      "text/plain": [
       "<pandas.io.formats.style.Styler at 0x24d354b6fa0>"
      ]
     },
     "execution_count": 49,
     "metadata": {},
     "output_type": "execute_result"
    }
   ],
   "source": [
    "salary_estimate = data.groupby(by=['Job Title','Seniority'])['average_salary'].mean()\n",
    "salary_estimate=pd.DataFrame(salary_estimate)\n",
    "salary_estimate.style.highlight_max(color = 'lightblue', axis = 0)"
   ]
  },
  {
   "cell_type": "markdown",
   "metadata": {},
   "source": [
    "#### Average salaries of job titles"
   ]
  },
  {
   "cell_type": "markdown",
   "metadata": {},
   "source": [
    "As the average_salary column is already created (contains the average salaries of each postings). We can check how much we can expect to get for  single posting by doing the average of the titles."
   ]
  },
  {
   "cell_type": "code",
   "execution_count": 50,
   "metadata": {},
   "outputs": [
    {
     "data": {
      "text/html": [
       "<style type=\"text/css\">\n",
       "#T_b9305_row2_col1, #T_b9305_row4_col0 {\n",
       "  background-color: lightblue;\n",
       "}\n",
       "</style>\n",
       "<table id=\"T_b9305\">\n",
       "  <thead>\n",
       "    <tr>\n",
       "      <th class=\"blank level0\" >&nbsp;</th>\n",
       "      <th id=\"T_b9305_level0_col0\" class=\"col_heading level0 col0\" >Job Title</th>\n",
       "      <th id=\"T_b9305_level0_col1\" class=\"col_heading level0 col1\" >average_salary</th>\n",
       "    </tr>\n",
       "  </thead>\n",
       "  <tbody>\n",
       "    <tr>\n",
       "      <th id=\"T_b9305_level0_row0\" class=\"row_heading level0 row0\" >0</th>\n",
       "      <td id=\"T_b9305_row0_col0\" class=\"data row0 col0\" >data analyst</td>\n",
       "      <td id=\"T_b9305_row0_col1\" class=\"data row0 col1\" >65786.407767</td>\n",
       "    </tr>\n",
       "    <tr>\n",
       "      <th id=\"T_b9305_level0_row1\" class=\"row_heading level0 row1\" >1</th>\n",
       "      <td id=\"T_b9305_row1_col0\" class=\"data row1 col0\" >data engineer</td>\n",
       "      <td id=\"T_b9305_row1_col1\" class=\"data row1 col1\" >105800.847458</td>\n",
       "    </tr>\n",
       "    <tr>\n",
       "      <th id=\"T_b9305_level0_row2\" class=\"row_heading level0 row2\" >2</th>\n",
       "      <td id=\"T_b9305_row2_col0\" class=\"data row2 col0\" >data scientist</td>\n",
       "      <td id=\"T_b9305_row2_col1\" class=\"data row2 col1\" >117564.516129</td>\n",
       "    </tr>\n",
       "    <tr>\n",
       "      <th id=\"T_b9305_level0_row3\" class=\"row_heading level0 row3\" >3</th>\n",
       "      <td id=\"T_b9305_row3_col0\" class=\"data row3 col0\" >other positions</td>\n",
       "      <td id=\"T_b9305_row3_col1\" class=\"data row3 col1\" >92518.518519</td>\n",
       "    </tr>\n",
       "    <tr>\n",
       "      <th id=\"T_b9305_level0_row4\" class=\"row_heading level0 row4\" >4</th>\n",
       "      <td id=\"T_b9305_row4_col0\" class=\"data row4 col0\" >research</td>\n",
       "      <td id=\"T_b9305_row4_col1\" class=\"data row4 col1\" >100750.000000</td>\n",
       "    </tr>\n",
       "  </tbody>\n",
       "</table>\n"
      ],
      "text/plain": [
       "<pandas.io.formats.style.Styler at 0x24d2f94c1c0>"
      ]
     },
     "execution_count": 50,
     "metadata": {},
     "output_type": "execute_result"
    }
   ],
   "source": [
    "salaries_titles = pd.pivot_table(data=data,index=data['Job Title'],values='average_salary',aggfunc='mean').reset_index()\n",
    "salaries_titles.style.highlight_max(color = 'lightblue', axis = 0)"
   ]
  },
  {
   "cell_type": "markdown",
   "metadata": {},
   "source": [
    "On average, data scientists are earning more than other types followed by data engineer and research positions (research may be research scientist/research analyst)."
   ]
  },
  {
   "cell_type": "markdown",
   "metadata": {},
   "source": [
    "### Companies and their number of job listings?"
   ]
  },
  {
   "cell_type": "code",
   "execution_count": 51,
   "metadata": {},
   "outputs": [
    {
     "data": {
      "text/html": [
       "<style type=\"text/css\">\n",
       "#T_3413f_row0_col1, #T_3413f_row1_col1, #T_3413f_row2_col1 {\n",
       "  background-color: #08306b;\n",
       "  color: #f1f1f1;\n",
       "}\n",
       "#T_3413f_row3_col1 {\n",
       "  background-color: #539ecd;\n",
       "  color: #f1f1f1;\n",
       "}\n",
       "#T_3413f_row4_col1, #T_3413f_row5_col1 {\n",
       "  background-color: #89bedc;\n",
       "  color: #000000;\n",
       "}\n",
       "#T_3413f_row6_col1 {\n",
       "  background-color: #bad6eb;\n",
       "  color: #000000;\n",
       "}\n",
       "#T_3413f_row7_col1 {\n",
       "  background-color: #dbe9f6;\n",
       "  color: #000000;\n",
       "}\n",
       "#T_3413f_row8_col1, #T_3413f_row9_col1 {\n",
       "  background-color: #f7fbff;\n",
       "  color: #000000;\n",
       "}\n",
       "</style>\n",
       "<table id=\"T_3413f\">\n",
       "  <thead>\n",
       "    <tr>\n",
       "      <th class=\"blank level0\" >&nbsp;</th>\n",
       "      <th id=\"T_3413f_level0_col0\" class=\"col_heading level0 col0\" >index</th>\n",
       "      <th id=\"T_3413f_level0_col1\" class=\"col_heading level0 col1\" >Company Name</th>\n",
       "    </tr>\n",
       "  </thead>\n",
       "  <tbody>\n",
       "    <tr>\n",
       "      <th id=\"T_3413f_level0_row0\" class=\"row_heading level0 row0\" >0</th>\n",
       "      <td id=\"T_3413f_row0_col0\" class=\"data row0 col0\" >MassMutual</td>\n",
       "      <td id=\"T_3413f_row0_col1\" class=\"data row0 col1\" >14</td>\n",
       "    </tr>\n",
       "    <tr>\n",
       "      <th id=\"T_3413f_level0_row1\" class=\"row_heading level0 row1\" >1</th>\n",
       "      <td id=\"T_3413f_row1_col0\" class=\"data row1 col0\" >Takeda Pharmaceuticals</td>\n",
       "      <td id=\"T_3413f_row1_col1\" class=\"data row1 col1\" >14</td>\n",
       "    </tr>\n",
       "    <tr>\n",
       "      <th id=\"T_3413f_level0_row2\" class=\"row_heading level0 row2\" >2</th>\n",
       "      <td id=\"T_3413f_row2_col0\" class=\"data row2 col0\" >Reynolds American</td>\n",
       "      <td id=\"T_3413f_row2_col1\" class=\"data row2 col1\" >14</td>\n",
       "    </tr>\n",
       "    <tr>\n",
       "      <th id=\"T_3413f_level0_row3\" class=\"row_heading level0 row3\" >3</th>\n",
       "      <td id=\"T_3413f_row3_col0\" class=\"data row3 col0\" >Software Engineering Institute</td>\n",
       "      <td id=\"T_3413f_row3_col1\" class=\"data row3 col1\" >11</td>\n",
       "    </tr>\n",
       "    <tr>\n",
       "      <th id=\"T_3413f_level0_row4\" class=\"row_heading level0 row4\" >4</th>\n",
       "      <td id=\"T_3413f_row4_col0\" class=\"data row4 col0\" >PNNL</td>\n",
       "      <td id=\"T_3413f_row4_col1\" class=\"data row4 col1\" >10</td>\n",
       "    </tr>\n",
       "    <tr>\n",
       "      <th id=\"T_3413f_level0_row5\" class=\"row_heading level0 row5\" >5</th>\n",
       "      <td id=\"T_3413f_row5_col0\" class=\"data row5 col0\" >Liberty Mutual Insurance</td>\n",
       "      <td id=\"T_3413f_row5_col1\" class=\"data row5 col1\" >10</td>\n",
       "    </tr>\n",
       "    <tr>\n",
       "      <th id=\"T_3413f_level0_row6\" class=\"row_heading level0 row6\" >6</th>\n",
       "      <td id=\"T_3413f_row6_col0\" class=\"data row6 col0\" >AstraZeneca</td>\n",
       "      <td id=\"T_3413f_row6_col1\" class=\"data row6 col1\" >9</td>\n",
       "    </tr>\n",
       "    <tr>\n",
       "      <th id=\"T_3413f_level0_row7\" class=\"row_heading level0 row7\" >7</th>\n",
       "      <td id=\"T_3413f_row7_col0\" class=\"data row7 col0\" >MITRE</td>\n",
       "      <td id=\"T_3413f_row7_col1\" class=\"data row7 col1\" >8</td>\n",
       "    </tr>\n",
       "    <tr>\n",
       "      <th id=\"T_3413f_level0_row8\" class=\"row_heading level0 row8\" >8</th>\n",
       "      <td id=\"T_3413f_row8_col0\" class=\"data row8 col0\" >Pfizer</td>\n",
       "      <td id=\"T_3413f_row8_col1\" class=\"data row8 col1\" >7</td>\n",
       "    </tr>\n",
       "    <tr>\n",
       "      <th id=\"T_3413f_level0_row9\" class=\"row_heading level0 row9\" >9</th>\n",
       "      <td id=\"T_3413f_row9_col0\" class=\"data row9 col0\" >Rochester Regional Health</td>\n",
       "      <td id=\"T_3413f_row9_col1\" class=\"data row9 col1\" >7</td>\n",
       "    </tr>\n",
       "  </tbody>\n",
       "</table>\n"
      ],
      "text/plain": [
       "<pandas.io.formats.style.Styler at 0x24d331959a0>"
      ]
     },
     "execution_count": 51,
     "metadata": {},
     "output_type": "execute_result"
    }
   ],
   "source": [
    "companies_hiring=data['Company Name'].value_counts().sort_values(ascending=False).reset_index().head(10)\n",
    "companies_hiring.style.background_gradient(cmap=\"Blues\")"
   ]
  },
  {
   "cell_type": "markdown",
   "metadata": {},
   "source": [
    "MassMutual, Reynolds American, Takeda Pharmaceuticals are hiring the most number of employees. The other companies are not far in numbers. Surprisingly, FAANG companies are not hiring in huge quantities."
   ]
  },
  {
   "cell_type": "markdown",
   "metadata": {},
   "source": [
    "#### Are these companies giving out the most salaries?"
   ]
  },
  {
   "cell_type": "code",
   "execution_count": 52,
   "metadata": {},
   "outputs": [
    {
     "data": {
      "text/plain": [
       "array(['Gallup', 'Sage Intacct', 'CA-One Tech Cloud', 'Grand Rounds',\n",
       "       'Credit Sesame', 'The Climate Corporation', 'Grainger',\n",
       "       'Samsung Research America', 'Nektar Therapeutics', 'DTCC',\n",
       "       'Two Sigma', 'BioMarin Pharmaceutical', 'Confluent',\n",
       "       'Quartet Health', 'Samba TV'], dtype=object)"
      ]
     },
     "execution_count": 52,
     "metadata": {},
     "output_type": "execute_result"
    }
   ],
   "source": [
    "companies_salaries=data.groupby('Company Name')['average_salary'].mean().sort_values(ascending=False).reset_index().head(15)\n",
    "#companies_salaries.style.background_gradient(cmap=\"Blues\")\n",
    "companies_salaries['Company Name'].values"
   ]
  },
  {
   "cell_type": "markdown",
   "metadata": {},
   "source": [
    "The companies with the highest job listings are not the ones giving out the highest salaries."
   ]
  },
  {
   "cell_type": "code",
   "execution_count": 53,
   "metadata": {},
   "outputs": [],
   "source": [
    "companies_15 = ['Gallup', 'Sage Intacct', 'CA-One Tech Cloud', 'Grand Rounds',\n",
    "       'Credit Sesame', 'The Climate Corporation', 'Grainger',\n",
    "       'Samsung Research America', 'Nektar Therapeutics', 'DTCC',\n",
    "       'Two Sigma', 'BioMarin Pharmaceutical', 'Confluent',\n",
    "       'Quartet Health', 'Samba TV']"
   ]
  },
  {
   "cell_type": "code",
   "execution_count": 54,
   "metadata": {},
   "outputs": [],
   "source": [
    "data_companies = data[data['Company Name'].isin(companies_15)]"
   ]
  },
  {
   "cell_type": "code",
   "execution_count": 55,
   "metadata": {},
   "outputs": [
    {
     "data": {
      "text/html": [
       "<div>\n",
       "<style scoped>\n",
       "    .dataframe tbody tr th:only-of-type {\n",
       "        vertical-align: middle;\n",
       "    }\n",
       "\n",
       "    .dataframe tbody tr th {\n",
       "        vertical-align: top;\n",
       "    }\n",
       "\n",
       "    .dataframe thead th {\n",
       "        text-align: right;\n",
       "    }\n",
       "</style>\n",
       "<table border=\"1\" class=\"dataframe\">\n",
       "  <thead>\n",
       "    <tr style=\"text-align: right;\">\n",
       "      <th></th>\n",
       "      <th>Company Name</th>\n",
       "      <th>Job Title</th>\n",
       "      <th>Seniority</th>\n",
       "      <th>average_salary</th>\n",
       "    </tr>\n",
       "  </thead>\n",
       "  <tbody>\n",
       "    <tr>\n",
       "      <th>0</th>\n",
       "      <td>Gallup</td>\n",
       "      <td>data scientist</td>\n",
       "      <td>none</td>\n",
       "      <td>237500.0</td>\n",
       "    </tr>\n",
       "    <tr>\n",
       "      <th>1</th>\n",
       "      <td>Sage Intacct</td>\n",
       "      <td>other positions</td>\n",
       "      <td>none</td>\n",
       "      <td>232500.0</td>\n",
       "    </tr>\n",
       "    <tr>\n",
       "      <th>2</th>\n",
       "      <td>CA-One Tech Cloud</td>\n",
       "      <td>data scientist</td>\n",
       "      <td>none</td>\n",
       "      <td>225000.0</td>\n",
       "    </tr>\n",
       "    <tr>\n",
       "      <th>3</th>\n",
       "      <td>Grand Rounds</td>\n",
       "      <td>other positions</td>\n",
       "      <td>none</td>\n",
       "      <td>221500.0</td>\n",
       "    </tr>\n",
       "    <tr>\n",
       "      <th>4</th>\n",
       "      <td>Credit Sesame</td>\n",
       "      <td>data engineer</td>\n",
       "      <td>none</td>\n",
       "      <td>205000.0</td>\n",
       "    </tr>\n",
       "    <tr>\n",
       "      <th>5</th>\n",
       "      <td>The Climate Corporation</td>\n",
       "      <td>data scientist</td>\n",
       "      <td>none</td>\n",
       "      <td>194000.0</td>\n",
       "    </tr>\n",
       "    <tr>\n",
       "      <th>6</th>\n",
       "      <td>Grainger</td>\n",
       "      <td>other positions</td>\n",
       "      <td>none</td>\n",
       "      <td>179500.0</td>\n",
       "    </tr>\n",
       "    <tr>\n",
       "      <th>7</th>\n",
       "      <td>Samsung Research America</td>\n",
       "      <td>data engineer</td>\n",
       "      <td>none</td>\n",
       "      <td>177000.0</td>\n",
       "    </tr>\n",
       "    <tr>\n",
       "      <th>8</th>\n",
       "      <td>Nektar Therapeutics</td>\n",
       "      <td>other positions</td>\n",
       "      <td>senior</td>\n",
       "      <td>174000.0</td>\n",
       "    </tr>\n",
       "    <tr>\n",
       "      <th>9</th>\n",
       "      <td>DTCC</td>\n",
       "      <td>data analyst</td>\n",
       "      <td>none</td>\n",
       "      <td>173000.0</td>\n",
       "    </tr>\n",
       "    <tr>\n",
       "      <th>10</th>\n",
       "      <td>Two Sigma</td>\n",
       "      <td>data scientist</td>\n",
       "      <td>none</td>\n",
       "      <td>172000.0</td>\n",
       "    </tr>\n",
       "    <tr>\n",
       "      <th>11</th>\n",
       "      <td>BioMarin Pharmaceutical</td>\n",
       "      <td>other positions</td>\n",
       "      <td>none</td>\n",
       "      <td>168000.0</td>\n",
       "    </tr>\n",
       "    <tr>\n",
       "      <th>12</th>\n",
       "      <td>Confluent</td>\n",
       "      <td>data scientist</td>\n",
       "      <td>none</td>\n",
       "      <td>168000.0</td>\n",
       "    </tr>\n",
       "    <tr>\n",
       "      <th>13</th>\n",
       "      <td>Quartet Health</td>\n",
       "      <td>data scientist</td>\n",
       "      <td>none</td>\n",
       "      <td>165000.0</td>\n",
       "    </tr>\n",
       "    <tr>\n",
       "      <th>14</th>\n",
       "      <td>Samba TV</td>\n",
       "      <td>data scientist</td>\n",
       "      <td>none</td>\n",
       "      <td>164500.0</td>\n",
       "    </tr>\n",
       "  </tbody>\n",
       "</table>\n",
       "</div>"
      ],
      "text/plain": [
       "                Company Name        Job Title Seniority  average_salary\n",
       "0                     Gallup   data scientist      none        237500.0\n",
       "1               Sage Intacct  other positions      none        232500.0\n",
       "2          CA-One Tech Cloud   data scientist      none        225000.0\n",
       "3               Grand Rounds  other positions      none        221500.0\n",
       "4              Credit Sesame    data engineer      none        205000.0\n",
       "5    The Climate Corporation   data scientist      none        194000.0\n",
       "6                   Grainger  other positions      none        179500.0\n",
       "7   Samsung Research America    data engineer      none        177000.0\n",
       "8        Nektar Therapeutics  other positions    senior        174000.0\n",
       "9                       DTCC     data analyst      none        173000.0\n",
       "10                 Two Sigma   data scientist      none        172000.0\n",
       "11   BioMarin Pharmaceutical  other positions      none        168000.0\n",
       "12                 Confluent   data scientist      none        168000.0\n",
       "13            Quartet Health   data scientist      none        165000.0\n",
       "14                  Samba TV   data scientist      none        164500.0"
      ]
     },
     "execution_count": 55,
     "metadata": {},
     "output_type": "execute_result"
    }
   ],
   "source": [
    "data_companies1 = data_companies.groupby(['Company Name','Job Title','Seniority'])['average_salary'].mean().sort_values(ascending=False).reset_index()\n",
    "data_companies1 = pd.DataFrame(data_companies1)\n",
    "data_companies1"
   ]
  },
  {
   "cell_type": "markdown",
   "metadata": {},
   "source": [
    "#### Job listing with the highest salary ( state, company's name, size and revenue)\n"
   ]
  },
  {
   "cell_type": "code",
   "execution_count": 56,
   "metadata": {},
   "outputs": [
    {
     "data": {
      "text/html": [
       "<div>\n",
       "<style scoped>\n",
       "    .dataframe tbody tr th:only-of-type {\n",
       "        vertical-align: middle;\n",
       "    }\n",
       "\n",
       "    .dataframe tbody tr th {\n",
       "        vertical-align: top;\n",
       "    }\n",
       "\n",
       "    .dataframe thead th {\n",
       "        text-align: right;\n",
       "    }\n",
       "</style>\n",
       "<table border=\"1\" class=\"dataframe\">\n",
       "  <thead>\n",
       "    <tr style=\"text-align: right;\">\n",
       "      <th></th>\n",
       "      <th>Seniority</th>\n",
       "      <th>Company Name</th>\n",
       "      <th>Location</th>\n",
       "      <th>max_salary</th>\n",
       "    </tr>\n",
       "  </thead>\n",
       "  <tbody>\n",
       "    <tr>\n",
       "      <th>452</th>\n",
       "      <td>none</td>\n",
       "      <td>Liberty Mutual Insurance</td>\n",
       "      <td>Chicago, IL</td>\n",
       "      <td>306000.0</td>\n",
       "    </tr>\n",
       "    <tr>\n",
       "      <th>675</th>\n",
       "      <td>none</td>\n",
       "      <td>Liberty Mutual Insurance</td>\n",
       "      <td>Chicago, IL</td>\n",
       "      <td>306000.0</td>\n",
       "    </tr>\n",
       "    <tr>\n",
       "      <th>913</th>\n",
       "      <td>none</td>\n",
       "      <td>Liberty Mutual Insurance</td>\n",
       "      <td>Chicago, IL</td>\n",
       "      <td>306000.0</td>\n",
       "    </tr>\n",
       "  </tbody>\n",
       "</table>\n",
       "</div>"
      ],
      "text/plain": [
       "    Seniority              Company Name     Location  max_salary\n",
       "452      none  Liberty Mutual Insurance  Chicago, IL    306000.0\n",
       "675      none  Liberty Mutual Insurance  Chicago, IL    306000.0\n",
       "913      none  Liberty Mutual Insurance  Chicago, IL    306000.0"
      ]
     },
     "execution_count": 56,
     "metadata": {},
     "output_type": "execute_result"
    }
   ],
   "source": [
    "data[data['max_salary']==data['max_salary'].max()][['Seniority','Company Name','Location','max_salary']]"
   ]
  },
  {
   "cell_type": "markdown",
   "metadata": {},
   "source": [
    "#### Job listing with the highest salary ( state, company's name, size and revenue)\n"
   ]
  },
  {
   "cell_type": "code",
   "execution_count": 57,
   "metadata": {},
   "outputs": [
    {
     "data": {
      "text/html": [
       "<div>\n",
       "<style scoped>\n",
       "    .dataframe tbody tr th:only-of-type {\n",
       "        vertical-align: middle;\n",
       "    }\n",
       "\n",
       "    .dataframe tbody tr th {\n",
       "        vertical-align: top;\n",
       "    }\n",
       "\n",
       "    .dataframe thead th {\n",
       "        text-align: right;\n",
       "    }\n",
       "</style>\n",
       "<table border=\"1\" class=\"dataframe\">\n",
       "  <thead>\n",
       "    <tr style=\"text-align: right;\">\n",
       "      <th></th>\n",
       "      <th>Revenue</th>\n",
       "      <th>Size</th>\n",
       "      <th>Company Name</th>\n",
       "      <th>Location</th>\n",
       "      <th>max_salary</th>\n",
       "    </tr>\n",
       "  </thead>\n",
       "  <tbody>\n",
       "    <tr>\n",
       "      <th>523</th>\n",
       "      <td>$2 to $5 billion (USD)</td>\n",
       "      <td>5001 to 10000</td>\n",
       "      <td>FLEETCOR</td>\n",
       "      <td>Nashville, TN</td>\n",
       "      <td>17000.0</td>\n",
       "    </tr>\n",
       "    <tr>\n",
       "      <th>787</th>\n",
       "      <td>$2 to $5 billion (USD)</td>\n",
       "      <td>5001 to 10000</td>\n",
       "      <td>FLEETCOR</td>\n",
       "      <td>Nashville, TN</td>\n",
       "      <td>17000.0</td>\n",
       "    </tr>\n",
       "  </tbody>\n",
       "</table>\n",
       "</div>"
      ],
      "text/plain": [
       "                    Revenue            Size Company Name       Location  \\\n",
       "523  $2 to $5 billion (USD)  5001 to 10000      FLEETCOR  Nashville, TN   \n",
       "787  $2 to $5 billion (USD)  5001 to 10000      FLEETCOR  Nashville, TN   \n",
       "\n",
       "     max_salary  \n",
       "523     17000.0  \n",
       "787     17000.0  "
      ]
     },
     "execution_count": 57,
     "metadata": {},
     "output_type": "execute_result"
    }
   ],
   "source": [
    "data[data['min_salary']==data['min_salary'].min()][['Revenue','Size','Company Name','Location','max_salary']]"
   ]
  },
  {
   "cell_type": "markdown",
   "metadata": {},
   "source": [
    "#### Top 10 job postings by state."
   ]
  },
  {
   "cell_type": "markdown",
   "metadata": {},
   "source": [
    "#### How many states are hiring?\n"
   ]
  },
  {
   "cell_type": "code",
   "execution_count": 58,
   "metadata": {},
   "outputs": [
    {
     "data": {
      "text/plain": [
       "37"
      ]
     },
     "execution_count": 58,
     "metadata": {},
     "output_type": "execute_result"
    }
   ],
   "source": [
    "data['state'].nunique()"
   ]
  },
  {
   "cell_type": "code",
   "execution_count": 59,
   "metadata": {},
   "outputs": [
    {
     "data": {
      "application/vnd.plotly.v1+json": {
       "config": {
        "plotlyServerURL": "https://plotly.com"
       },
       "data": [
        {
         "alignmentgroup": "True",
         "hovertemplate": "state=%{text}<br>index=%{y}<extra></extra>",
         "legendgroup": "",
         "marker": {
          "color": "#636efa",
          "pattern": {
           "shape": ""
          }
         },
         "name": "",
         "offsetgroup": "",
         "orientation": "h",
         "showlegend": false,
         "text": [
          11,
          13,
          14,
          16,
          17,
          21,
          21,
          28,
          33,
          35,
          40,
          41,
          72,
          103,
          151
         ],
         "textposition": "auto",
         "type": "bar",
         "x": [
          11,
          13,
          14,
          16,
          17,
          21,
          21,
          28,
          33,
          35,
          40,
          41,
          72,
          103,
          151
         ],
         "xaxis": "x",
         "y": [
          " DC",
          " TN",
          " OH",
          " FL",
          " NJ",
          " NC",
          " WA",
          " TX",
          " PA",
          " MD",
          " IL",
          " VA",
          " NY",
          " MA",
          " CA"
         ],
         "yaxis": "y"
        }
       ],
       "layout": {
        "barmode": "relative",
        "legend": {
         "tracegroupgap": 0
        },
        "template": {
         "data": {
          "bar": [
           {
            "error_x": {
             "color": "#2a3f5f"
            },
            "error_y": {
             "color": "#2a3f5f"
            },
            "marker": {
             "line": {
              "color": "#E5ECF6",
              "width": 0.5
             },
             "pattern": {
              "fillmode": "overlay",
              "size": 10,
              "solidity": 0.2
             }
            },
            "type": "bar"
           }
          ],
          "barpolar": [
           {
            "marker": {
             "line": {
              "color": "#E5ECF6",
              "width": 0.5
             },
             "pattern": {
              "fillmode": "overlay",
              "size": 10,
              "solidity": 0.2
             }
            },
            "type": "barpolar"
           }
          ],
          "carpet": [
           {
            "aaxis": {
             "endlinecolor": "#2a3f5f",
             "gridcolor": "white",
             "linecolor": "white",
             "minorgridcolor": "white",
             "startlinecolor": "#2a3f5f"
            },
            "baxis": {
             "endlinecolor": "#2a3f5f",
             "gridcolor": "white",
             "linecolor": "white",
             "minorgridcolor": "white",
             "startlinecolor": "#2a3f5f"
            },
            "type": "carpet"
           }
          ],
          "choropleth": [
           {
            "colorbar": {
             "outlinewidth": 0,
             "ticks": ""
            },
            "type": "choropleth"
           }
          ],
          "contour": [
           {
            "colorbar": {
             "outlinewidth": 0,
             "ticks": ""
            },
            "colorscale": [
             [
              0,
              "#0d0887"
             ],
             [
              0.1111111111111111,
              "#46039f"
             ],
             [
              0.2222222222222222,
              "#7201a8"
             ],
             [
              0.3333333333333333,
              "#9c179e"
             ],
             [
              0.4444444444444444,
              "#bd3786"
             ],
             [
              0.5555555555555556,
              "#d8576b"
             ],
             [
              0.6666666666666666,
              "#ed7953"
             ],
             [
              0.7777777777777778,
              "#fb9f3a"
             ],
             [
              0.8888888888888888,
              "#fdca26"
             ],
             [
              1,
              "#f0f921"
             ]
            ],
            "type": "contour"
           }
          ],
          "contourcarpet": [
           {
            "colorbar": {
             "outlinewidth": 0,
             "ticks": ""
            },
            "type": "contourcarpet"
           }
          ],
          "heatmap": [
           {
            "colorbar": {
             "outlinewidth": 0,
             "ticks": ""
            },
            "colorscale": [
             [
              0,
              "#0d0887"
             ],
             [
              0.1111111111111111,
              "#46039f"
             ],
             [
              0.2222222222222222,
              "#7201a8"
             ],
             [
              0.3333333333333333,
              "#9c179e"
             ],
             [
              0.4444444444444444,
              "#bd3786"
             ],
             [
              0.5555555555555556,
              "#d8576b"
             ],
             [
              0.6666666666666666,
              "#ed7953"
             ],
             [
              0.7777777777777778,
              "#fb9f3a"
             ],
             [
              0.8888888888888888,
              "#fdca26"
             ],
             [
              1,
              "#f0f921"
             ]
            ],
            "type": "heatmap"
           }
          ],
          "heatmapgl": [
           {
            "colorbar": {
             "outlinewidth": 0,
             "ticks": ""
            },
            "colorscale": [
             [
              0,
              "#0d0887"
             ],
             [
              0.1111111111111111,
              "#46039f"
             ],
             [
              0.2222222222222222,
              "#7201a8"
             ],
             [
              0.3333333333333333,
              "#9c179e"
             ],
             [
              0.4444444444444444,
              "#bd3786"
             ],
             [
              0.5555555555555556,
              "#d8576b"
             ],
             [
              0.6666666666666666,
              "#ed7953"
             ],
             [
              0.7777777777777778,
              "#fb9f3a"
             ],
             [
              0.8888888888888888,
              "#fdca26"
             ],
             [
              1,
              "#f0f921"
             ]
            ],
            "type": "heatmapgl"
           }
          ],
          "histogram": [
           {
            "marker": {
             "pattern": {
              "fillmode": "overlay",
              "size": 10,
              "solidity": 0.2
             }
            },
            "type": "histogram"
           }
          ],
          "histogram2d": [
           {
            "colorbar": {
             "outlinewidth": 0,
             "ticks": ""
            },
            "colorscale": [
             [
              0,
              "#0d0887"
             ],
             [
              0.1111111111111111,
              "#46039f"
             ],
             [
              0.2222222222222222,
              "#7201a8"
             ],
             [
              0.3333333333333333,
              "#9c179e"
             ],
             [
              0.4444444444444444,
              "#bd3786"
             ],
             [
              0.5555555555555556,
              "#d8576b"
             ],
             [
              0.6666666666666666,
              "#ed7953"
             ],
             [
              0.7777777777777778,
              "#fb9f3a"
             ],
             [
              0.8888888888888888,
              "#fdca26"
             ],
             [
              1,
              "#f0f921"
             ]
            ],
            "type": "histogram2d"
           }
          ],
          "histogram2dcontour": [
           {
            "colorbar": {
             "outlinewidth": 0,
             "ticks": ""
            },
            "colorscale": [
             [
              0,
              "#0d0887"
             ],
             [
              0.1111111111111111,
              "#46039f"
             ],
             [
              0.2222222222222222,
              "#7201a8"
             ],
             [
              0.3333333333333333,
              "#9c179e"
             ],
             [
              0.4444444444444444,
              "#bd3786"
             ],
             [
              0.5555555555555556,
              "#d8576b"
             ],
             [
              0.6666666666666666,
              "#ed7953"
             ],
             [
              0.7777777777777778,
              "#fb9f3a"
             ],
             [
              0.8888888888888888,
              "#fdca26"
             ],
             [
              1,
              "#f0f921"
             ]
            ],
            "type": "histogram2dcontour"
           }
          ],
          "mesh3d": [
           {
            "colorbar": {
             "outlinewidth": 0,
             "ticks": ""
            },
            "type": "mesh3d"
           }
          ],
          "parcoords": [
           {
            "line": {
             "colorbar": {
              "outlinewidth": 0,
              "ticks": ""
             }
            },
            "type": "parcoords"
           }
          ],
          "pie": [
           {
            "automargin": true,
            "type": "pie"
           }
          ],
          "scatter": [
           {
            "fillpattern": {
             "fillmode": "overlay",
             "size": 10,
             "solidity": 0.2
            },
            "type": "scatter"
           }
          ],
          "scatter3d": [
           {
            "line": {
             "colorbar": {
              "outlinewidth": 0,
              "ticks": ""
             }
            },
            "marker": {
             "colorbar": {
              "outlinewidth": 0,
              "ticks": ""
             }
            },
            "type": "scatter3d"
           }
          ],
          "scattercarpet": [
           {
            "marker": {
             "colorbar": {
              "outlinewidth": 0,
              "ticks": ""
             }
            },
            "type": "scattercarpet"
           }
          ],
          "scattergeo": [
           {
            "marker": {
             "colorbar": {
              "outlinewidth": 0,
              "ticks": ""
             }
            },
            "type": "scattergeo"
           }
          ],
          "scattergl": [
           {
            "marker": {
             "colorbar": {
              "outlinewidth": 0,
              "ticks": ""
             }
            },
            "type": "scattergl"
           }
          ],
          "scattermapbox": [
           {
            "marker": {
             "colorbar": {
              "outlinewidth": 0,
              "ticks": ""
             }
            },
            "type": "scattermapbox"
           }
          ],
          "scatterpolar": [
           {
            "marker": {
             "colorbar": {
              "outlinewidth": 0,
              "ticks": ""
             }
            },
            "type": "scatterpolar"
           }
          ],
          "scatterpolargl": [
           {
            "marker": {
             "colorbar": {
              "outlinewidth": 0,
              "ticks": ""
             }
            },
            "type": "scatterpolargl"
           }
          ],
          "scatterternary": [
           {
            "marker": {
             "colorbar": {
              "outlinewidth": 0,
              "ticks": ""
             }
            },
            "type": "scatterternary"
           }
          ],
          "surface": [
           {
            "colorbar": {
             "outlinewidth": 0,
             "ticks": ""
            },
            "colorscale": [
             [
              0,
              "#0d0887"
             ],
             [
              0.1111111111111111,
              "#46039f"
             ],
             [
              0.2222222222222222,
              "#7201a8"
             ],
             [
              0.3333333333333333,
              "#9c179e"
             ],
             [
              0.4444444444444444,
              "#bd3786"
             ],
             [
              0.5555555555555556,
              "#d8576b"
             ],
             [
              0.6666666666666666,
              "#ed7953"
             ],
             [
              0.7777777777777778,
              "#fb9f3a"
             ],
             [
              0.8888888888888888,
              "#fdca26"
             ],
             [
              1,
              "#f0f921"
             ]
            ],
            "type": "surface"
           }
          ],
          "table": [
           {
            "cells": {
             "fill": {
              "color": "#EBF0F8"
             },
             "line": {
              "color": "white"
             }
            },
            "header": {
             "fill": {
              "color": "#C8D4E3"
             },
             "line": {
              "color": "white"
             }
            },
            "type": "table"
           }
          ]
         },
         "layout": {
          "annotationdefaults": {
           "arrowcolor": "#2a3f5f",
           "arrowhead": 0,
           "arrowwidth": 1
          },
          "autotypenumbers": "strict",
          "coloraxis": {
           "colorbar": {
            "outlinewidth": 0,
            "ticks": ""
           }
          },
          "colorscale": {
           "diverging": [
            [
             0,
             "#8e0152"
            ],
            [
             0.1,
             "#c51b7d"
            ],
            [
             0.2,
             "#de77ae"
            ],
            [
             0.3,
             "#f1b6da"
            ],
            [
             0.4,
             "#fde0ef"
            ],
            [
             0.5,
             "#f7f7f7"
            ],
            [
             0.6,
             "#e6f5d0"
            ],
            [
             0.7,
             "#b8e186"
            ],
            [
             0.8,
             "#7fbc41"
            ],
            [
             0.9,
             "#4d9221"
            ],
            [
             1,
             "#276419"
            ]
           ],
           "sequential": [
            [
             0,
             "#0d0887"
            ],
            [
             0.1111111111111111,
             "#46039f"
            ],
            [
             0.2222222222222222,
             "#7201a8"
            ],
            [
             0.3333333333333333,
             "#9c179e"
            ],
            [
             0.4444444444444444,
             "#bd3786"
            ],
            [
             0.5555555555555556,
             "#d8576b"
            ],
            [
             0.6666666666666666,
             "#ed7953"
            ],
            [
             0.7777777777777778,
             "#fb9f3a"
            ],
            [
             0.8888888888888888,
             "#fdca26"
            ],
            [
             1,
             "#f0f921"
            ]
           ],
           "sequentialminus": [
            [
             0,
             "#0d0887"
            ],
            [
             0.1111111111111111,
             "#46039f"
            ],
            [
             0.2222222222222222,
             "#7201a8"
            ],
            [
             0.3333333333333333,
             "#9c179e"
            ],
            [
             0.4444444444444444,
             "#bd3786"
            ],
            [
             0.5555555555555556,
             "#d8576b"
            ],
            [
             0.6666666666666666,
             "#ed7953"
            ],
            [
             0.7777777777777778,
             "#fb9f3a"
            ],
            [
             0.8888888888888888,
             "#fdca26"
            ],
            [
             1,
             "#f0f921"
            ]
           ]
          },
          "colorway": [
           "#636efa",
           "#EF553B",
           "#00cc96",
           "#ab63fa",
           "#FFA15A",
           "#19d3f3",
           "#FF6692",
           "#B6E880",
           "#FF97FF",
           "#FECB52"
          ],
          "font": {
           "color": "#2a3f5f"
          },
          "geo": {
           "bgcolor": "white",
           "lakecolor": "white",
           "landcolor": "#E5ECF6",
           "showlakes": true,
           "showland": true,
           "subunitcolor": "white"
          },
          "hoverlabel": {
           "align": "left"
          },
          "hovermode": "closest",
          "mapbox": {
           "style": "light"
          },
          "paper_bgcolor": "white",
          "plot_bgcolor": "#E5ECF6",
          "polar": {
           "angularaxis": {
            "gridcolor": "white",
            "linecolor": "white",
            "ticks": ""
           },
           "bgcolor": "#E5ECF6",
           "radialaxis": {
            "gridcolor": "white",
            "linecolor": "white",
            "ticks": ""
           }
          },
          "scene": {
           "xaxis": {
            "backgroundcolor": "#E5ECF6",
            "gridcolor": "white",
            "gridwidth": 2,
            "linecolor": "white",
            "showbackground": true,
            "ticks": "",
            "zerolinecolor": "white"
           },
           "yaxis": {
            "backgroundcolor": "#E5ECF6",
            "gridcolor": "white",
            "gridwidth": 2,
            "linecolor": "white",
            "showbackground": true,
            "ticks": "",
            "zerolinecolor": "white"
           },
           "zaxis": {
            "backgroundcolor": "#E5ECF6",
            "gridcolor": "white",
            "gridwidth": 2,
            "linecolor": "white",
            "showbackground": true,
            "ticks": "",
            "zerolinecolor": "white"
           }
          },
          "shapedefaults": {
           "line": {
            "color": "#2a3f5f"
           }
          },
          "ternary": {
           "aaxis": {
            "gridcolor": "white",
            "linecolor": "white",
            "ticks": ""
           },
           "baxis": {
            "gridcolor": "white",
            "linecolor": "white",
            "ticks": ""
           },
           "bgcolor": "#E5ECF6",
           "caxis": {
            "gridcolor": "white",
            "linecolor": "white",
            "ticks": ""
           }
          },
          "title": {
           "x": 0.05
          },
          "xaxis": {
           "automargin": true,
           "gridcolor": "white",
           "linecolor": "white",
           "ticks": "",
           "title": {
            "standoff": 15
           },
           "zerolinecolor": "white",
           "zerolinewidth": 2
          },
          "yaxis": {
           "automargin": true,
           "gridcolor": "white",
           "linecolor": "white",
           "ticks": "",
           "title": {
            "standoff": 15
           },
           "zerolinecolor": "white",
           "zerolinewidth": 2
          }
         }
        },
        "title": {
         "text": "Top 15 job postings by state"
        },
        "xaxis": {
         "anchor": "y",
         "domain": [
          0,
          1
         ],
         "title": {
          "text": "state"
         }
        },
        "yaxis": {
         "anchor": "x",
         "domain": [
          0,
          1
         ],
         "title": {
          "text": "index"
         }
        }
       }
      }
     },
     "metadata": {},
     "output_type": "display_data"
    }
   ],
   "source": [
    "state_openings=data['state'].value_counts().sort_values(ascending=True).reset_index().tail(15)\n",
    "fig = px.bar(state_openings, y='index', x='state',title='Top 15 job postings by state',text='state')\n",
    "fig.show()"
   ]
  },
  {
   "cell_type": "markdown",
   "metadata": {},
   "source": [
    "Another question that popus up when we look at this graph is : What states are listing jobs with high base salary? We can check this by grouping with state and adding the average_salaries for each individual states."
   ]
  },
  {
   "cell_type": "code",
   "execution_count": 60,
   "metadata": {},
   "outputs": [
    {
     "data": {
      "application/vnd.plotly.v1+json": {
       "config": {
        "plotlyServerURL": "https://plotly.com"
       },
       "data": [
        {
         "alignmentgroup": "True",
         "hovertemplate": "average_salary=%{text}<br>state=%{y}<extra></extra>",
         "legendgroup": "",
         "marker": {
          "color": "#636efa",
          "pattern": {
           "shape": ""
          }
         },
         "name": "",
         "offsetgroup": "",
         "orientation": "h",
         "showlegend": false,
         "text": [
          77045.45454545454,
          74333.33333333333,
          73300,
          71100,
          63300,
          60500,
          57937.5,
          56250,
          41000,
          27500
         ],
         "textposition": "auto",
         "type": "bar",
         "x": [
          77045.45454545454,
          74333.33333333333,
          73300,
          71100,
          63300,
          60500,
          57937.5,
          56250,
          41000,
          27500
         ],
         "xaxis": "x",
         "y": [
          " CO",
          " NM",
          " WI",
          " CT",
          " LA",
          " SC",
          " AL",
          " ID",
          " NE",
          " DE"
         ],
         "yaxis": "y"
        }
       ],
       "layout": {
        "barmode": "relative",
        "legend": {
         "tracegroupgap": 0
        },
        "template": {
         "data": {
          "bar": [
           {
            "error_x": {
             "color": "#2a3f5f"
            },
            "error_y": {
             "color": "#2a3f5f"
            },
            "marker": {
             "line": {
              "color": "#E5ECF6",
              "width": 0.5
             },
             "pattern": {
              "fillmode": "overlay",
              "size": 10,
              "solidity": 0.2
             }
            },
            "type": "bar"
           }
          ],
          "barpolar": [
           {
            "marker": {
             "line": {
              "color": "#E5ECF6",
              "width": 0.5
             },
             "pattern": {
              "fillmode": "overlay",
              "size": 10,
              "solidity": 0.2
             }
            },
            "type": "barpolar"
           }
          ],
          "carpet": [
           {
            "aaxis": {
             "endlinecolor": "#2a3f5f",
             "gridcolor": "white",
             "linecolor": "white",
             "minorgridcolor": "white",
             "startlinecolor": "#2a3f5f"
            },
            "baxis": {
             "endlinecolor": "#2a3f5f",
             "gridcolor": "white",
             "linecolor": "white",
             "minorgridcolor": "white",
             "startlinecolor": "#2a3f5f"
            },
            "type": "carpet"
           }
          ],
          "choropleth": [
           {
            "colorbar": {
             "outlinewidth": 0,
             "ticks": ""
            },
            "type": "choropleth"
           }
          ],
          "contour": [
           {
            "colorbar": {
             "outlinewidth": 0,
             "ticks": ""
            },
            "colorscale": [
             [
              0,
              "#0d0887"
             ],
             [
              0.1111111111111111,
              "#46039f"
             ],
             [
              0.2222222222222222,
              "#7201a8"
             ],
             [
              0.3333333333333333,
              "#9c179e"
             ],
             [
              0.4444444444444444,
              "#bd3786"
             ],
             [
              0.5555555555555556,
              "#d8576b"
             ],
             [
              0.6666666666666666,
              "#ed7953"
             ],
             [
              0.7777777777777778,
              "#fb9f3a"
             ],
             [
              0.8888888888888888,
              "#fdca26"
             ],
             [
              1,
              "#f0f921"
             ]
            ],
            "type": "contour"
           }
          ],
          "contourcarpet": [
           {
            "colorbar": {
             "outlinewidth": 0,
             "ticks": ""
            },
            "type": "contourcarpet"
           }
          ],
          "heatmap": [
           {
            "colorbar": {
             "outlinewidth": 0,
             "ticks": ""
            },
            "colorscale": [
             [
              0,
              "#0d0887"
             ],
             [
              0.1111111111111111,
              "#46039f"
             ],
             [
              0.2222222222222222,
              "#7201a8"
             ],
             [
              0.3333333333333333,
              "#9c179e"
             ],
             [
              0.4444444444444444,
              "#bd3786"
             ],
             [
              0.5555555555555556,
              "#d8576b"
             ],
             [
              0.6666666666666666,
              "#ed7953"
             ],
             [
              0.7777777777777778,
              "#fb9f3a"
             ],
             [
              0.8888888888888888,
              "#fdca26"
             ],
             [
              1,
              "#f0f921"
             ]
            ],
            "type": "heatmap"
           }
          ],
          "heatmapgl": [
           {
            "colorbar": {
             "outlinewidth": 0,
             "ticks": ""
            },
            "colorscale": [
             [
              0,
              "#0d0887"
             ],
             [
              0.1111111111111111,
              "#46039f"
             ],
             [
              0.2222222222222222,
              "#7201a8"
             ],
             [
              0.3333333333333333,
              "#9c179e"
             ],
             [
              0.4444444444444444,
              "#bd3786"
             ],
             [
              0.5555555555555556,
              "#d8576b"
             ],
             [
              0.6666666666666666,
              "#ed7953"
             ],
             [
              0.7777777777777778,
              "#fb9f3a"
             ],
             [
              0.8888888888888888,
              "#fdca26"
             ],
             [
              1,
              "#f0f921"
             ]
            ],
            "type": "heatmapgl"
           }
          ],
          "histogram": [
           {
            "marker": {
             "pattern": {
              "fillmode": "overlay",
              "size": 10,
              "solidity": 0.2
             }
            },
            "type": "histogram"
           }
          ],
          "histogram2d": [
           {
            "colorbar": {
             "outlinewidth": 0,
             "ticks": ""
            },
            "colorscale": [
             [
              0,
              "#0d0887"
             ],
             [
              0.1111111111111111,
              "#46039f"
             ],
             [
              0.2222222222222222,
              "#7201a8"
             ],
             [
              0.3333333333333333,
              "#9c179e"
             ],
             [
              0.4444444444444444,
              "#bd3786"
             ],
             [
              0.5555555555555556,
              "#d8576b"
             ],
             [
              0.6666666666666666,
              "#ed7953"
             ],
             [
              0.7777777777777778,
              "#fb9f3a"
             ],
             [
              0.8888888888888888,
              "#fdca26"
             ],
             [
              1,
              "#f0f921"
             ]
            ],
            "type": "histogram2d"
           }
          ],
          "histogram2dcontour": [
           {
            "colorbar": {
             "outlinewidth": 0,
             "ticks": ""
            },
            "colorscale": [
             [
              0,
              "#0d0887"
             ],
             [
              0.1111111111111111,
              "#46039f"
             ],
             [
              0.2222222222222222,
              "#7201a8"
             ],
             [
              0.3333333333333333,
              "#9c179e"
             ],
             [
              0.4444444444444444,
              "#bd3786"
             ],
             [
              0.5555555555555556,
              "#d8576b"
             ],
             [
              0.6666666666666666,
              "#ed7953"
             ],
             [
              0.7777777777777778,
              "#fb9f3a"
             ],
             [
              0.8888888888888888,
              "#fdca26"
             ],
             [
              1,
              "#f0f921"
             ]
            ],
            "type": "histogram2dcontour"
           }
          ],
          "mesh3d": [
           {
            "colorbar": {
             "outlinewidth": 0,
             "ticks": ""
            },
            "type": "mesh3d"
           }
          ],
          "parcoords": [
           {
            "line": {
             "colorbar": {
              "outlinewidth": 0,
              "ticks": ""
             }
            },
            "type": "parcoords"
           }
          ],
          "pie": [
           {
            "automargin": true,
            "type": "pie"
           }
          ],
          "scatter": [
           {
            "fillpattern": {
             "fillmode": "overlay",
             "size": 10,
             "solidity": 0.2
            },
            "type": "scatter"
           }
          ],
          "scatter3d": [
           {
            "line": {
             "colorbar": {
              "outlinewidth": 0,
              "ticks": ""
             }
            },
            "marker": {
             "colorbar": {
              "outlinewidth": 0,
              "ticks": ""
             }
            },
            "type": "scatter3d"
           }
          ],
          "scattercarpet": [
           {
            "marker": {
             "colorbar": {
              "outlinewidth": 0,
              "ticks": ""
             }
            },
            "type": "scattercarpet"
           }
          ],
          "scattergeo": [
           {
            "marker": {
             "colorbar": {
              "outlinewidth": 0,
              "ticks": ""
             }
            },
            "type": "scattergeo"
           }
          ],
          "scattergl": [
           {
            "marker": {
             "colorbar": {
              "outlinewidth": 0,
              "ticks": ""
             }
            },
            "type": "scattergl"
           }
          ],
          "scattermapbox": [
           {
            "marker": {
             "colorbar": {
              "outlinewidth": 0,
              "ticks": ""
             }
            },
            "type": "scattermapbox"
           }
          ],
          "scatterpolar": [
           {
            "marker": {
             "colorbar": {
              "outlinewidth": 0,
              "ticks": ""
             }
            },
            "type": "scatterpolar"
           }
          ],
          "scatterpolargl": [
           {
            "marker": {
             "colorbar": {
              "outlinewidth": 0,
              "ticks": ""
             }
            },
            "type": "scatterpolargl"
           }
          ],
          "scatterternary": [
           {
            "marker": {
             "colorbar": {
              "outlinewidth": 0,
              "ticks": ""
             }
            },
            "type": "scatterternary"
           }
          ],
          "surface": [
           {
            "colorbar": {
             "outlinewidth": 0,
             "ticks": ""
            },
            "colorscale": [
             [
              0,
              "#0d0887"
             ],
             [
              0.1111111111111111,
              "#46039f"
             ],
             [
              0.2222222222222222,
              "#7201a8"
             ],
             [
              0.3333333333333333,
              "#9c179e"
             ],
             [
              0.4444444444444444,
              "#bd3786"
             ],
             [
              0.5555555555555556,
              "#d8576b"
             ],
             [
              0.6666666666666666,
              "#ed7953"
             ],
             [
              0.7777777777777778,
              "#fb9f3a"
             ],
             [
              0.8888888888888888,
              "#fdca26"
             ],
             [
              1,
              "#f0f921"
             ]
            ],
            "type": "surface"
           }
          ],
          "table": [
           {
            "cells": {
             "fill": {
              "color": "#EBF0F8"
             },
             "line": {
              "color": "white"
             }
            },
            "header": {
             "fill": {
              "color": "#C8D4E3"
             },
             "line": {
              "color": "white"
             }
            },
            "type": "table"
           }
          ]
         },
         "layout": {
          "annotationdefaults": {
           "arrowcolor": "#2a3f5f",
           "arrowhead": 0,
           "arrowwidth": 1
          },
          "autotypenumbers": "strict",
          "coloraxis": {
           "colorbar": {
            "outlinewidth": 0,
            "ticks": ""
           }
          },
          "colorscale": {
           "diverging": [
            [
             0,
             "#8e0152"
            ],
            [
             0.1,
             "#c51b7d"
            ],
            [
             0.2,
             "#de77ae"
            ],
            [
             0.3,
             "#f1b6da"
            ],
            [
             0.4,
             "#fde0ef"
            ],
            [
             0.5,
             "#f7f7f7"
            ],
            [
             0.6,
             "#e6f5d0"
            ],
            [
             0.7,
             "#b8e186"
            ],
            [
             0.8,
             "#7fbc41"
            ],
            [
             0.9,
             "#4d9221"
            ],
            [
             1,
             "#276419"
            ]
           ],
           "sequential": [
            [
             0,
             "#0d0887"
            ],
            [
             0.1111111111111111,
             "#46039f"
            ],
            [
             0.2222222222222222,
             "#7201a8"
            ],
            [
             0.3333333333333333,
             "#9c179e"
            ],
            [
             0.4444444444444444,
             "#bd3786"
            ],
            [
             0.5555555555555556,
             "#d8576b"
            ],
            [
             0.6666666666666666,
             "#ed7953"
            ],
            [
             0.7777777777777778,
             "#fb9f3a"
            ],
            [
             0.8888888888888888,
             "#fdca26"
            ],
            [
             1,
             "#f0f921"
            ]
           ],
           "sequentialminus": [
            [
             0,
             "#0d0887"
            ],
            [
             0.1111111111111111,
             "#46039f"
            ],
            [
             0.2222222222222222,
             "#7201a8"
            ],
            [
             0.3333333333333333,
             "#9c179e"
            ],
            [
             0.4444444444444444,
             "#bd3786"
            ],
            [
             0.5555555555555556,
             "#d8576b"
            ],
            [
             0.6666666666666666,
             "#ed7953"
            ],
            [
             0.7777777777777778,
             "#fb9f3a"
            ],
            [
             0.8888888888888888,
             "#fdca26"
            ],
            [
             1,
             "#f0f921"
            ]
           ]
          },
          "colorway": [
           "#636efa",
           "#EF553B",
           "#00cc96",
           "#ab63fa",
           "#FFA15A",
           "#19d3f3",
           "#FF6692",
           "#B6E880",
           "#FF97FF",
           "#FECB52"
          ],
          "font": {
           "color": "#2a3f5f"
          },
          "geo": {
           "bgcolor": "white",
           "lakecolor": "white",
           "landcolor": "#E5ECF6",
           "showlakes": true,
           "showland": true,
           "subunitcolor": "white"
          },
          "hoverlabel": {
           "align": "left"
          },
          "hovermode": "closest",
          "mapbox": {
           "style": "light"
          },
          "paper_bgcolor": "white",
          "plot_bgcolor": "#E5ECF6",
          "polar": {
           "angularaxis": {
            "gridcolor": "white",
            "linecolor": "white",
            "ticks": ""
           },
           "bgcolor": "#E5ECF6",
           "radialaxis": {
            "gridcolor": "white",
            "linecolor": "white",
            "ticks": ""
           }
          },
          "scene": {
           "xaxis": {
            "backgroundcolor": "#E5ECF6",
            "gridcolor": "white",
            "gridwidth": 2,
            "linecolor": "white",
            "showbackground": true,
            "ticks": "",
            "zerolinecolor": "white"
           },
           "yaxis": {
            "backgroundcolor": "#E5ECF6",
            "gridcolor": "white",
            "gridwidth": 2,
            "linecolor": "white",
            "showbackground": true,
            "ticks": "",
            "zerolinecolor": "white"
           },
           "zaxis": {
            "backgroundcolor": "#E5ECF6",
            "gridcolor": "white",
            "gridwidth": 2,
            "linecolor": "white",
            "showbackground": true,
            "ticks": "",
            "zerolinecolor": "white"
           }
          },
          "shapedefaults": {
           "line": {
            "color": "#2a3f5f"
           }
          },
          "ternary": {
           "aaxis": {
            "gridcolor": "white",
            "linecolor": "white",
            "ticks": ""
           },
           "baxis": {
            "gridcolor": "white",
            "linecolor": "white",
            "ticks": ""
           },
           "bgcolor": "#E5ECF6",
           "caxis": {
            "gridcolor": "white",
            "linecolor": "white",
            "ticks": ""
           }
          },
          "title": {
           "x": 0.05
          },
          "xaxis": {
           "automargin": true,
           "gridcolor": "white",
           "linecolor": "white",
           "ticks": "",
           "title": {
            "standoff": 15
           },
           "zerolinecolor": "white",
           "zerolinewidth": 2
          },
          "yaxis": {
           "automargin": true,
           "gridcolor": "white",
           "linecolor": "white",
           "ticks": "",
           "title": {
            "standoff": 15
           },
           "zerolinecolor": "white",
           "zerolinewidth": 2
          }
         }
        },
        "title": {
         "text": "Top 10 states and their total average salary"
        },
        "xaxis": {
         "anchor": "y",
         "domain": [
          0,
          1
         ],
         "title": {
          "text": "average_salary"
         }
        },
        "yaxis": {
         "anchor": "x",
         "domain": [
          0,
          1
         ],
         "title": {
          "text": "state"
         }
        }
       }
      }
     },
     "metadata": {},
     "output_type": "display_data"
    }
   ],
   "source": [
    "state_salaries=data.groupby('state')['average_salary'].mean().sort_values(ascending=False).reset_index().tail(10)\n",
    "fig = px.bar(state_salaries, y='state', x='average_salary',title='Top 10 states and their total average salary',text='average_salary')\n",
    "fig.show()\n"
   ]
  },
  {
   "cell_type": "code",
   "execution_count": 61,
   "metadata": {},
   "outputs": [
    {
     "data": {
      "text/plain": [
       "Text(0.5, 1.0, 'Top 10 States and their average salary')"
      ]
     },
     "execution_count": 61,
     "metadata": {},
     "output_type": "execute_result"
    },
    {
     "data": {
      "image/png": "[encoded data removed]",
      "text/plain": [
       "<Figure size 1000x800 with 1 Axes>"
      ]
     },
     "metadata": {},
     "output_type": "display_data"
    }
   ],
   "source": [
    "plt.figure(figsize=(10,8))\n",
    "sns.barplot(data=state_salaries, y='state', x='average_salary',palette='rocket')\n",
    "plt.title('Top 10 States and their average salary')"
   ]
  },
  {
   "cell_type": "code",
   "execution_count": 62,
   "metadata": {},
   "outputs": [
    {
     "data": {
      "text/html": [
       "<div>\n",
       "<style scoped>\n",
       "    .dataframe tbody tr th:only-of-type {\n",
       "        vertical-align: middle;\n",
       "    }\n",
       "\n",
       "    .dataframe tbody tr th {\n",
       "        vertical-align: top;\n",
       "    }\n",
       "\n",
       "    .dataframe thead th {\n",
       "        text-align: right;\n",
       "    }\n",
       "</style>\n",
       "<table border=\"1\" class=\"dataframe\">\n",
       "  <thead>\n",
       "    <tr style=\"text-align: right;\">\n",
       "      <th></th>\n",
       "      <th></th>\n",
       "      <th>average_salary</th>\n",
       "    </tr>\n",
       "    <tr>\n",
       "      <th>state</th>\n",
       "      <th>Job Title</th>\n",
       "      <th></th>\n",
       "    </tr>\n",
       "  </thead>\n",
       "  <tbody>\n",
       "    <tr>\n",
       "      <th rowspan=\"3\" valign=\"top\">AL</th>\n",
       "      <th>data analyst</th>\n",
       "      <td>62200.000000</td>\n",
       "    </tr>\n",
       "    <tr>\n",
       "      <th>data engineer</th>\n",
       "      <td>65000.000000</td>\n",
       "    </tr>\n",
       "    <tr>\n",
       "      <th>other positions</th>\n",
       "      <td>43750.000000</td>\n",
       "    </tr>\n",
       "    <tr>\n",
       "      <th rowspan=\"2\" valign=\"top\">AZ</th>\n",
       "      <th>data analyst</th>\n",
       "      <td>55000.000000</td>\n",
       "    </tr>\n",
       "    <tr>\n",
       "      <th>data engineer</th>\n",
       "      <td>79500.000000</td>\n",
       "    </tr>\n",
       "    <tr>\n",
       "      <th>...</th>\n",
       "      <th>...</th>\n",
       "      <td>...</td>\n",
       "    </tr>\n",
       "    <tr>\n",
       "      <th rowspan=\"2\" valign=\"top\">WA</th>\n",
       "      <th>data scientist</th>\n",
       "      <td>99764.705882</td>\n",
       "    </tr>\n",
       "    <tr>\n",
       "      <th>other positions</th>\n",
       "      <td>97500.000000</td>\n",
       "    </tr>\n",
       "    <tr>\n",
       "      <th rowspan=\"3\" valign=\"top\">WI</th>\n",
       "      <th>data analyst</th>\n",
       "      <td>58833.333333</td>\n",
       "    </tr>\n",
       "    <tr>\n",
       "      <th>data scientist</th>\n",
       "      <td>113500.000000</td>\n",
       "    </tr>\n",
       "    <tr>\n",
       "      <th>other positions</th>\n",
       "      <td>54000.000000</td>\n",
       "    </tr>\n",
       "  </tbody>\n",
       "</table>\n",
       "<p>109 rows × 1 columns</p>\n",
       "</div>"
      ],
      "text/plain": [
       "                       average_salary\n",
       "state Job Title                      \n",
       " AL   data analyst       62200.000000\n",
       "      data engineer      65000.000000\n",
       "      other positions    43750.000000\n",
       " AZ   data analyst       55000.000000\n",
       "      data engineer      79500.000000\n",
       "...                               ...\n",
       " WA   data scientist     99764.705882\n",
       "      other positions    97500.000000\n",
       " WI   data analyst       58833.333333\n",
       "      data scientist    113500.000000\n",
       "      other positions    54000.000000\n",
       "\n",
       "[109 rows x 1 columns]"
      ]
     },
     "execution_count": 62,
     "metadata": {},
     "output_type": "execute_result"
    }
   ],
   "source": [
    "state_seniority = data.groupby(by=['state','Job Title'])['average_salary'].mean()\n",
    "state_seniority=pd.DataFrame(state_seniority)\n",
    "state_seniority"
   ]
  },
  {
   "cell_type": "markdown",
   "metadata": {},
   "source": [
    "##### Displaying the above dataframe as a figure is a tedious task. As this is an important finding from our analysis, we can display it in visualizaton softwares like tableau and further anaysis about this information can be performed there."
   ]
  },
  {
   "cell_type": "markdown",
   "metadata": {},
   "source": [
    "## Rating"
   ]
  },
  {
   "cell_type": "markdown",
   "metadata": {},
   "source": [
    "How are the companies rated in our data?"
   ]
  },
  {
   "cell_type": "code",
   "execution_count": 63,
   "metadata": {},
   "outputs": [
    {
     "data": {
      "text/plain": [
       "31"
      ]
     },
     "execution_count": 63,
     "metadata": {},
     "output_type": "execute_result"
    }
   ],
   "source": [
    "data['Rating'].nunique()"
   ]
  },
  {
   "cell_type": "code",
   "execution_count": 64,
   "metadata": {},
   "outputs": [
    {
     "name": "stdout",
     "output_type": "stream",
     "text": [
      "-1.0 5.0\n"
     ]
    }
   ],
   "source": [
    "print(data['Rating'].min(),data['Rating'].max())"
   ]
  },
  {
   "cell_type": "markdown",
   "metadata": {},
   "source": [
    "The minimum rating is -1 and the maximum rating is 5"
   ]
  },
  {
   "cell_type": "code",
   "execution_count": 65,
   "metadata": {},
   "outputs": [
    {
     "data": {
      "text/plain": [
       "Text(0.5, 1.0, 'Rating Distribution')"
      ]
     },
     "execution_count": 65,
     "metadata": {},
     "output_type": "execute_result"
    },
    {
     "data": {
      "image/png": "[encoded data removed]",
      "text/plain": [
       "<Figure size 640x480 with 1 Axes>"
      ]
     },
     "metadata": {},
     "output_type": "display_data"
    }
   ],
   "source": [
    "sns.histplot(x=data['Rating'],color='darkred',kde=True,alpha=0.5)\n",
    "plt.title('Rating Distribution')"
   ]
  },
  {
   "cell_type": "markdown",
   "metadata": {},
   "source": [
    "There are only 5 companies with the highest rating and 11 companies with the lowest(-1) rating. Rest of the companies come between these 2 and most of the companies ratings are in the range 3.1-4.0"
   ]
  },
  {
   "cell_type": "markdown",
   "metadata": {},
   "source": [
    "##### What are the companies with the highest rating?"
   ]
  },
  {
   "cell_type": "code",
   "execution_count": 66,
   "metadata": {},
   "outputs": [
    {
     "data": {
      "text/plain": [
       "48         BPA Services\n",
       "161         Gridiron IT\n",
       "477        BPA Services\n",
       "542    Royce Geospatial\n",
       "893             SkySync\n",
       "Name: Company Name, dtype: object"
      ]
     },
     "execution_count": 66,
     "metadata": {},
     "output_type": "execute_result"
    }
   ],
   "source": [
    "data[data['Rating']==5]['Company Name']"
   ]
  },
  {
   "cell_type": "markdown",
   "metadata": {},
   "source": [
    "##### Companies with the least rating?"
   ]
  },
  {
   "cell_type": "code",
   "execution_count": 67,
   "metadata": {},
   "outputs": [
    {
     "data": {
      "text/plain": [
       "208          CA-One Tech Cloud\n",
       "331          CA-One Tech Cloud\n",
       "377                       Muso\n",
       "472                 Kronos Bio\n",
       "518                 Kronos Bio\n",
       "583                       ALIN\n",
       "703                 Kronos Bio\n",
       "741    Monte Rosa Therapeutics\n",
       "778                 Kronos Bio\n",
       "819                 Kronos Bio\n",
       "943                 Kronos Bio\n",
       "Name: Company Name, dtype: object"
      ]
     },
     "execution_count": 67,
     "metadata": {},
     "output_type": "execute_result"
    }
   ],
   "source": [
    "data[data['Rating']==-1]['Company Name']"
   ]
  },
  {
   "cell_type": "markdown",
   "metadata": {},
   "source": [
    "##### How many companies have headquarters in the same state?"
   ]
  },
  {
   "cell_type": "code",
   "execution_count": 68,
   "metadata": {},
   "outputs": [
    {
     "data": {
      "text/plain": [
       "1    414\n",
       "0    328\n",
       "Name: same_state, dtype: int64"
      ]
     },
     "execution_count": 68,
     "metadata": {},
     "output_type": "execute_result"
    }
   ],
   "source": [
    "data['same_state'].value_counts()"
   ]
  },
  {
   "cell_type": "markdown",
   "metadata": {},
   "source": [
    "Most of the companies have headquarters in the same state."
   ]
  },
  {
   "cell_type": "markdown",
   "metadata": {},
   "source": [
    "##### Ratings and salaries"
   ]
  },
  {
   "cell_type": "code",
   "execution_count": 69,
   "metadata": {},
   "outputs": [
    {
     "data": {
      "text/html": [
       "<div>\n",
       "<style scoped>\n",
       "    .dataframe tbody tr th:only-of-type {\n",
       "        vertical-align: middle;\n",
       "    }\n",
       "\n",
       "    .dataframe tbody tr th {\n",
       "        vertical-align: top;\n",
       "    }\n",
       "\n",
       "    .dataframe thead th {\n",
       "        text-align: right;\n",
       "    }\n",
       "</style>\n",
       "<table border=\"1\" class=\"dataframe\">\n",
       "  <thead>\n",
       "    <tr style=\"text-align: right;\">\n",
       "      <th></th>\n",
       "      <th>Rating</th>\n",
       "      <th>average_salary</th>\n",
       "    </tr>\n",
       "  </thead>\n",
       "  <tbody>\n",
       "    <tr>\n",
       "      <th>0</th>\n",
       "      <td>3.9</td>\n",
       "      <td>7123500.0</td>\n",
       "    </tr>\n",
       "    <tr>\n",
       "      <th>1</th>\n",
       "      <td>3.7</td>\n",
       "      <td>6352000.0</td>\n",
       "    </tr>\n",
       "    <tr>\n",
       "      <th>2</th>\n",
       "      <td>3.8</td>\n",
       "      <td>5905500.0</td>\n",
       "    </tr>\n",
       "    <tr>\n",
       "      <th>3</th>\n",
       "      <td>3.5</td>\n",
       "      <td>5140000.0</td>\n",
       "    </tr>\n",
       "    <tr>\n",
       "      <th>4</th>\n",
       "      <td>4.0</td>\n",
       "      <td>4951000.0</td>\n",
       "    </tr>\n",
       "    <tr>\n",
       "      <th>5</th>\n",
       "      <td>3.4</td>\n",
       "      <td>4092500.0</td>\n",
       "    </tr>\n",
       "    <tr>\n",
       "      <th>6</th>\n",
       "      <td>3.3</td>\n",
       "      <td>3972500.0</td>\n",
       "    </tr>\n",
       "    <tr>\n",
       "      <th>7</th>\n",
       "      <td>3.6</td>\n",
       "      <td>3931500.0</td>\n",
       "    </tr>\n",
       "    <tr>\n",
       "      <th>8</th>\n",
       "      <td>3.2</td>\n",
       "      <td>3692500.0</td>\n",
       "    </tr>\n",
       "    <tr>\n",
       "      <th>9</th>\n",
       "      <td>4.4</td>\n",
       "      <td>3584000.0</td>\n",
       "    </tr>\n",
       "    <tr>\n",
       "      <th>10</th>\n",
       "      <td>4.3</td>\n",
       "      <td>3279000.0</td>\n",
       "    </tr>\n",
       "    <tr>\n",
       "      <th>11</th>\n",
       "      <td>4.7</td>\n",
       "      <td>3223500.0</td>\n",
       "    </tr>\n",
       "    <tr>\n",
       "      <th>12</th>\n",
       "      <td>4.2</td>\n",
       "      <td>2611500.0</td>\n",
       "    </tr>\n",
       "    <tr>\n",
       "      <th>13</th>\n",
       "      <td>4.1</td>\n",
       "      <td>2211000.0</td>\n",
       "    </tr>\n",
       "    <tr>\n",
       "      <th>14</th>\n",
       "      <td>3.1</td>\n",
       "      <td>2164500.0</td>\n",
       "    </tr>\n",
       "    <tr>\n",
       "      <th>15</th>\n",
       "      <td>-1.0</td>\n",
       "      <td>1498000.0</td>\n",
       "    </tr>\n",
       "    <tr>\n",
       "      <th>16</th>\n",
       "      <td>2.9</td>\n",
       "      <td>1460500.0</td>\n",
       "    </tr>\n",
       "    <tr>\n",
       "      <th>17</th>\n",
       "      <td>3.0</td>\n",
       "      <td>1455000.0</td>\n",
       "    </tr>\n",
       "    <tr>\n",
       "      <th>18</th>\n",
       "      <td>2.6</td>\n",
       "      <td>1309000.0</td>\n",
       "    </tr>\n",
       "    <tr>\n",
       "      <th>19</th>\n",
       "      <td>2.7</td>\n",
       "      <td>1165500.0</td>\n",
       "    </tr>\n",
       "    <tr>\n",
       "      <th>20</th>\n",
       "      <td>4.6</td>\n",
       "      <td>972500.0</td>\n",
       "    </tr>\n",
       "    <tr>\n",
       "      <th>21</th>\n",
       "      <td>4.5</td>\n",
       "      <td>824000.0</td>\n",
       "    </tr>\n",
       "    <tr>\n",
       "      <th>22</th>\n",
       "      <td>4.8</td>\n",
       "      <td>722500.0</td>\n",
       "    </tr>\n",
       "    <tr>\n",
       "      <th>23</th>\n",
       "      <td>5.0</td>\n",
       "      <td>673500.0</td>\n",
       "    </tr>\n",
       "    <tr>\n",
       "      <th>24</th>\n",
       "      <td>2.8</td>\n",
       "      <td>587500.0</td>\n",
       "    </tr>\n",
       "    <tr>\n",
       "      <th>25</th>\n",
       "      <td>2.1</td>\n",
       "      <td>479500.0</td>\n",
       "    </tr>\n",
       "    <tr>\n",
       "      <th>26</th>\n",
       "      <td>2.4</td>\n",
       "      <td>421500.0</td>\n",
       "    </tr>\n",
       "    <tr>\n",
       "      <th>27</th>\n",
       "      <td>1.9</td>\n",
       "      <td>262500.0</td>\n",
       "    </tr>\n",
       "    <tr>\n",
       "      <th>28</th>\n",
       "      <td>2.5</td>\n",
       "      <td>240000.0</td>\n",
       "    </tr>\n",
       "    <tr>\n",
       "      <th>29</th>\n",
       "      <td>2.2</td>\n",
       "      <td>195500.0</td>\n",
       "    </tr>\n",
       "    <tr>\n",
       "      <th>30</th>\n",
       "      <td>2.3</td>\n",
       "      <td>163000.0</td>\n",
       "    </tr>\n",
       "  </tbody>\n",
       "</table>\n",
       "</div>"
      ],
      "text/plain": [
       "    Rating  average_salary\n",
       "0      3.9       7123500.0\n",
       "1      3.7       6352000.0\n",
       "2      3.8       5905500.0\n",
       "3      3.5       5140000.0\n",
       "4      4.0       4951000.0\n",
       "5      3.4       4092500.0\n",
       "6      3.3       3972500.0\n",
       "7      3.6       3931500.0\n",
       "8      3.2       3692500.0\n",
       "9      4.4       3584000.0\n",
       "10     4.3       3279000.0\n",
       "11     4.7       3223500.0\n",
       "12     4.2       2611500.0\n",
       "13     4.1       2211000.0\n",
       "14     3.1       2164500.0\n",
       "15    -1.0       1498000.0\n",
       "16     2.9       1460500.0\n",
       "17     3.0       1455000.0\n",
       "18     2.6       1309000.0\n",
       "19     2.7       1165500.0\n",
       "20     4.6        972500.0\n",
       "21     4.5        824000.0\n",
       "22     4.8        722500.0\n",
       "23     5.0        673500.0\n",
       "24     2.8        587500.0\n",
       "25     2.1        479500.0\n",
       "26     2.4        421500.0\n",
       "27     1.9        262500.0\n",
       "28     2.5        240000.0\n",
       "29     2.2        195500.0\n",
       "30     2.3        163000.0"
      ]
     },
     "execution_count": 69,
     "metadata": {},
     "output_type": "execute_result"
    }
   ],
   "source": [
    "rating_salary = data.groupby('Rating')['average_salary'].sum().sort_values(ascending=False).reset_index()\n",
    "rating_salary"
   ]
  },
  {
   "cell_type": "markdown",
   "metadata": {},
   "source": [
    "#### Company Type"
   ]
  },
  {
   "cell_type": "code",
   "execution_count": 70,
   "metadata": {},
   "outputs": [
    {
     "data": {
      "application/vnd.plotly.v1+json": {
       "config": {
        "plotlyServerURL": "https://plotly.com"
       },
       "data": [
        {
         "alignmentgroup": "True",
         "hovertemplate": "Type of ownership=%{text}<br>index=%{y}<extra></extra>",
         "legendgroup": "",
         "marker": {
          "color": "#636efa",
          "pattern": {
           "shape": ""
          }
         },
         "name": "",
         "offsetgroup": "",
         "orientation": "h",
         "showlegend": false,
         "text": [
          1,
          1,
          2,
          3,
          13,
          15,
          15,
          34,
          55,
          193,
          410
         ],
         "textposition": "auto",
         "type": "bar",
         "x": [
          1,
          1,
          2,
          3,
          13,
          15,
          15,
          34,
          55,
          193,
          410
         ],
         "xaxis": "x",
         "y": [
          "Unknown",
          "-1",
          "School / School District",
          "Other Organization",
          "College / University",
          "Government",
          "Hospital",
          "Subsidiary or Business Segment",
          "Nonprofit Organization",
          "Company - Public",
          "Company - Private"
         ],
         "yaxis": "y"
        }
       ],
       "layout": {
        "barmode": "relative",
        "legend": {
         "tracegroupgap": 0
        },
        "template": {
         "data": {
          "bar": [
           {
            "error_x": {
             "color": "#2a3f5f"
            },
            "error_y": {
             "color": "#2a3f5f"
            },
            "marker": {
             "line": {
              "color": "#E5ECF6",
              "width": 0.5
             },
             "pattern": {
              "fillmode": "overlay",
              "size": 10,
              "solidity": 0.2
             }
            },
            "type": "bar"
           }
          ],
          "barpolar": [
           {
            "marker": {
             "line": {
              "color": "#E5ECF6",
              "width": 0.5
             },
             "pattern": {
              "fillmode": "overlay",
              "size": 10,
              "solidity": 0.2
             }
            },
            "type": "barpolar"
           }
          ],
          "carpet": [
           {
            "aaxis": {
             "endlinecolor": "#2a3f5f",
             "gridcolor": "white",
             "linecolor": "white",
             "minorgridcolor": "white",
             "startlinecolor": "#2a3f5f"
            },
            "baxis": {
             "endlinecolor": "#2a3f5f",
             "gridcolor": "white",
             "linecolor": "white",
             "minorgridcolor": "white",
             "startlinecolor": "#2a3f5f"
            },
            "type": "carpet"
           }
          ],
          "choropleth": [
           {
            "colorbar": {
             "outlinewidth": 0,
             "ticks": ""
            },
            "type": "choropleth"
           }
          ],
          "contour": [
           {
            "colorbar": {
             "outlinewidth": 0,
             "ticks": ""
            },
            "colorscale": [
             [
              0,
              "#0d0887"
             ],
             [
              0.1111111111111111,
              "#46039f"
             ],
             [
              0.2222222222222222,
              "#7201a8"
             ],
             [
              0.3333333333333333,
              "#9c179e"
             ],
             [
              0.4444444444444444,
              "#bd3786"
             ],
             [
              0.5555555555555556,
              "#d8576b"
             ],
             [
              0.6666666666666666,
              "#ed7953"
             ],
             [
              0.7777777777777778,
              "#fb9f3a"
             ],
             [
              0.8888888888888888,
              "#fdca26"
             ],
             [
              1,
              "#f0f921"
             ]
            ],
            "type": "contour"
           }
          ],
          "contourcarpet": [
           {
            "colorbar": {
             "outlinewidth": 0,
             "ticks": ""
            },
            "type": "contourcarpet"
           }
          ],
          "heatmap": [
           {
            "colorbar": {
             "outlinewidth": 0,
             "ticks": ""
            },
            "colorscale": [
             [
              0,
              "#0d0887"
             ],
             [
              0.1111111111111111,
              "#46039f"
             ],
             [
              0.2222222222222222,
              "#7201a8"
             ],
             [
              0.3333333333333333,
              "#9c179e"
             ],
             [
              0.4444444444444444,
              "#bd3786"
             ],
             [
              0.5555555555555556,
              "#d8576b"
             ],
             [
              0.6666666666666666,
              "#ed7953"
             ],
             [
              0.7777777777777778,
              "#fb9f3a"
             ],
             [
              0.8888888888888888,
              "#fdca26"
             ],
             [
              1,
              "#f0f921"
             ]
            ],
            "type": "heatmap"
           }
          ],
          "heatmapgl": [
           {
            "colorbar": {
             "outlinewidth": 0,
             "ticks": ""
            },
            "colorscale": [
             [
              0,
              "#0d0887"
             ],
             [
              0.1111111111111111,
              "#46039f"
             ],
             [
              0.2222222222222222,
              "#7201a8"
             ],
             [
              0.3333333333333333,
              "#9c179e"
             ],
             [
              0.4444444444444444,
              "#bd3786"
             ],
             [
              0.5555555555555556,
              "#d8576b"
             ],
             [
              0.6666666666666666,
              "#ed7953"
             ],
             [
              0.7777777777777778,
              "#fb9f3a"
             ],
             [
              0.8888888888888888,
              "#fdca26"
             ],
             [
              1,
              "#f0f921"
             ]
            ],
            "type": "heatmapgl"
           }
          ],
          "histogram": [
           {
            "marker": {
             "pattern": {
              "fillmode": "overlay",
              "size": 10,
              "solidity": 0.2
             }
            },
            "type": "histogram"
           }
          ],
          "histogram2d": [
           {
            "colorbar": {
             "outlinewidth": 0,
             "ticks": ""
            },
            "colorscale": [
             [
              0,
              "#0d0887"
             ],
             [
              0.1111111111111111,
              "#46039f"
             ],
             [
              0.2222222222222222,
              "#7201a8"
             ],
             [
              0.3333333333333333,
              "#9c179e"
             ],
             [
              0.4444444444444444,
              "#bd3786"
             ],
             [
              0.5555555555555556,
              "#d8576b"
             ],
             [
              0.6666666666666666,
              "#ed7953"
             ],
             [
              0.7777777777777778,
              "#fb9f3a"
             ],
             [
              0.8888888888888888,
              "#fdca26"
             ],
             [
              1,
              "#f0f921"
             ]
            ],
            "type": "histogram2d"
           }
          ],
          "histogram2dcontour": [
           {
            "colorbar": {
             "outlinewidth": 0,
             "ticks": ""
            },
            "colorscale": [
             [
              0,
              "#0d0887"
             ],
             [
              0.1111111111111111,
              "#46039f"
             ],
             [
              0.2222222222222222,
              "#7201a8"
             ],
             [
              0.3333333333333333,
              "#9c179e"
             ],
             [
              0.4444444444444444,
              "#bd3786"
             ],
             [
              0.5555555555555556,
              "#d8576b"
             ],
             [
              0.6666666666666666,
              "#ed7953"
             ],
             [
              0.7777777777777778,
              "#fb9f3a"
             ],
             [
              0.8888888888888888,
              "#fdca26"
             ],
             [
              1,
              "#f0f921"
             ]
            ],
            "type": "histogram2dcontour"
           }
          ],
          "mesh3d": [
           {
            "colorbar": {
             "outlinewidth": 0,
             "ticks": ""
            },
            "type": "mesh3d"
           }
          ],
          "parcoords": [
           {
            "line": {
             "colorbar": {
              "outlinewidth": 0,
              "ticks": ""
             }
            },
            "type": "parcoords"
           }
          ],
          "pie": [
           {
            "automargin": true,
            "type": "pie"
           }
          ],
          "scatter": [
           {
            "fillpattern": {
             "fillmode": "overlay",
             "size": 10,
             "solidity": 0.2
            },
            "type": "scatter"
           }
          ],
          "scatter3d": [
           {
            "line": {
             "colorbar": {
              "outlinewidth": 0,
              "ticks": ""
             }
            },
            "marker": {
             "colorbar": {
              "outlinewidth": 0,
              "ticks": ""
             }
            },
            "type": "scatter3d"
           }
          ],
          "scattercarpet": [
           {
            "marker": {
             "colorbar": {
              "outlinewidth": 0,
              "ticks": ""
             }
            },
            "type": "scattercarpet"
           }
          ],
          "scattergeo": [
           {
            "marker": {
             "colorbar": {
              "outlinewidth": 0,
              "ticks": ""
             }
            },
            "type": "scattergeo"
           }
          ],
          "scattergl": [
           {
            "marker": {
             "colorbar": {
              "outlinewidth": 0,
              "ticks": ""
             }
            },
            "type": "scattergl"
           }
          ],
          "scattermapbox": [
           {
            "marker": {
             "colorbar": {
              "outlinewidth": 0,
              "ticks": ""
             }
            },
            "type": "scattermapbox"
           }
          ],
          "scatterpolar": [
           {
            "marker": {
             "colorbar": {
              "outlinewidth": 0,
              "ticks": ""
             }
            },
            "type": "scatterpolar"
           }
          ],
          "scatterpolargl": [
           {
            "marker": {
             "colorbar": {
              "outlinewidth": 0,
              "ticks": ""
             }
            },
            "type": "scatterpolargl"
           }
          ],
          "scatterternary": [
           {
            "marker": {
             "colorbar": {
              "outlinewidth": 0,
              "ticks": ""
             }
            },
            "type": "scatterternary"
           }
          ],
          "surface": [
           {
            "colorbar": {
             "outlinewidth": 0,
             "ticks": ""
            },
            "colorscale": [
             [
              0,
              "#0d0887"
             ],
             [
              0.1111111111111111,
              "#46039f"
             ],
             [
              0.2222222222222222,
              "#7201a8"
             ],
             [
              0.3333333333333333,
              "#9c179e"
             ],
             [
              0.4444444444444444,
              "#bd3786"
             ],
             [
              0.5555555555555556,
              "#d8576b"
             ],
             [
              0.6666666666666666,
              "#ed7953"
             ],
             [
              0.7777777777777778,
              "#fb9f3a"
             ],
             [
              0.8888888888888888,
              "#fdca26"
             ],
             [
              1,
              "#f0f921"
             ]
            ],
            "type": "surface"
           }
          ],
          "table": [
           {
            "cells": {
             "fill": {
              "color": "#EBF0F8"
             },
             "line": {
              "color": "white"
             }
            },
            "header": {
             "fill": {
              "color": "#C8D4E3"
             },
             "line": {
              "color": "white"
             }
            },
            "type": "table"
           }
          ]
         },
         "layout": {
          "annotationdefaults": {
           "arrowcolor": "#2a3f5f",
           "arrowhead": 0,
           "arrowwidth": 1
          },
          "autotypenumbers": "strict",
          "coloraxis": {
           "colorbar": {
            "outlinewidth": 0,
            "ticks": ""
           }
          },
          "colorscale": {
           "diverging": [
            [
             0,
             "#8e0152"
            ],
            [
             0.1,
             "#c51b7d"
            ],
            [
             0.2,
             "#de77ae"
            ],
            [
             0.3,
             "#f1b6da"
            ],
            [
             0.4,
             "#fde0ef"
            ],
            [
             0.5,
             "#f7f7f7"
            ],
            [
             0.6,
             "#e6f5d0"
            ],
            [
             0.7,
             "#b8e186"
            ],
            [
             0.8,
             "#7fbc41"
            ],
            [
             0.9,
             "#4d9221"
            ],
            [
             1,
             "#276419"
            ]
           ],
           "sequential": [
            [
             0,
             "#0d0887"
            ],
            [
             0.1111111111111111,
             "#46039f"
            ],
            [
             0.2222222222222222,
             "#7201a8"
            ],
            [
             0.3333333333333333,
             "#9c179e"
            ],
            [
             0.4444444444444444,
             "#bd3786"
            ],
            [
             0.5555555555555556,
             "#d8576b"
            ],
            [
             0.6666666666666666,
             "#ed7953"
            ],
            [
             0.7777777777777778,
             "#fb9f3a"
            ],
            [
             0.8888888888888888,
             "#fdca26"
            ],
            [
             1,
             "#f0f921"
            ]
           ],
           "sequentialminus": [
            [
             0,
             "#0d0887"
            ],
            [
             0.1111111111111111,
             "#46039f"
            ],
            [
             0.2222222222222222,
             "#7201a8"
            ],
            [
             0.3333333333333333,
             "#9c179e"
            ],
            [
             0.4444444444444444,
             "#bd3786"
            ],
            [
             0.5555555555555556,
             "#d8576b"
            ],
            [
             0.6666666666666666,
             "#ed7953"
            ],
            [
             0.7777777777777778,
             "#fb9f3a"
            ],
            [
             0.8888888888888888,
             "#fdca26"
            ],
            [
             1,
             "#f0f921"
            ]
           ]
          },
          "colorway": [
           "#636efa",
           "#EF553B",
           "#00cc96",
           "#ab63fa",
           "#FFA15A",
           "#19d3f3",
           "#FF6692",
           "#B6E880",
           "#FF97FF",
           "#FECB52"
          ],
          "font": {
           "color": "#2a3f5f"
          },
          "geo": {
           "bgcolor": "white",
           "lakecolor": "white",
           "landcolor": "#E5ECF6",
           "showlakes": true,
           "showland": true,
           "subunitcolor": "white"
          },
          "hoverlabel": {
           "align": "left"
          },
          "hovermode": "closest",
          "mapbox": {
           "style": "light"
          },
          "paper_bgcolor": "white",
          "plot_bgcolor": "#E5ECF6",
          "polar": {
           "angularaxis": {
            "gridcolor": "white",
            "linecolor": "white",
            "ticks": ""
           },
           "bgcolor": "#E5ECF6",
           "radialaxis": {
            "gridcolor": "white",
            "linecolor": "white",
            "ticks": ""
           }
          },
          "scene": {
           "xaxis": {
            "backgroundcolor": "#E5ECF6",
            "gridcolor": "white",
            "gridwidth": 2,
            "linecolor": "white",
            "showbackground": true,
            "ticks": "",
            "zerolinecolor": "white"
           },
           "yaxis": {
            "backgroundcolor": "#E5ECF6",
            "gridcolor": "white",
            "gridwidth": 2,
            "linecolor": "white",
            "showbackground": true,
            "ticks": "",
            "zerolinecolor": "white"
           },
           "zaxis": {
            "backgroundcolor": "#E5ECF6",
            "gridcolor": "white",
            "gridwidth": 2,
            "linecolor": "white",
            "showbackground": true,
            "ticks": "",
            "zerolinecolor": "white"
           }
          },
          "shapedefaults": {
           "line": {
            "color": "#2a3f5f"
           }
          },
          "ternary": {
           "aaxis": {
            "gridcolor": "white",
            "linecolor": "white",
            "ticks": ""
           },
           "baxis": {
            "gridcolor": "white",
            "linecolor": "white",
            "ticks": ""
           },
           "bgcolor": "#E5ECF6",
           "caxis": {
            "gridcolor": "white",
            "linecolor": "white",
            "ticks": ""
           }
          },
          "title": {
           "x": 0.05
          },
          "xaxis": {
           "automargin": true,
           "gridcolor": "white",
           "linecolor": "white",
           "ticks": "",
           "title": {
            "standoff": 15
           },
           "zerolinecolor": "white",
           "zerolinewidth": 2
          },
          "yaxis": {
           "automargin": true,
           "gridcolor": "white",
           "linecolor": "white",
           "ticks": "",
           "title": {
            "standoff": 15
           },
           "zerolinecolor": "white",
           "zerolinewidth": 2
          }
         }
        },
        "title": {
         "text": "Type of Ownership"
        },
        "xaxis": {
         "anchor": "y",
         "domain": [
          0,
          1
         ],
         "title": {
          "text": "Type of ownership"
         }
        },
        "yaxis": {
         "anchor": "x",
         "domain": [
          0,
          1
         ],
         "title": {
          "text": "index"
         }
        }
       }
      }
     },
     "metadata": {},
     "output_type": "display_data"
    }
   ],
   "source": [
    "company = data['Type of ownership'].value_counts().sort_values(ascending=True).reset_index()\n",
    "fig = px.bar(company, y='index', x='Type of ownership',title='Type of Ownership',text='Type of ownership')\n",
    "fig.show()"
   ]
  },
  {
   "cell_type": "markdown",
   "metadata": {},
   "source": [
    "Most of the companies that are hiring are private companies followed by public companies."
   ]
  },
  {
   "cell_type": "code",
   "execution_count": 71,
   "metadata": {},
   "outputs": [
    {
     "data": {
      "text/html": [
       "<div>\n",
       "<style scoped>\n",
       "    .dataframe tbody tr th:only-of-type {\n",
       "        vertical-align: middle;\n",
       "    }\n",
       "\n",
       "    .dataframe tbody tr th {\n",
       "        vertical-align: top;\n",
       "    }\n",
       "\n",
       "    .dataframe thead th {\n",
       "        text-align: right;\n",
       "    }\n",
       "</style>\n",
       "<table border=\"1\" class=\"dataframe\">\n",
       "  <thead>\n",
       "    <tr style=\"text-align: right;\">\n",
       "      <th></th>\n",
       "      <th>Job Title</th>\n",
       "      <th>Salary Estimate</th>\n",
       "      <th>Job Description</th>\n",
       "      <th>Rating</th>\n",
       "      <th>Company Name</th>\n",
       "      <th>Location</th>\n",
       "      <th>Headquarters</th>\n",
       "      <th>Size</th>\n",
       "      <th>Founded</th>\n",
       "      <th>Type of ownership</th>\n",
       "      <th>...</th>\n",
       "      <th>average_salary</th>\n",
       "      <th>state</th>\n",
       "      <th>same_state</th>\n",
       "      <th>Senior</th>\n",
       "      <th>research_positions</th>\n",
       "      <th>engineers</th>\n",
       "      <th>scientist</th>\n",
       "      <th>manager</th>\n",
       "      <th>analyst</th>\n",
       "      <th>Seniority</th>\n",
       "    </tr>\n",
       "  </thead>\n",
       "  <tbody>\n",
       "    <tr>\n",
       "      <th>0</th>\n",
       "      <td>data scientist</td>\n",
       "      <td>53-91</td>\n",
       "      <td>Data Scientist\\nLocation: Albuquerque, NM\\nEdu...</td>\n",
       "      <td>3.8</td>\n",
       "      <td>Tecolote Research</td>\n",
       "      <td>Albuquerque, NM</td>\n",
       "      <td>Goleta, CA</td>\n",
       "      <td>501 to 1000</td>\n",
       "      <td>26-05-1905</td>\n",
       "      <td>Company - Private</td>\n",
       "      <td>...</td>\n",
       "      <td>72000.0</td>\n",
       "      <td>NM</td>\n",
       "      <td>0</td>\n",
       "      <td>0</td>\n",
       "      <td>0</td>\n",
       "      <td>0</td>\n",
       "      <td>1</td>\n",
       "      <td>0</td>\n",
       "      <td>0</td>\n",
       "      <td>none</td>\n",
       "    </tr>\n",
       "    <tr>\n",
       "      <th>1</th>\n",
       "      <td>data scientist</td>\n",
       "      <td>63-112</td>\n",
       "      <td>What You Will Do:\\n\\nI. General Summary\\n\\nThe...</td>\n",
       "      <td>3.4</td>\n",
       "      <td>University of Maryland Medical System</td>\n",
       "      <td>Linthicum, MD</td>\n",
       "      <td>Baltimore, MD</td>\n",
       "      <td>10000+</td>\n",
       "      <td>06-06-1905</td>\n",
       "      <td>Other Organization</td>\n",
       "      <td>...</td>\n",
       "      <td>87500.0</td>\n",
       "      <td>MD</td>\n",
       "      <td>0</td>\n",
       "      <td>0</td>\n",
       "      <td>0</td>\n",
       "      <td>0</td>\n",
       "      <td>1</td>\n",
       "      <td>0</td>\n",
       "      <td>0</td>\n",
       "      <td>none</td>\n",
       "    </tr>\n",
       "    <tr>\n",
       "      <th>2</th>\n",
       "      <td>data scientist</td>\n",
       "      <td>80-90</td>\n",
       "      <td>KnowBe4, Inc. is a high growth information sec...</td>\n",
       "      <td>4.8</td>\n",
       "      <td>KnowBe4</td>\n",
       "      <td>Clearwater, FL</td>\n",
       "      <td>Clearwater, FL</td>\n",
       "      <td>501 to 1000</td>\n",
       "      <td>02-07-1905</td>\n",
       "      <td>Company - Private</td>\n",
       "      <td>...</td>\n",
       "      <td>85000.0</td>\n",
       "      <td>FL</td>\n",
       "      <td>1</td>\n",
       "      <td>0</td>\n",
       "      <td>0</td>\n",
       "      <td>0</td>\n",
       "      <td>1</td>\n",
       "      <td>0</td>\n",
       "      <td>0</td>\n",
       "      <td>none</td>\n",
       "    </tr>\n",
       "    <tr>\n",
       "      <th>3</th>\n",
       "      <td>data scientist</td>\n",
       "      <td>56-97</td>\n",
       "      <td>*Organization and Job ID**\\nJob ID: 310709\\n\\n...</td>\n",
       "      <td>3.8</td>\n",
       "      <td>PNNL</td>\n",
       "      <td>Richland, WA</td>\n",
       "      <td>Richland, WA</td>\n",
       "      <td>1001 to 5000</td>\n",
       "      <td>18-05-1905</td>\n",
       "      <td>Government</td>\n",
       "      <td>...</td>\n",
       "      <td>76500.0</td>\n",
       "      <td>WA</td>\n",
       "      <td>1</td>\n",
       "      <td>0</td>\n",
       "      <td>0</td>\n",
       "      <td>0</td>\n",
       "      <td>1</td>\n",
       "      <td>0</td>\n",
       "      <td>0</td>\n",
       "      <td>none</td>\n",
       "    </tr>\n",
       "    <tr>\n",
       "      <th>4</th>\n",
       "      <td>data scientist</td>\n",
       "      <td>86-143</td>\n",
       "      <td>Data Scientist\\nAffinity Solutions / Marketing...</td>\n",
       "      <td>2.9</td>\n",
       "      <td>Affinity Solutions</td>\n",
       "      <td>New York, NY</td>\n",
       "      <td>New York, NY</td>\n",
       "      <td>51 to 200</td>\n",
       "      <td>20-06-1905</td>\n",
       "      <td>Company - Private</td>\n",
       "      <td>...</td>\n",
       "      <td>114500.0</td>\n",
       "      <td>NY</td>\n",
       "      <td>1</td>\n",
       "      <td>0</td>\n",
       "      <td>0</td>\n",
       "      <td>0</td>\n",
       "      <td>1</td>\n",
       "      <td>0</td>\n",
       "      <td>0</td>\n",
       "      <td>none</td>\n",
       "    </tr>\n",
       "  </tbody>\n",
       "</table>\n",
       "<p>5 rows × 28 columns</p>\n",
       "</div>"
      ],
      "text/plain": [
       "        Job Title Salary Estimate  \\\n",
       "0  data scientist          53-91    \n",
       "1  data scientist         63-112    \n",
       "2  data scientist          80-90    \n",
       "3  data scientist          56-97    \n",
       "4  data scientist         86-143    \n",
       "\n",
       "                                     Job Description  Rating  \\\n",
       "0  Data Scientist\\nLocation: Albuquerque, NM\\nEdu...     3.8   \n",
       "1  What You Will Do:\\n\\nI. General Summary\\n\\nThe...     3.4   \n",
       "2  KnowBe4, Inc. is a high growth information sec...     4.8   \n",
       "3  *Organization and Job ID**\\nJob ID: 310709\\n\\n...     3.8   \n",
       "4  Data Scientist\\nAffinity Solutions / Marketing...     2.9   \n",
       "\n",
       "                            Company Name         Location    Headquarters  \\\n",
       "0                      Tecolote Research  Albuquerque, NM      Goleta, CA   \n",
       "1  University of Maryland Medical System    Linthicum, MD   Baltimore, MD   \n",
       "2                                KnowBe4   Clearwater, FL  Clearwater, FL   \n",
       "3                                   PNNL     Richland, WA    Richland, WA   \n",
       "4                     Affinity Solutions     New York, NY    New York, NY   \n",
       "\n",
       "            Size     Founded   Type of ownership  ... average_salary state  \\\n",
       "0   501 to 1000   26-05-1905   Company - Private  ...        72000.0    NM   \n",
       "1        10000+   06-06-1905  Other Organization  ...        87500.0    MD   \n",
       "2   501 to 1000   02-07-1905   Company - Private  ...        85000.0    FL   \n",
       "3  1001 to 5000   18-05-1905          Government  ...        76500.0    WA   \n",
       "4     51 to 200   20-06-1905   Company - Private  ...       114500.0    NY   \n",
       "\n",
       "  same_state  Senior  research_positions  engineers  scientist  manager  \\\n",
       "0          0       0                   0          0          1        0   \n",
       "1          0       0                   0          0          1        0   \n",
       "2          1       0                   0          0          1        0   \n",
       "3          1       0                   0          0          1        0   \n",
       "4          1       0                   0          0          1        0   \n",
       "\n",
       "   analyst Seniority  \n",
       "0        0      none  \n",
       "1        0      none  \n",
       "2        0      none  \n",
       "3        0      none  \n",
       "4        0      none  \n",
       "\n",
       "[5 rows x 28 columns]"
      ]
     },
     "execution_count": 71,
     "metadata": {},
     "output_type": "execute_result"
    }
   ],
   "source": [
    "data.head()"
   ]
  },
  {
   "cell_type": "markdown",
   "metadata": {},
   "source": [
    "##### Top 10 sectors "
   ]
  },
  {
   "cell_type": "code",
   "execution_count": 72,
   "metadata": {},
   "outputs": [
    {
     "data": {
      "text/plain": [
       "Index(['Job Title', 'Salary Estimate', 'Job Description', 'Rating',\n",
       "       'Company Name', 'Location', 'Headquarters', 'Size', 'Founded',\n",
       "       'Type of ownership', 'Industry', 'Sector', 'Revenue', 'Competitors',\n",
       "       'hourly', 'employer_provided_salary', 'min_salary', 'max_salary',\n",
       "       'average_salary', 'state', 'same_state', 'Senior', 'research_positions',\n",
       "       'engineers', 'scientist', 'manager', 'analyst', 'Seniority'],\n",
       "      dtype='object')"
      ]
     },
     "execution_count": 72,
     "metadata": {},
     "output_type": "execute_result"
    }
   ],
   "source": [
    "data.columns"
   ]
  },
  {
   "cell_type": "code",
   "execution_count": 73,
   "metadata": {},
   "outputs": [
    {
     "data": {
      "text/plain": [
       "Information Technology       180\n",
       "Biotech & Pharmaceuticals    112\n",
       "Business Services             97\n",
       "Insurance                     69\n",
       "Health Care                   49\n",
       "Finance                       42\n",
       "Manufacturing                 34\n",
       "Aerospace & Defense           25\n",
       "Education                     23\n",
       "Retail                        15\n",
       "Name: Sector, dtype: int64"
      ]
     },
     "execution_count": 73,
     "metadata": {},
     "output_type": "execute_result"
    }
   ],
   "source": [
    "data['Sector'].value_counts().sort_values(ascending=False).head(10)"
   ]
  },
  {
   "cell_type": "markdown",
   "metadata": {},
   "source": [
    "IT, Biotech & Pharmaceuticals, Business Services, Insurance, Healthcare, Finance are hiring in large number. Applying to these companies will net in interviews and jobs if the candidate is eligible."
   ]
  },
  {
   "cell_type": "markdown",
   "metadata": {},
   "source": [
    "#### Sectors and level of seniority with their average_salary"
   ]
  },
  {
   "cell_type": "markdown",
   "metadata": {},
   "source": [
    "One question that arises when we want to know which sector to apply to is : How much are the sector's paying for their employees. We can do this with the help of pandas groupby"
   ]
  },
  {
   "cell_type": "code",
   "execution_count": 74,
   "metadata": {},
   "outputs": [
    {
     "data": {
      "text/html": [
       "<div>\n",
       "<style scoped>\n",
       "    .dataframe tbody tr th:only-of-type {\n",
       "        vertical-align: middle;\n",
       "    }\n",
       "\n",
       "    .dataframe tbody tr th {\n",
       "        vertical-align: top;\n",
       "    }\n",
       "\n",
       "    .dataframe thead th {\n",
       "        text-align: right;\n",
       "    }\n",
       "</style>\n",
       "<table border=\"1\" class=\"dataframe\">\n",
       "  <thead>\n",
       "    <tr style=\"text-align: right;\">\n",
       "      <th></th>\n",
       "      <th></th>\n",
       "      <th>average_salary</th>\n",
       "    </tr>\n",
       "    <tr>\n",
       "      <th>Sector</th>\n",
       "      <th>Seniority</th>\n",
       "      <th></th>\n",
       "    </tr>\n",
       "  </thead>\n",
       "  <tbody>\n",
       "    <tr>\n",
       "      <th>-1</th>\n",
       "      <th>none</th>\n",
       "      <td>114650.000000</td>\n",
       "    </tr>\n",
       "    <tr>\n",
       "      <th>Accounting &amp; Legal</th>\n",
       "      <th>none</th>\n",
       "      <td>113500.000000</td>\n",
       "    </tr>\n",
       "    <tr>\n",
       "      <th>Aerospace &amp; Defense</th>\n",
       "      <th>none</th>\n",
       "      <td>99060.000000</td>\n",
       "    </tr>\n",
       "    <tr>\n",
       "      <th>Agriculture &amp; Forestry</th>\n",
       "      <th>none</th>\n",
       "      <td>80500.000000</td>\n",
       "    </tr>\n",
       "    <tr>\n",
       "      <th>Arts, Entertainment &amp; Recreation</th>\n",
       "      <th>none</th>\n",
       "      <td>48500.000000</td>\n",
       "    </tr>\n",
       "    <tr>\n",
       "      <th rowspan=\"2\" valign=\"top\">Biotech &amp; Pharmaceuticals</th>\n",
       "      <th>none</th>\n",
       "      <td>110747.368421</td>\n",
       "    </tr>\n",
       "    <tr>\n",
       "      <th>senior</th>\n",
       "      <td>117470.588235</td>\n",
       "    </tr>\n",
       "    <tr>\n",
       "      <th rowspan=\"3\" valign=\"top\">Business Services</th>\n",
       "      <th>junior</th>\n",
       "      <td>56500.000000</td>\n",
       "    </tr>\n",
       "    <tr>\n",
       "      <th>none</th>\n",
       "      <td>97277.777778</td>\n",
       "    </tr>\n",
       "    <tr>\n",
       "      <th>senior</th>\n",
       "      <td>110916.666667</td>\n",
       "    </tr>\n",
       "    <tr>\n",
       "      <th>Construction, Repair &amp; Maintenance</th>\n",
       "      <th>none</th>\n",
       "      <td>26500.000000</td>\n",
       "    </tr>\n",
       "    <tr>\n",
       "      <th>Consumer Services</th>\n",
       "      <th>none</th>\n",
       "      <td>99875.000000</td>\n",
       "    </tr>\n",
       "    <tr>\n",
       "      <th>Education</th>\n",
       "      <th>none</th>\n",
       "      <td>100739.130435</td>\n",
       "    </tr>\n",
       "    <tr>\n",
       "      <th>Finance</th>\n",
       "      <th>none</th>\n",
       "      <td>97369.047619</td>\n",
       "    </tr>\n",
       "    <tr>\n",
       "      <th rowspan=\"2\" valign=\"top\">Government</th>\n",
       "      <th>junior</th>\n",
       "      <td>106500.000000</td>\n",
       "    </tr>\n",
       "    <tr>\n",
       "      <th>none</th>\n",
       "      <td>75750.000000</td>\n",
       "    </tr>\n",
       "    <tr>\n",
       "      <th rowspan=\"2\" valign=\"top\">Health Care</th>\n",
       "      <th>none</th>\n",
       "      <td>66173.913043</td>\n",
       "    </tr>\n",
       "    <tr>\n",
       "      <th>senior</th>\n",
       "      <td>89833.333333</td>\n",
       "    </tr>\n",
       "    <tr>\n",
       "      <th rowspan=\"2\" valign=\"top\">Information Technology</th>\n",
       "      <th>none</th>\n",
       "      <td>113351.428571</td>\n",
       "    </tr>\n",
       "    <tr>\n",
       "      <th>senior</th>\n",
       "      <td>107600.000000</td>\n",
       "    </tr>\n",
       "    <tr>\n",
       "      <th rowspan=\"2\" valign=\"top\">Insurance</th>\n",
       "      <th>none</th>\n",
       "      <td>104564.516129</td>\n",
       "    </tr>\n",
       "    <tr>\n",
       "      <th>senior</th>\n",
       "      <td>118142.857143</td>\n",
       "    </tr>\n",
       "    <tr>\n",
       "      <th>Manufacturing</th>\n",
       "      <th>none</th>\n",
       "      <td>84044.117647</td>\n",
       "    </tr>\n",
       "    <tr>\n",
       "      <th>Media</th>\n",
       "      <th>none</th>\n",
       "      <td>116666.666667</td>\n",
       "    </tr>\n",
       "    <tr>\n",
       "      <th>Mining &amp; Metals</th>\n",
       "      <th>none</th>\n",
       "      <td>104000.000000</td>\n",
       "    </tr>\n",
       "    <tr>\n",
       "      <th>Non-Profit</th>\n",
       "      <th>none</th>\n",
       "      <td>68611.111111</td>\n",
       "    </tr>\n",
       "    <tr>\n",
       "      <th>Oil, Gas, Energy &amp; Utilities</th>\n",
       "      <th>none</th>\n",
       "      <td>80464.285714</td>\n",
       "    </tr>\n",
       "    <tr>\n",
       "      <th>Real Estate</th>\n",
       "      <th>none</th>\n",
       "      <td>104750.000000</td>\n",
       "    </tr>\n",
       "    <tr>\n",
       "      <th rowspan=\"2\" valign=\"top\">Retail</th>\n",
       "      <th>none</th>\n",
       "      <td>100272.727273</td>\n",
       "    </tr>\n",
       "    <tr>\n",
       "      <th>senior</th>\n",
       "      <td>98000.000000</td>\n",
       "    </tr>\n",
       "    <tr>\n",
       "      <th>Telecommunications</th>\n",
       "      <th>none</th>\n",
       "      <td>102333.333333</td>\n",
       "    </tr>\n",
       "    <tr>\n",
       "      <th rowspan=\"2\" valign=\"top\">Transportation &amp; Logistics</th>\n",
       "      <th>none</th>\n",
       "      <td>94400.000000</td>\n",
       "    </tr>\n",
       "    <tr>\n",
       "      <th>senior</th>\n",
       "      <td>107500.000000</td>\n",
       "    </tr>\n",
       "    <tr>\n",
       "      <th rowspan=\"2\" valign=\"top\">Travel &amp; Tourism</th>\n",
       "      <th>none</th>\n",
       "      <td>64428.571429</td>\n",
       "    </tr>\n",
       "    <tr>\n",
       "      <th>senior</th>\n",
       "      <td>105000.000000</td>\n",
       "    </tr>\n",
       "  </tbody>\n",
       "</table>\n",
       "</div>"
      ],
      "text/plain": [
       "                                              average_salary\n",
       "Sector                             Seniority                \n",
       "-1                                 none        114650.000000\n",
       "Accounting & Legal                 none        113500.000000\n",
       "Aerospace & Defense                none         99060.000000\n",
       "Agriculture & Forestry             none         80500.000000\n",
       "Arts, Entertainment & Recreation   none         48500.000000\n",
       "Biotech & Pharmaceuticals          none        110747.368421\n",
       "                                   senior      117470.588235\n",
       "Business Services                  junior       56500.000000\n",
       "                                   none         97277.777778\n",
       "                                   senior      110916.666667\n",
       "Construction, Repair & Maintenance none         26500.000000\n",
       "Consumer Services                  none         99875.000000\n",
       "Education                          none        100739.130435\n",
       "Finance                            none         97369.047619\n",
       "Government                         junior      106500.000000\n",
       "                                   none         75750.000000\n",
       "Health Care                        none         66173.913043\n",
       "                                   senior       89833.333333\n",
       "Information Technology             none        113351.428571\n",
       "                                   senior      107600.000000\n",
       "Insurance                          none        104564.516129\n",
       "                                   senior      118142.857143\n",
       "Manufacturing                      none         84044.117647\n",
       "Media                              none        116666.666667\n",
       "Mining & Metals                    none        104000.000000\n",
       "Non-Profit                         none         68611.111111\n",
       "Oil, Gas, Energy & Utilities       none         80464.285714\n",
       "Real Estate                        none        104750.000000\n",
       "Retail                             none        100272.727273\n",
       "                                   senior       98000.000000\n",
       "Telecommunications                 none        102333.333333\n",
       "Transportation & Logistics         none         94400.000000\n",
       "                                   senior      107500.000000\n",
       "Travel & Tourism                   none         64428.571429\n",
       "                                   senior      105000.000000"
      ]
     },
     "execution_count": 74,
     "metadata": {},
     "output_type": "execute_result"
    }
   ],
   "source": [
    "z=data.groupby(by=['Sector','Seniority'])['average_salary'].mean()\n",
    "z=pd.DataFrame(z)\n",
    "z"
   ]
  },
  {
   "cell_type": "code",
   "execution_count": 75,
   "metadata": {},
   "outputs": [
    {
     "data": {
      "text/html": [
       "<div>\n",
       "<style scoped>\n",
       "    .dataframe tbody tr th:only-of-type {\n",
       "        vertical-align: middle;\n",
       "    }\n",
       "\n",
       "    .dataframe tbody tr th {\n",
       "        vertical-align: top;\n",
       "    }\n",
       "\n",
       "    .dataframe thead th {\n",
       "        text-align: right;\n",
       "    }\n",
       "</style>\n",
       "<table border=\"1\" class=\"dataframe\">\n",
       "  <thead>\n",
       "    <tr style=\"text-align: right;\">\n",
       "      <th></th>\n",
       "      <th>Sector</th>\n",
       "      <th>Seniority</th>\n",
       "      <th>average_salary</th>\n",
       "    </tr>\n",
       "  </thead>\n",
       "  <tbody>\n",
       "    <tr>\n",
       "      <th>33</th>\n",
       "      <td>Travel &amp; Tourism</td>\n",
       "      <td>none</td>\n",
       "      <td>64428.571429</td>\n",
       "    </tr>\n",
       "    <tr>\n",
       "      <th>34</th>\n",
       "      <td>Travel &amp; Tourism</td>\n",
       "      <td>senior</td>\n",
       "      <td>105000.000000</td>\n",
       "    </tr>\n",
       "  </tbody>\n",
       "</table>\n",
       "</div>"
      ],
      "text/plain": [
       "              Sector Seniority  average_salary\n",
       "33  Travel & Tourism      none    64428.571429\n",
       "34  Travel & Tourism    senior   105000.000000"
      ]
     },
     "execution_count": 75,
     "metadata": {},
     "output_type": "execute_result"
    }
   ],
   "source": [
    "sector_seniority = data.groupby(by=['Sector','Seniority'])['average_salary'].mean().reset_index()\n",
    "# Function to search for the sector and their seniority with their respective average salary\n",
    "def sector_senior(x):\n",
    "    return sector_seniority[sector_seniority['Sector']==x]\n",
    "sector_senior('Travel & Tourism')"
   ]
  },
  {
   "cell_type": "markdown",
   "metadata": {},
   "source": [
    "#### Top 10 industries that has the highest average salaries"
   ]
  },
  {
   "cell_type": "code",
   "execution_count": 76,
   "metadata": {},
   "outputs": [
    {
     "data": {
      "text/html": [
       "<div>\n",
       "<style scoped>\n",
       "    .dataframe tbody tr th:only-of-type {\n",
       "        vertical-align: middle;\n",
       "    }\n",
       "\n",
       "    .dataframe tbody tr th {\n",
       "        vertical-align: top;\n",
       "    }\n",
       "\n",
       "    .dataframe thead th {\n",
       "        text-align: right;\n",
       "    }\n",
       "</style>\n",
       "<table border=\"1\" class=\"dataframe\">\n",
       "  <thead>\n",
       "    <tr style=\"text-align: right;\">\n",
       "      <th></th>\n",
       "      <th></th>\n",
       "      <th>average_salary</th>\n",
       "    </tr>\n",
       "    <tr>\n",
       "      <th>Industry</th>\n",
       "      <th>Seniority</th>\n",
       "      <th></th>\n",
       "    </tr>\n",
       "  </thead>\n",
       "  <tbody>\n",
       "    <tr>\n",
       "      <th>-1</th>\n",
       "      <th>none</th>\n",
       "      <td>114650.000000</td>\n",
       "    </tr>\n",
       "    <tr>\n",
       "      <th>Accounting</th>\n",
       "      <th>none</th>\n",
       "      <td>113500.000000</td>\n",
       "    </tr>\n",
       "    <tr>\n",
       "      <th rowspan=\"2\" valign=\"top\">Advertising &amp; Marketing</th>\n",
       "      <th>junior</th>\n",
       "      <td>56500.000000</td>\n",
       "    </tr>\n",
       "    <tr>\n",
       "      <th>none</th>\n",
       "      <td>106291.666667</td>\n",
       "    </tr>\n",
       "    <tr>\n",
       "      <th>Aerospace &amp; Defense</th>\n",
       "      <th>none</th>\n",
       "      <td>99060.000000</td>\n",
       "    </tr>\n",
       "    <tr>\n",
       "      <th>...</th>\n",
       "      <th>...</th>\n",
       "      <td>...</td>\n",
       "    </tr>\n",
       "    <tr>\n",
       "      <th rowspan=\"2\" valign=\"top\">Travel Agencies</th>\n",
       "      <th>none</th>\n",
       "      <td>64428.571429</td>\n",
       "    </tr>\n",
       "    <tr>\n",
       "      <th>senior</th>\n",
       "      <td>105000.000000</td>\n",
       "    </tr>\n",
       "    <tr>\n",
       "      <th>Trucking</th>\n",
       "      <th>none</th>\n",
       "      <td>79000.000000</td>\n",
       "    </tr>\n",
       "    <tr>\n",
       "      <th>Video Games</th>\n",
       "      <th>none</th>\n",
       "      <td>106166.666667</td>\n",
       "    </tr>\n",
       "    <tr>\n",
       "      <th>Wholesale</th>\n",
       "      <th>none</th>\n",
       "      <td>103166.666667</td>\n",
       "    </tr>\n",
       "  </tbody>\n",
       "</table>\n",
       "<p>73 rows × 1 columns</p>\n",
       "</div>"
      ],
      "text/plain": [
       "                                   average_salary\n",
       "Industry                Seniority                \n",
       "-1                      none        114650.000000\n",
       "Accounting              none        113500.000000\n",
       "Advertising & Marketing junior       56500.000000\n",
       "                        none        106291.666667\n",
       "Aerospace & Defense     none         99060.000000\n",
       "...                                           ...\n",
       "Travel Agencies         none         64428.571429\n",
       "                        senior      105000.000000\n",
       "Trucking                none         79000.000000\n",
       "Video Games             none        106166.666667\n",
       "Wholesale               none        103166.666667\n",
       "\n",
       "[73 rows x 1 columns]"
      ]
     },
     "execution_count": 76,
     "metadata": {},
     "output_type": "execute_result"
    }
   ],
   "source": [
    "data_industry = data.groupby(by=['Industry','Seniority'])['average_salary'].mean()\n",
    "data_industry=pd.DataFrame(data_industry)\n",
    "data_industry"
   ]
  },
  {
   "cell_type": "markdown",
   "metadata": {},
   "source": [
    "### One-way ANOVA"
   ]
  },
  {
   "cell_type": "markdown",
   "metadata": {},
   "source": [
    "#### Null Hypothesis - Senior positions earn more than juniors"
   ]
  },
  {
   "cell_type": "code",
   "execution_count": 77,
   "metadata": {},
   "outputs": [],
   "source": [
    "data_senior = data.average_salary[data['Seniority']=='senior']\n",
    "data_junior = data.average_salary[data['Seniority']=='junior']\n",
    "data_na = data.average_salary[data['Seniority']=='none']"
   ]
  },
  {
   "cell_type": "code",
   "execution_count": 78,
   "metadata": {},
   "outputs": [
    {
     "name": "stdout",
     "output_type": "stream",
     "text": [
      "2.056951354427711 0.12857445273791326\n"
     ]
    }
   ],
   "source": [
    "fvalue, pvalue = stats.f_oneway(data_senior,data_junior,data_na)\n",
    "print(fvalue, pvalue)"
   ]
  },
  {
   "cell_type": "markdown",
   "metadata": {},
   "source": [
    "As p-value is not less than 0.05, we cannot reject the null hypothesis."
   ]
  },
  {
   "cell_type": "markdown",
   "metadata": {},
   "source": [
    "#### Null Hypothesis - Data Scientists are earning more than data analysts"
   ]
  },
  {
   "cell_type": "code",
   "execution_count": 79,
   "metadata": {},
   "outputs": [],
   "source": [
    "data_scientist = data.average_salary[data['Job Title']=='data scientist']\n",
    "data_analyst = data.average_salary[data['Job Title']=='data analyst']\n",
    "data_engineer = data.average_salary[data['Job Title']=='data engineer']"
   ]
  },
  {
   "cell_type": "code",
   "execution_count": 80,
   "metadata": {},
   "outputs": [
    {
     "name": "stdout",
     "output_type": "stream",
     "text": [
      "114.61548159422699 1.1681118063472526e-41\n"
     ]
    }
   ],
   "source": [
    "fvalue, pvalue = stats.f_oneway(data_scientist,data_analyst,data_engineer)\n",
    "print(fvalue, pvalue)"
   ]
  },
  {
   "cell_type": "markdown",
   "metadata": {},
   "source": [
    "We cannot reject the null hypothesis. Our original assumption that data scientists earn more than data analysts and engineers are true."
   ]
  },
  {
   "cell_type": "code",
   "execution_count": 82,
   "metadata": {},
   "outputs": [],
   "source": [
    "data.to_csv (r'C:/Users/manit/OneDrive/Desktop/Projects/Data science Salary estimator/export_dataframe.csv', index = None, header=True) \n"
   ]
  },
  {
   "cell_type": "markdown",
   "metadata": {},
   "source": [
    "#### Splitting the data into two groups. Below average salary and above average salary"
   ]
  },
  {
   "cell_type": "code",
   "execution_count": 83,
   "metadata": {},
   "outputs": [],
   "source": [
    "mean1=data['average_salary'].mean()\n",
    "data['below_above_salaries']= data['average_salary'].apply(lambda x: 'below average' if x<=mean1 else 'above average')"
   ]
  },
  {
   "cell_type": "code",
   "execution_count": 84,
   "metadata": {},
   "outputs": [
    {
     "data": {
      "text/plain": [
       "68"
      ]
     },
     "execution_count": 84,
     "metadata": {},
     "output_type": "execute_result"
    }
   ],
   "source": [
    "below_average = data[data['below_above_salaries']=='below average']\n",
    "above_average =data[data['below_above_salaries']=='above average']\n",
    "below_average.shape[0] - above_average.shape[0]"
   ]
  },
  {
   "cell_type": "markdown",
   "metadata": {},
   "source": [
    "There are 68 job listings with salary lesser than the job listings for average salary."
   ]
  },
  {
   "cell_type": "markdown",
   "metadata": {},
   "source": [
    "#### Counts of listings of salaries (below average and above average)"
   ]
  },
  {
   "cell_type": "code",
   "execution_count": 85,
   "metadata": {},
   "outputs": [
    {
     "data": {
      "text/html": [
       "<style type=\"text/css\">\n",
       "#T_dfced_row0_col1, #T_dfced_row1_col2, #T_dfced_row4_col0 {\n",
       "  background-color: lightblue;\n",
       "}\n",
       "</style>\n",
       "<table id=\"T_dfced\">\n",
       "  <thead>\n",
       "    <tr>\n",
       "      <th class=\"blank level0\" >&nbsp;</th>\n",
       "      <th id=\"T_dfced_level0_col0\" class=\"col_heading level0 col0\" >Positions</th>\n",
       "      <th id=\"T_dfced_level0_col1\" class=\"col_heading level0 col1\" >Below average</th>\n",
       "      <th id=\"T_dfced_level0_col2\" class=\"col_heading level0 col2\" >Above average</th>\n",
       "    </tr>\n",
       "  </thead>\n",
       "  <tbody>\n",
       "    <tr>\n",
       "      <th id=\"T_dfced_level0_row0\" class=\"row_heading level0 row0\" >0</th>\n",
       "      <td id=\"T_dfced_row0_col0\" class=\"data row0 col0\" >other positions</td>\n",
       "      <td id=\"T_dfced_row0_col1\" class=\"data row0 col1\" >143</td>\n",
       "      <td id=\"T_dfced_row0_col2\" class=\"data row0 col2\" >73</td>\n",
       "    </tr>\n",
       "    <tr>\n",
       "      <th id=\"T_dfced_level0_row1\" class=\"row_heading level0 row1\" >1</th>\n",
       "      <td id=\"T_dfced_row1_col0\" class=\"data row1 col0\" >data scientist</td>\n",
       "      <td id=\"T_dfced_row1_col1\" class=\"data row1 col1\" >94</td>\n",
       "      <td id=\"T_dfced_row1_col2\" class=\"data row1 col2\" >185</td>\n",
       "    </tr>\n",
       "    <tr>\n",
       "      <th id=\"T_dfced_level0_row2\" class=\"row_heading level0 row2\" >2</th>\n",
       "      <td id=\"T_dfced_row2_col0\" class=\"data row2 col0\" >data analyst</td>\n",
       "      <td id=\"T_dfced_row2_col1\" class=\"data row2 col1\" >94</td>\n",
       "      <td id=\"T_dfced_row2_col2\" class=\"data row2 col2\" >9</td>\n",
       "    </tr>\n",
       "    <tr>\n",
       "      <th id=\"T_dfced_level0_row3\" class=\"row_heading level0 row3\" >3</th>\n",
       "      <td id=\"T_dfced_row3_col0\" class=\"data row3 col0\" >data engineer</td>\n",
       "      <td id=\"T_dfced_row3_col1\" class=\"data row3 col1\" >62</td>\n",
       "      <td id=\"T_dfced_row3_col2\" class=\"data row3 col2\" >56</td>\n",
       "    </tr>\n",
       "    <tr>\n",
       "      <th id=\"T_dfced_level0_row4\" class=\"row_heading level0 row4\" >4</th>\n",
       "      <td id=\"T_dfced_row4_col0\" class=\"data row4 col0\" >research</td>\n",
       "      <td id=\"T_dfced_row4_col1\" class=\"data row4 col1\" >12</td>\n",
       "      <td id=\"T_dfced_row4_col2\" class=\"data row4 col2\" >14</td>\n",
       "    </tr>\n",
       "  </tbody>\n",
       "</table>\n"
      ],
      "text/plain": [
       "<pandas.io.formats.style.Styler at 0x24d333f4dc0>"
      ]
     },
     "execution_count": 85,
     "metadata": {},
     "output_type": "execute_result"
    }
   ],
   "source": [
    "d1=below_average['Job Title'].value_counts().reset_index()\n",
    "d1.rename(columns={'Job Title':'Below average','index':'Positions'},inplace=True)\n",
    "d2=above_average['Job Title'].value_counts().reset_index()\n",
    "d2.rename(columns={'Job Title':'Above average','index':'Positions'},inplace=True)\n",
    "salaries=pd.merge(d1,d2,on='Positions')\n",
    "salaries.style.highlight_max(color = 'lightblue', axis = 0)"
   ]
  },
  {
   "cell_type": "markdown",
   "metadata": {},
   "source": [
    "##### Count of job listings for salary lesser than the average salary and above salary"
   ]
  },
  {
   "cell_type": "code",
   "execution_count": 86,
   "metadata": {},
   "outputs": [
    {
     "data": {
      "text/html": [
       "<div>\n",
       "<style scoped>\n",
       "    .dataframe tbody tr th:only-of-type {\n",
       "        vertical-align: middle;\n",
       "    }\n",
       "\n",
       "    .dataframe tbody tr th {\n",
       "        vertical-align: top;\n",
       "    }\n",
       "\n",
       "    .dataframe thead th {\n",
       "        text-align: right;\n",
       "    }\n",
       "</style>\n",
       "<table border=\"1\" class=\"dataframe\">\n",
       "  <thead>\n",
       "    <tr style=\"text-align: right;\">\n",
       "      <th></th>\n",
       "      <th></th>\n",
       "      <th>count_below_average</th>\n",
       "    </tr>\n",
       "    <tr>\n",
       "      <th>Job Title</th>\n",
       "      <th>Seniority</th>\n",
       "      <th></th>\n",
       "    </tr>\n",
       "  </thead>\n",
       "  <tbody>\n",
       "    <tr>\n",
       "      <th rowspan=\"3\" valign=\"top\">data analyst</th>\n",
       "      <th>junior</th>\n",
       "      <td>1</td>\n",
       "    </tr>\n",
       "    <tr>\n",
       "      <th>none</th>\n",
       "      <td>88</td>\n",
       "    </tr>\n",
       "    <tr>\n",
       "      <th>senior</th>\n",
       "      <td>5</td>\n",
       "    </tr>\n",
       "    <tr>\n",
       "      <th rowspan=\"2\" valign=\"top\">data engineer</th>\n",
       "      <th>none</th>\n",
       "      <td>56</td>\n",
       "    </tr>\n",
       "    <tr>\n",
       "      <th>senior</th>\n",
       "      <td>6</td>\n",
       "    </tr>\n",
       "    <tr>\n",
       "      <th>data scientist</th>\n",
       "      <th>none</th>\n",
       "      <td>94</td>\n",
       "    </tr>\n",
       "    <tr>\n",
       "      <th rowspan=\"2\" valign=\"top\">other positions</th>\n",
       "      <th>none</th>\n",
       "      <td>137</td>\n",
       "    </tr>\n",
       "    <tr>\n",
       "      <th>senior</th>\n",
       "      <td>6</td>\n",
       "    </tr>\n",
       "    <tr>\n",
       "      <th rowspan=\"2\" valign=\"top\">research</th>\n",
       "      <th>none</th>\n",
       "      <td>10</td>\n",
       "    </tr>\n",
       "    <tr>\n",
       "      <th>senior</th>\n",
       "      <td>2</td>\n",
       "    </tr>\n",
       "  </tbody>\n",
       "</table>\n",
       "</div>"
      ],
      "text/plain": [
       "                           count_below_average\n",
       "Job Title       Seniority                     \n",
       "data analyst    junior                       1\n",
       "                none                        88\n",
       "                senior                       5\n",
       "data engineer   none                        56\n",
       "                senior                       6\n",
       "data scientist  none                        94\n",
       "other positions none                       137\n",
       "                senior                       6\n",
       "research        none                        10\n",
       "                senior                       2"
      ]
     },
     "execution_count": 86,
     "metadata": {},
     "output_type": "execute_result"
    }
   ],
   "source": [
    "below_postings = below_average.groupby(by=['Job Title','Seniority'])['average_salary'].count()\n",
    "below_postings=pd.DataFrame(below_postings)\n",
    "below_postings.rename(columns={'average_salary':'count_below_average'},inplace=True)\n",
    "below_postings"
   ]
  },
  {
   "cell_type": "code",
   "execution_count": 87,
   "metadata": {},
   "outputs": [
    {
     "data": {
      "text/html": [
       "<div>\n",
       "<style scoped>\n",
       "    .dataframe tbody tr th:only-of-type {\n",
       "        vertical-align: middle;\n",
       "    }\n",
       "\n",
       "    .dataframe tbody tr th {\n",
       "        vertical-align: top;\n",
       "    }\n",
       "\n",
       "    .dataframe thead th {\n",
       "        text-align: right;\n",
       "    }\n",
       "</style>\n",
       "<table border=\"1\" class=\"dataframe\">\n",
       "  <thead>\n",
       "    <tr style=\"text-align: right;\">\n",
       "      <th></th>\n",
       "      <th></th>\n",
       "      <th>count_above_average</th>\n",
       "    </tr>\n",
       "    <tr>\n",
       "      <th>Job Title</th>\n",
       "      <th>Seniority</th>\n",
       "      <th></th>\n",
       "    </tr>\n",
       "  </thead>\n",
       "  <tbody>\n",
       "    <tr>\n",
       "      <th>data analyst</th>\n",
       "      <th>none</th>\n",
       "      <td>9</td>\n",
       "    </tr>\n",
       "    <tr>\n",
       "      <th rowspan=\"2\" valign=\"top\">data engineer</th>\n",
       "      <th>none</th>\n",
       "      <td>47</td>\n",
       "    </tr>\n",
       "    <tr>\n",
       "      <th>senior</th>\n",
       "      <td>9</td>\n",
       "    </tr>\n",
       "    <tr>\n",
       "      <th rowspan=\"3\" valign=\"top\">data scientist</th>\n",
       "      <th>junior</th>\n",
       "      <td>1</td>\n",
       "    </tr>\n",
       "    <tr>\n",
       "      <th>none</th>\n",
       "      <td>173</td>\n",
       "    </tr>\n",
       "    <tr>\n",
       "      <th>senior</th>\n",
       "      <td>11</td>\n",
       "    </tr>\n",
       "    <tr>\n",
       "      <th rowspan=\"2\" valign=\"top\">other positions</th>\n",
       "      <th>none</th>\n",
       "      <td>66</td>\n",
       "    </tr>\n",
       "    <tr>\n",
       "      <th>senior</th>\n",
       "      <td>7</td>\n",
       "    </tr>\n",
       "    <tr>\n",
       "      <th>research</th>\n",
       "      <th>none</th>\n",
       "      <td>14</td>\n",
       "    </tr>\n",
       "  </tbody>\n",
       "</table>\n",
       "</div>"
      ],
      "text/plain": [
       "                           count_above_average\n",
       "Job Title       Seniority                     \n",
       "data analyst    none                         9\n",
       "data engineer   none                        47\n",
       "                senior                       9\n",
       "data scientist  junior                       1\n",
       "                none                       173\n",
       "                senior                      11\n",
       "other positions none                        66\n",
       "                senior                       7\n",
       "research        none                        14"
      ]
     },
     "execution_count": 87,
     "metadata": {},
     "output_type": "execute_result"
    }
   ],
   "source": [
    "above_postings = above_average.groupby(by=['Job Title','Seniority'])['average_salary'].count()\n",
    "above_postings=pd.DataFrame(above_postings)\n",
    "above_postings.rename(columns={'average_salary':'count_above_average'},inplace=True)\n",
    "above_postings"
   ]
  },
  {
   "cell_type": "code",
   "execution_count": 88,
   "metadata": {},
   "outputs": [
    {
     "data": {
      "application/vnd.plotly.v1+json": {
       "config": {
        "plotlyServerURL": "https://plotly.com"
       },
       "data": [
        {
         "alignmentgroup": "True",
         "hovertemplate": "Seniority=none<br>average_salary=%{text}<br>Job Title=%{y}<extra></extra>",
         "legendgroup": "none",
         "marker": {
          "color": "#636efa",
          "pattern": {
           "shape": ""
          }
         },
         "name": "none",
         "offsetgroup": "none",
         "orientation": "h",
         "showlegend": true,
         "text": [
          9,
          47,
          173,
          66,
          14
         ],
         "textposition": "auto",
         "type": "bar",
         "x": [
          9,
          47,
          173,
          66,
          14
         ],
         "xaxis": "x",
         "y": [
          "data analyst",
          "data engineer",
          "data scientist",
          "other positions",
          "research"
         ],
         "yaxis": "y"
        },
        {
         "alignmentgroup": "True",
         "hovertemplate": "Seniority=senior<br>average_salary=%{text}<br>Job Title=%{y}<extra></extra>",
         "legendgroup": "senior",
         "marker": {
          "color": "#EF553B",
          "pattern": {
           "shape": ""
          }
         },
         "name": "senior",
         "offsetgroup": "senior",
         "orientation": "h",
         "showlegend": true,
         "text": [
          9,
          11,
          7
         ],
         "textposition": "auto",
         "type": "bar",
         "x": [
          9,
          11,
          7
         ],
         "xaxis": "x",
         "y": [
          "data engineer",
          "data scientist",
          "other positions"
         ],
         "yaxis": "y"
        },
        {
         "alignmentgroup": "True",
         "hovertemplate": "Seniority=junior<br>average_salary=%{text}<br>Job Title=%{y}<extra></extra>",
         "legendgroup": "junior",
         "marker": {
          "color": "#00cc96",
          "pattern": {
           "shape": ""
          }
         },
         "name": "junior",
         "offsetgroup": "junior",
         "orientation": "h",
         "showlegend": true,
         "text": [
          1
         ],
         "textposition": "auto",
         "type": "bar",
         "x": [
          1
         ],
         "xaxis": "x",
         "y": [
          "data scientist"
         ],
         "yaxis": "y"
        }
       ],
       "layout": {
        "barmode": "relative",
        "legend": {
         "title": {
          "text": "Seniority"
         },
         "tracegroupgap": 0
        },
        "template": {
         "data": {
          "bar": [
           {
            "error_x": {
             "color": "#2a3f5f"
            },
            "error_y": {
             "color": "#2a3f5f"
            },
            "marker": {
             "line": {
              "color": "#E5ECF6",
              "width": 0.5
             },
             "pattern": {
              "fillmode": "overlay",
              "size": 10,
              "solidity": 0.2
             }
            },
            "type": "bar"
           }
          ],
          "barpolar": [
           {
            "marker": {
             "line": {
              "color": "#E5ECF6",
              "width": 0.5
             },
             "pattern": {
              "fillmode": "overlay",
              "size": 10,
              "solidity": 0.2
             }
            },
            "type": "barpolar"
           }
          ],
          "carpet": [
           {
            "aaxis": {
             "endlinecolor": "#2a3f5f",
             "gridcolor": "white",
             "linecolor": "white",
             "minorgridcolor": "white",
             "startlinecolor": "#2a3f5f"
            },
            "baxis": {
             "endlinecolor": "#2a3f5f",
             "gridcolor": "white",
             "linecolor": "white",
             "minorgridcolor": "white",
             "startlinecolor": "#2a3f5f"
            },
            "type": "carpet"
           }
          ],
          "choropleth": [
           {
            "colorbar": {
             "outlinewidth": 0,
             "ticks": ""
            },
            "type": "choropleth"
           }
          ],
          "contour": [
           {
            "colorbar": {
             "outlinewidth": 0,
             "ticks": ""
            },
            "colorscale": [
             [
              0,
              "#0d0887"
             ],
             [
              0.1111111111111111,
              "#46039f"
             ],
             [
              0.2222222222222222,
              "#7201a8"
             ],
             [
              0.3333333333333333,
              "#9c179e"
             ],
             [
              0.4444444444444444,
              "#bd3786"
             ],
             [
              0.5555555555555556,
              "#d8576b"
             ],
             [
              0.6666666666666666,
              "#ed7953"
             ],
             [
              0.7777777777777778,
              "#fb9f3a"
             ],
             [
              0.8888888888888888,
              "#fdca26"
             ],
             [
              1,
              "#f0f921"
             ]
            ],
            "type": "contour"
           }
          ],
          "contourcarpet": [
           {
            "colorbar": {
             "outlinewidth": 0,
             "ticks": ""
            },
            "type": "contourcarpet"
           }
          ],
          "heatmap": [
           {
            "colorbar": {
             "outlinewidth": 0,
             "ticks": ""
            },
            "colorscale": [
             [
              0,
              "#0d0887"
             ],
             [
              0.1111111111111111,
              "#46039f"
             ],
             [
              0.2222222222222222,
              "#7201a8"
             ],
             [
              0.3333333333333333,
              "#9c179e"
             ],
             [
              0.4444444444444444,
              "#bd3786"
             ],
             [
              0.5555555555555556,
              "#d8576b"
             ],
             [
              0.6666666666666666,
              "#ed7953"
             ],
             [
              0.7777777777777778,
              "#fb9f3a"
             ],
             [
              0.8888888888888888,
              "#fdca26"
             ],
             [
              1,
              "#f0f921"
             ]
            ],
            "type": "heatmap"
           }
          ],
          "heatmapgl": [
           {
            "colorbar": {
             "outlinewidth": 0,
             "ticks": ""
            },
            "colorscale": [
             [
              0,
              "#0d0887"
             ],
             [
              0.1111111111111111,
              "#46039f"
             ],
             [
              0.2222222222222222,
              "#7201a8"
             ],
             [
              0.3333333333333333,
              "#9c179e"
             ],
             [
              0.4444444444444444,
              "#bd3786"
             ],
             [
              0.5555555555555556,
              "#d8576b"
             ],
             [
              0.6666666666666666,
              "#ed7953"
             ],
             [
              0.7777777777777778,
              "#fb9f3a"
             ],
             [
              0.8888888888888888,
              "#fdca26"
             ],
             [
              1,
              "#f0f921"
             ]
            ],
            "type": "heatmapgl"
           }
          ],
          "histogram": [
           {
            "marker": {
             "pattern": {
              "fillmode": "overlay",
              "size": 10,
              "solidity": 0.2
             }
            },
            "type": "histogram"
           }
          ],
          "histogram2d": [
           {
            "colorbar": {
             "outlinewidth": 0,
             "ticks": ""
            },
            "colorscale": [
             [
              0,
              "#0d0887"
             ],
             [
              0.1111111111111111,
              "#46039f"
             ],
             [
              0.2222222222222222,
              "#7201a8"
             ],
             [
              0.3333333333333333,
              "#9c179e"
             ],
             [
              0.4444444444444444,
              "#bd3786"
             ],
             [
              0.5555555555555556,
              "#d8576b"
             ],
             [
              0.6666666666666666,
              "#ed7953"
             ],
             [
              0.7777777777777778,
              "#fb9f3a"
             ],
             [
              0.8888888888888888,
              "#fdca26"
             ],
             [
              1,
              "#f0f921"
             ]
            ],
            "type": "histogram2d"
           }
          ],
          "histogram2dcontour": [
           {
            "colorbar": {
             "outlinewidth": 0,
             "ticks": ""
            },
            "colorscale": [
             [
              0,
              "#0d0887"
             ],
             [
              0.1111111111111111,
              "#46039f"
             ],
             [
              0.2222222222222222,
              "#7201a8"
             ],
             [
              0.3333333333333333,
              "#9c179e"
             ],
             [
              0.4444444444444444,
              "#bd3786"
             ],
             [
              0.5555555555555556,
              "#d8576b"
             ],
             [
              0.6666666666666666,
              "#ed7953"
             ],
             [
              0.7777777777777778,
              "#fb9f3a"
             ],
             [
              0.8888888888888888,
              "#fdca26"
             ],
             [
              1,
              "#f0f921"
             ]
            ],
            "type": "histogram2dcontour"
           }
          ],
          "mesh3d": [
           {
            "colorbar": {
             "outlinewidth": 0,
             "ticks": ""
            },
            "type": "mesh3d"
           }
          ],
          "parcoords": [
           {
            "line": {
             "colorbar": {
              "outlinewidth": 0,
              "ticks": ""
             }
            },
            "type": "parcoords"
           }
          ],
          "pie": [
           {
            "automargin": true,
            "type": "pie"
           }
          ],
          "scatter": [
           {
            "fillpattern": {
             "fillmode": "overlay",
             "size": 10,
             "solidity": 0.2
            },
            "type": "scatter"
           }
          ],
          "scatter3d": [
           {
            "line": {
             "colorbar": {
              "outlinewidth": 0,
              "ticks": ""
             }
            },
            "marker": {
             "colorbar": {
              "outlinewidth": 0,
              "ticks": ""
             }
            },
            "type": "scatter3d"
           }
          ],
          "scattercarpet": [
           {
            "marker": {
             "colorbar": {
              "outlinewidth": 0,
              "ticks": ""
             }
            },
            "type": "scattercarpet"
           }
          ],
          "scattergeo": [
           {
            "marker": {
             "colorbar": {
              "outlinewidth": 0,
              "ticks": ""
             }
            },
            "type": "scattergeo"
           }
          ],
          "scattergl": [
           {
            "marker": {
             "colorbar": {
              "outlinewidth": 0,
              "ticks": ""
             }
            },
            "type": "scattergl"
           }
          ],
          "scattermapbox": [
           {
            "marker": {
             "colorbar": {
              "outlinewidth": 0,
              "ticks": ""
             }
            },
            "type": "scattermapbox"
           }
          ],
          "scatterpolar": [
           {
            "marker": {
             "colorbar": {
              "outlinewidth": 0,
              "ticks": ""
             }
            },
            "type": "scatterpolar"
           }
          ],
          "scatterpolargl": [
           {
            "marker": {
             "colorbar": {
              "outlinewidth": 0,
              "ticks": ""
             }
            },
            "type": "scatterpolargl"
           }
          ],
          "scatterternary": [
           {
            "marker": {
             "colorbar": {
              "outlinewidth": 0,
              "ticks": ""
             }
            },
            "type": "scatterternary"
           }
          ],
          "surface": [
           {
            "colorbar": {
             "outlinewidth": 0,
             "ticks": ""
            },
            "colorscale": [
             [
              0,
              "#0d0887"
             ],
             [
              0.1111111111111111,
              "#46039f"
             ],
             [
              0.2222222222222222,
              "#7201a8"
             ],
             [
              0.3333333333333333,
              "#9c179e"
             ],
             [
              0.4444444444444444,
              "#bd3786"
             ],
             [
              0.5555555555555556,
              "#d8576b"
             ],
             [
              0.6666666666666666,
              "#ed7953"
             ],
             [
              0.7777777777777778,
              "#fb9f3a"
             ],
             [
              0.8888888888888888,
              "#fdca26"
             ],
             [
              1,
              "#f0f921"
             ]
            ],
            "type": "surface"
           }
          ],
          "table": [
           {
            "cells": {
             "fill": {
              "color": "#EBF0F8"
             },
             "line": {
              "color": "white"
             }
            },
            "header": {
             "fill": {
              "color": "#C8D4E3"
             },
             "line": {
              "color": "white"
             }
            },
            "type": "table"
           }
          ]
         },
         "layout": {
          "annotationdefaults": {
           "arrowcolor": "#2a3f5f",
           "arrowhead": 0,
           "arrowwidth": 1
          },
          "autotypenumbers": "strict",
          "coloraxis": {
           "colorbar": {
            "outlinewidth": 0,
            "ticks": ""
           }
          },
          "colorscale": {
           "diverging": [
            [
             0,
             "#8e0152"
            ],
            [
             0.1,
             "#c51b7d"
            ],
            [
             0.2,
             "#de77ae"
            ],
            [
             0.3,
             "#f1b6da"
            ],
            [
             0.4,
             "#fde0ef"
            ],
            [
             0.5,
             "#f7f7f7"
            ],
            [
             0.6,
             "#e6f5d0"
            ],
            [
             0.7,
             "#b8e186"
            ],
            [
             0.8,
             "#7fbc41"
            ],
            [
             0.9,
             "#4d9221"
            ],
            [
             1,
             "#276419"
            ]
           ],
           "sequential": [
            [
             0,
             "#0d0887"
            ],
            [
             0.1111111111111111,
             "#46039f"
            ],
            [
             0.2222222222222222,
             "#7201a8"
            ],
            [
             0.3333333333333333,
             "#9c179e"
            ],
            [
             0.4444444444444444,
             "#bd3786"
            ],
            [
             0.5555555555555556,
             "#d8576b"
            ],
            [
             0.6666666666666666,
             "#ed7953"
            ],
            [
             0.7777777777777778,
             "#fb9f3a"
            ],
            [
             0.8888888888888888,
             "#fdca26"
            ],
            [
             1,
             "#f0f921"
            ]
           ],
           "sequentialminus": [
            [
             0,
             "#0d0887"
            ],
            [
             0.1111111111111111,
             "#46039f"
            ],
            [
             0.2222222222222222,
             "#7201a8"
            ],
            [
             0.3333333333333333,
             "#9c179e"
            ],
            [
             0.4444444444444444,
             "#bd3786"
            ],
            [
             0.5555555555555556,
             "#d8576b"
            ],
            [
             0.6666666666666666,
             "#ed7953"
            ],
            [
             0.7777777777777778,
             "#fb9f3a"
            ],
            [
             0.8888888888888888,
             "#fdca26"
            ],
            [
             1,
             "#f0f921"
            ]
           ]
          },
          "colorway": [
           "#636efa",
           "#EF553B",
           "#00cc96",
           "#ab63fa",
           "#FFA15A",
           "#19d3f3",
           "#FF6692",
           "#B6E880",
           "#FF97FF",
           "#FECB52"
          ],
          "font": {
           "color": "#2a3f5f"
          },
          "geo": {
           "bgcolor": "white",
           "lakecolor": "white",
           "landcolor": "#E5ECF6",
           "showlakes": true,
           "showland": true,
           "subunitcolor": "white"
          },
          "hoverlabel": {
           "align": "left"
          },
          "hovermode": "closest",
          "mapbox": {
           "style": "light"
          },
          "paper_bgcolor": "white",
          "plot_bgcolor": "#E5ECF6",
          "polar": {
           "angularaxis": {
            "gridcolor": "white",
            "linecolor": "white",
            "ticks": ""
           },
           "bgcolor": "#E5ECF6",
           "radialaxis": {
            "gridcolor": "white",
            "linecolor": "white",
            "ticks": ""
           }
          },
          "scene": {
           "xaxis": {
            "backgroundcolor": "#E5ECF6",
            "gridcolor": "white",
            "gridwidth": 2,
            "linecolor": "white",
            "showbackground": true,
            "ticks": "",
            "zerolinecolor": "white"
           },
           "yaxis": {
            "backgroundcolor": "#E5ECF6",
            "gridcolor": "white",
            "gridwidth": 2,
            "linecolor": "white",
            "showbackground": true,
            "ticks": "",
            "zerolinecolor": "white"
           },
           "zaxis": {
            "backgroundcolor": "#E5ECF6",
            "gridcolor": "white",
            "gridwidth": 2,
            "linecolor": "white",
            "showbackground": true,
            "ticks": "",
            "zerolinecolor": "white"
           }
          },
          "shapedefaults": {
           "line": {
            "color": "#2a3f5f"
           }
          },
          "ternary": {
           "aaxis": {
            "gridcolor": "white",
            "linecolor": "white",
            "ticks": ""
           },
           "baxis": {
            "gridcolor": "white",
            "linecolor": "white",
            "ticks": ""
           },
           "bgcolor": "#E5ECF6",
           "caxis": {
            "gridcolor": "white",
            "linecolor": "white",
            "ticks": ""
           }
          },
          "title": {
           "x": 0.05
          },
          "xaxis": {
           "automargin": true,
           "gridcolor": "white",
           "linecolor": "white",
           "ticks": "",
           "title": {
            "standoff": 15
           },
           "zerolinecolor": "white",
           "zerolinewidth": 2
          },
          "yaxis": {
           "automargin": true,
           "gridcolor": "white",
           "linecolor": "white",
           "ticks": "",
           "title": {
            "standoff": 15
           },
           "zerolinecolor": "white",
           "zerolinewidth": 2
          }
         }
        },
        "title": {
         "text": "Job Seniority and count"
        },
        "xaxis": {
         "anchor": "y",
         "domain": [
          0,
          1
         ],
         "title": {
          "text": "average_salary"
         }
        },
        "yaxis": {
         "anchor": "x",
         "domain": [
          0,
          1
         ],
         "title": {
          "text": "Job Title"
         }
        }
       }
      }
     },
     "metadata": {},
     "output_type": "display_data"
    }
   ],
   "source": [
    "above_postings1 = above_average.groupby(by=['Job Title','Seniority'])['average_salary'].count().reset_index()\n",
    "fig = px.bar(above_postings1, y='Job Title', x='average_salary',title='Job Seniority and count',text='average_salary',color='Seniority')\n",
    "fig.show()"
   ]
  },
  {
   "cell_type": "code",
   "execution_count": 89,
   "metadata": {},
   "outputs": [
    {
     "data": {
      "application/vnd.plotly.v1+json": {
       "config": {
        "plotlyServerURL": "https://plotly.com"
       },
       "data": [
        {
         "alignmentgroup": "True",
         "hovertemplate": "Seniority=junior<br>average_salary=%{text}<br>Job Title=%{y}<extra></extra>",
         "legendgroup": "junior",
         "marker": {
          "color": "#636efa",
          "pattern": {
           "shape": ""
          }
         },
         "name": "junior",
         "offsetgroup": "junior",
         "orientation": "h",
         "showlegend": true,
         "text": [
          1
         ],
         "textposition": "auto",
         "type": "bar",
         "x": [
          1
         ],
         "xaxis": "x",
         "y": [
          "data analyst"
         ],
         "yaxis": "y"
        },
        {
         "alignmentgroup": "True",
         "hovertemplate": "Seniority=none<br>average_salary=%{text}<br>Job Title=%{y}<extra></extra>",
         "legendgroup": "none",
         "marker": {
          "color": "#EF553B",
          "pattern": {
           "shape": ""
          }
         },
         "name": "none",
         "offsetgroup": "none",
         "orientation": "h",
         "showlegend": true,
         "text": [
          88,
          56,
          94,
          137,
          10
         ],
         "textposition": "auto",
         "type": "bar",
         "x": [
          88,
          56,
          94,
          137,
          10
         ],
         "xaxis": "x",
         "y": [
          "data analyst",
          "data engineer",
          "data scientist",
          "other positions",
          "research"
         ],
         "yaxis": "y"
        },
        {
         "alignmentgroup": "True",
         "hovertemplate": "Seniority=senior<br>average_salary=%{text}<br>Job Title=%{y}<extra></extra>",
         "legendgroup": "senior",
         "marker": {
          "color": "#00cc96",
          "pattern": {
           "shape": ""
          }
         },
         "name": "senior",
         "offsetgroup": "senior",
         "orientation": "h",
         "showlegend": true,
         "text": [
          5,
          6,
          6,
          2
         ],
         "textposition": "auto",
         "type": "bar",
         "x": [
          5,
          6,
          6,
          2
         ],
         "xaxis": "x",
         "y": [
          "data analyst",
          "data engineer",
          "other positions",
          "research"
         ],
         "yaxis": "y"
        }
       ],
       "layout": {
        "barmode": "relative",
        "legend": {
         "title": {
          "text": "Seniority"
         },
         "tracegroupgap": 0
        },
        "template": {
         "data": {
          "bar": [
           {
            "error_x": {
             "color": "#2a3f5f"
            },
            "error_y": {
             "color": "#2a3f5f"
            },
            "marker": {
             "line": {
              "color": "#E5ECF6",
              "width": 0.5
             },
             "pattern": {
              "fillmode": "overlay",
              "size": 10,
              "solidity": 0.2
             }
            },
            "type": "bar"
           }
          ],
          "barpolar": [
           {
            "marker": {
             "line": {
              "color": "#E5ECF6",
              "width": 0.5
             },
             "pattern": {
              "fillmode": "overlay",
              "size": 10,
              "solidity": 0.2
             }
            },
            "type": "barpolar"
           }
          ],
          "carpet": [
           {
            "aaxis": {
             "endlinecolor": "#2a3f5f",
             "gridcolor": "white",
             "linecolor": "white",
             "minorgridcolor": "white",
             "startlinecolor": "#2a3f5f"
            },
            "baxis": {
             "endlinecolor": "#2a3f5f",
             "gridcolor": "white",
             "linecolor": "white",
             "minorgridcolor": "white",
             "startlinecolor": "#2a3f5f"
            },
            "type": "carpet"
           }
          ],
          "choropleth": [
           {
            "colorbar": {
             "outlinewidth": 0,
             "ticks": ""
            },
            "type": "choropleth"
           }
          ],
          "contour": [
           {
            "colorbar": {
             "outlinewidth": 0,
             "ticks": ""
            },
            "colorscale": [
             [
              0,
              "#0d0887"
             ],
             [
              0.1111111111111111,
              "#46039f"
             ],
             [
              0.2222222222222222,
              "#7201a8"
             ],
             [
              0.3333333333333333,
              "#9c179e"
             ],
             [
              0.4444444444444444,
              "#bd3786"
             ],
             [
              0.5555555555555556,
              "#d8576b"
             ],
             [
              0.6666666666666666,
              "#ed7953"
             ],
             [
              0.7777777777777778,
              "#fb9f3a"
             ],
             [
              0.8888888888888888,
              "#fdca26"
             ],
             [
              1,
              "#f0f921"
             ]
            ],
            "type": "contour"
           }
          ],
          "contourcarpet": [
           {
            "colorbar": {
             "outlinewidth": 0,
             "ticks": ""
            },
            "type": "contourcarpet"
           }
          ],
          "heatmap": [
           {
            "colorbar": {
             "outlinewidth": 0,
             "ticks": ""
            },
            "colorscale": [
             [
              0,
              "#0d0887"
             ],
             [
              0.1111111111111111,
              "#46039f"
             ],
             [
              0.2222222222222222,
              "#7201a8"
             ],
             [
              0.3333333333333333,
              "#9c179e"
             ],
             [
              0.4444444444444444,
              "#bd3786"
             ],
             [
              0.5555555555555556,
              "#d8576b"
             ],
             [
              0.6666666666666666,
              "#ed7953"
             ],
             [
              0.7777777777777778,
              "#fb9f3a"
             ],
             [
              0.8888888888888888,
              "#fdca26"
             ],
             [
              1,
              "#f0f921"
             ]
            ],
            "type": "heatmap"
           }
          ],
          "heatmapgl": [
           {
            "colorbar": {
             "outlinewidth": 0,
             "ticks": ""
            },
            "colorscale": [
             [
              0,
              "#0d0887"
             ],
             [
              0.1111111111111111,
              "#46039f"
             ],
             [
              0.2222222222222222,
              "#7201a8"
             ],
             [
              0.3333333333333333,
              "#9c179e"
             ],
             [
              0.4444444444444444,
              "#bd3786"
             ],
             [
              0.5555555555555556,
              "#d8576b"
             ],
             [
              0.6666666666666666,
              "#ed7953"
             ],
             [
              0.7777777777777778,
              "#fb9f3a"
             ],
             [
              0.8888888888888888,
              "#fdca26"
             ],
             [
              1,
              "#f0f921"
             ]
            ],
            "type": "heatmapgl"
           }
          ],
          "histogram": [
           {
            "marker": {
             "pattern": {
              "fillmode": "overlay",
              "size": 10,
              "solidity": 0.2
             }
            },
            "type": "histogram"
           }
          ],
          "histogram2d": [
           {
            "colorbar": {
             "outlinewidth": 0,
             "ticks": ""
            },
            "colorscale": [
             [
              0,
              "#0d0887"
             ],
             [
              0.1111111111111111,
              "#46039f"
             ],
             [
              0.2222222222222222,
              "#7201a8"
             ],
             [
              0.3333333333333333,
              "#9c179e"
             ],
             [
              0.4444444444444444,
              "#bd3786"
             ],
             [
              0.5555555555555556,
              "#d8576b"
             ],
             [
              0.6666666666666666,
              "#ed7953"
             ],
             [
              0.7777777777777778,
              "#fb9f3a"
             ],
             [
              0.8888888888888888,
              "#fdca26"
             ],
             [
              1,
              "#f0f921"
             ]
            ],
            "type": "histogram2d"
           }
          ],
          "histogram2dcontour": [
           {
            "colorbar": {
             "outlinewidth": 0,
             "ticks": ""
            },
            "colorscale": [
             [
              0,
              "#0d0887"
             ],
             [
              0.1111111111111111,
              "#46039f"
             ],
             [
              0.2222222222222222,
              "#7201a8"
             ],
             [
              0.3333333333333333,
              "#9c179e"
             ],
             [
              0.4444444444444444,
              "#bd3786"
             ],
             [
              0.5555555555555556,
              "#d8576b"
             ],
             [
              0.6666666666666666,
              "#ed7953"
             ],
             [
              0.7777777777777778,
              "#fb9f3a"
             ],
             [
              0.8888888888888888,
              "#fdca26"
             ],
             [
              1,
              "#f0f921"
             ]
            ],
            "type": "histogram2dcontour"
           }
          ],
          "mesh3d": [
           {
            "colorbar": {
             "outlinewidth": 0,
             "ticks": ""
            },
            "type": "mesh3d"
           }
          ],
          "parcoords": [
           {
            "line": {
             "colorbar": {
              "outlinewidth": 0,
              "ticks": ""
             }
            },
            "type": "parcoords"
           }
          ],
          "pie": [
           {
            "automargin": true,
            "type": "pie"
           }
          ],
          "scatter": [
           {
            "fillpattern": {
             "fillmode": "overlay",
             "size": 10,
             "solidity": 0.2
            },
            "type": "scatter"
           }
          ],
          "scatter3d": [
           {
            "line": {
             "colorbar": {
              "outlinewidth": 0,
              "ticks": ""
             }
            },
            "marker": {
             "colorbar": {
              "outlinewidth": 0,
              "ticks": ""
             }
            },
            "type": "scatter3d"
           }
          ],
          "scattercarpet": [
           {
            "marker": {
             "colorbar": {
              "outlinewidth": 0,
              "ticks": ""
             }
            },
            "type": "scattercarpet"
           }
          ],
          "scattergeo": [
           {
            "marker": {
             "colorbar": {
              "outlinewidth": 0,
              "ticks": ""
             }
            },
            "type": "scattergeo"
           }
          ],
          "scattergl": [
           {
            "marker": {
             "colorbar": {
              "outlinewidth": 0,
              "ticks": ""
             }
            },
            "type": "scattergl"
           }
          ],
          "scattermapbox": [
           {
            "marker": {
             "colorbar": {
              "outlinewidth": 0,
              "ticks": ""
             }
            },
            "type": "scattermapbox"
           }
          ],
          "scatterpolar": [
           {
            "marker": {
             "colorbar": {
              "outlinewidth": 0,
              "ticks": ""
             }
            },
            "type": "scatterpolar"
           }
          ],
          "scatterpolargl": [
           {
            "marker": {
             "colorbar": {
              "outlinewidth": 0,
              "ticks": ""
             }
            },
            "type": "scatterpolargl"
           }
          ],
          "scatterternary": [
           {
            "marker": {
             "colorbar": {
              "outlinewidth": 0,
              "ticks": ""
             }
            },
            "type": "scatterternary"
           }
          ],
          "surface": [
           {
            "colorbar": {
             "outlinewidth": 0,
             "ticks": ""
            },
            "colorscale": [
             [
              0,
              "#0d0887"
             ],
             [
              0.1111111111111111,
              "#46039f"
             ],
             [
              0.2222222222222222,
              "#7201a8"
             ],
             [
              0.3333333333333333,
              "#9c179e"
             ],
             [
              0.4444444444444444,
              "#bd3786"
             ],
             [
              0.5555555555555556,
              "#d8576b"
             ],
             [
              0.6666666666666666,
              "#ed7953"
             ],
             [
              0.7777777777777778,
              "#fb9f3a"
             ],
             [
              0.8888888888888888,
              "#fdca26"
             ],
             [
              1,
              "#f0f921"
             ]
            ],
            "type": "surface"
           }
          ],
          "table": [
           {
            "cells": {
             "fill": {
              "color": "#EBF0F8"
             },
             "line": {
              "color": "white"
             }
            },
            "header": {
             "fill": {
              "color": "#C8D4E3"
             },
             "line": {
              "color": "white"
             }
            },
            "type": "table"
           }
          ]
         },
         "layout": {
          "annotationdefaults": {
           "arrowcolor": "#2a3f5f",
           "arrowhead": 0,
           "arrowwidth": 1
          },
          "autotypenumbers": "strict",
          "coloraxis": {
           "colorbar": {
            "outlinewidth": 0,
            "ticks": ""
           }
          },
          "colorscale": {
           "diverging": [
            [
             0,
             "#8e0152"
            ],
            [
             0.1,
             "#c51b7d"
            ],
            [
             0.2,
             "#de77ae"
            ],
            [
             0.3,
             "#f1b6da"
            ],
            [
             0.4,
             "#fde0ef"
            ],
            [
             0.5,
             "#f7f7f7"
            ],
            [
             0.6,
             "#e6f5d0"
            ],
            [
             0.7,
             "#b8e186"
            ],
            [
             0.8,
             "#7fbc41"
            ],
            [
             0.9,
             "#4d9221"
            ],
            [
             1,
             "#276419"
            ]
           ],
           "sequential": [
            [
             0,
             "#0d0887"
            ],
            [
             0.1111111111111111,
             "#46039f"
            ],
            [
             0.2222222222222222,
             "#7201a8"
            ],
            [
             0.3333333333333333,
             "#9c179e"
            ],
            [
             0.4444444444444444,
             "#bd3786"
            ],
            [
             0.5555555555555556,
             "#d8576b"
            ],
            [
             0.6666666666666666,
             "#ed7953"
            ],
            [
             0.7777777777777778,
             "#fb9f3a"
            ],
            [
             0.8888888888888888,
             "#fdca26"
            ],
            [
             1,
             "#f0f921"
            ]
           ],
           "sequentialminus": [
            [
             0,
             "#0d0887"
            ],
            [
             0.1111111111111111,
             "#46039f"
            ],
            [
             0.2222222222222222,
             "#7201a8"
            ],
            [
             0.3333333333333333,
             "#9c179e"
            ],
            [
             0.4444444444444444,
             "#bd3786"
            ],
            [
             0.5555555555555556,
             "#d8576b"
            ],
            [
             0.6666666666666666,
             "#ed7953"
            ],
            [
             0.7777777777777778,
             "#fb9f3a"
            ],
            [
             0.8888888888888888,
             "#fdca26"
            ],
            [
             1,
             "#f0f921"
            ]
           ]
          },
          "colorway": [
           "#636efa",
           "#EF553B",
           "#00cc96",
           "#ab63fa",
           "#FFA15A",
           "#19d3f3",
           "#FF6692",
           "#B6E880",
           "#FF97FF",
           "#FECB52"
          ],
          "font": {
           "color": "#2a3f5f"
          },
          "geo": {
           "bgcolor": "white",
           "lakecolor": "white",
           "landcolor": "#E5ECF6",
           "showlakes": true,
           "showland": true,
           "subunitcolor": "white"
          },
          "hoverlabel": {
           "align": "left"
          },
          "hovermode": "closest",
          "mapbox": {
           "style": "light"
          },
          "paper_bgcolor": "white",
          "plot_bgcolor": "#E5ECF6",
          "polar": {
           "angularaxis": {
            "gridcolor": "white",
            "linecolor": "white",
            "ticks": ""
           },
           "bgcolor": "#E5ECF6",
           "radialaxis": {
            "gridcolor": "white",
            "linecolor": "white",
            "ticks": ""
           }
          },
          "scene": {
           "xaxis": {
            "backgroundcolor": "#E5ECF6",
            "gridcolor": "white",
            "gridwidth": 2,
            "linecolor": "white",
            "showbackground": true,
            "ticks": "",
            "zerolinecolor": "white"
           },
           "yaxis": {
            "backgroundcolor": "#E5ECF6",
            "gridcolor": "white",
            "gridwidth": 2,
            "linecolor": "white",
            "showbackground": true,
            "ticks": "",
            "zerolinecolor": "white"
           },
           "zaxis": {
            "backgroundcolor": "#E5ECF6",
            "gridcolor": "white",
            "gridwidth": 2,
            "linecolor": "white",
            "showbackground": true,
            "ticks": "",
            "zerolinecolor": "white"
           }
          },
          "shapedefaults": {
           "line": {
            "color": "#2a3f5f"
           }
          },
          "ternary": {
           "aaxis": {
            "gridcolor": "white",
            "linecolor": "white",
            "ticks": ""
           },
           "baxis": {
            "gridcolor": "white",
            "linecolor": "white",
            "ticks": ""
           },
           "bgcolor": "#E5ECF6",
           "caxis": {
            "gridcolor": "white",
            "linecolor": "white",
            "ticks": ""
           }
          },
          "title": {
           "x": 0.05
          },
          "xaxis": {
           "automargin": true,
           "gridcolor": "white",
           "linecolor": "white",
           "ticks": "",
           "title": {
            "standoff": 15
           },
           "zerolinecolor": "white",
           "zerolinewidth": 2
          },
          "yaxis": {
           "automargin": true,
           "gridcolor": "white",
           "linecolor": "white",
           "ticks": "",
           "title": {
            "standoff": 15
           },
           "zerolinecolor": "white",
           "zerolinewidth": 2
          }
         }
        },
        "title": {
         "text": "Job Seniority and count"
        },
        "xaxis": {
         "anchor": "y",
         "domain": [
          0,
          1
         ],
         "title": {
          "text": "average_salary"
         }
        },
        "yaxis": {
         "anchor": "x",
         "domain": [
          0,
          1
         ],
         "title": {
          "text": "Job Title"
         }
        }
       }
      }
     },
     "metadata": {},
     "output_type": "display_data"
    }
   ],
   "source": [
    "below_postings1 = below_average.groupby(by=['Job Title','Seniority'])['average_salary'].count().reset_index()\n",
    "fig = px.bar(below_postings1, y='Job Title', x='average_salary',title='Job Seniority and count',text='average_salary',color='Seniority')\n",
    "fig.show()"
   ]
  },
  {
   "cell_type": "markdown",
   "metadata": {},
   "source": [
    "The seniority level is not mentioned clearly in most of the cases. Our data does not have an experiene column to do further analysis on how this seniority is split."
   ]
  },
  {
   "cell_type": "code",
   "execution_count": 90,
   "metadata": {},
   "outputs": [
    {
     "data": {
      "application/vnd.plotly.v1+json": {
       "config": {
        "plotlyServerURL": "https://plotly.com"
       },
       "data": [
        {
         "alignmentgroup": "True",
         "hovertemplate": "variable=%{x}<br>value=%{y}<extra></extra>",
         "legendgroup": "",
         "marker": {
          "color": "#636efa"
         },
         "name": "",
         "notched": false,
         "offsetgroup": "",
         "orientation": "v",
         "showlegend": false,
         "type": "box",
         "x": [
          "average_salary",
          "average_salary",
          "average_salary",
          "average_salary",
          "average_salary",
          "average_salary",
          "average_salary",
          "average_salary",
          "average_salary",
          "average_salary",
          "average_salary",
          "average_salary",
          "average_salary",
          "average_salary",
          "average_salary",
          "average_salary",
          "average_salary",
          "average_salary",
          "average_salary",
          "average_salary",
          "average_salary",
          "average_salary",
          "average_salary",
          "average_salary",
          "average_salary",
          "average_salary",
          "average_salary",
          "average_salary",
          "average_salary",
          "average_salary",
          "average_salary",
          "average_salary",
          "average_salary",
          "average_salary",
          "average_salary",
          "average_salary",
          "average_salary",
          "average_salary",
          "average_salary",
          "average_salary",
          "average_salary",
          "average_salary",
          "average_salary",
          "average_salary",
          "average_salary",
          "average_salary",
          "average_salary",
          "average_salary",
          "average_salary",
          "average_salary",
          "average_salary",
          "average_salary",
          "average_salary",
          "average_salary",
          "average_salary",
          "average_salary",
          "average_salary",
          "average_salary",
          "average_salary",
          "average_salary",
          "average_salary",
          "average_salary",
          "average_salary",
          "average_salary",
          "average_salary",
          "average_salary",
          "average_salary",
          "average_salary",
          "average_salary",
          "average_salary",
          "average_salary",
          "average_salary",
          "average_salary",
          "average_salary",
          "average_salary",
          "average_salary",
          "average_salary",
          "average_salary",
          "average_salary",
          "average_salary",
          "average_salary",
          "average_salary",
          "average_salary",
          "average_salary",
          "average_salary",
          "average_salary",
          "average_salary",
          "average_salary",
          "average_salary",
          "average_salary",
          "average_salary",
          "average_salary",
          "average_salary",
          "average_salary",
          "average_salary",
          "average_salary",
          "average_salary",
          "average_salary",
          "average_salary",
          "average_salary",
          "average_salary",
          "average_salary",
          "average_salary",
          "average_salary",
          "average_salary",
          "average_salary",
          "average_salary",
          "average_salary",
          "average_salary",
          "average_salary",
          "average_salary",
          "average_salary",
          "average_salary",
          "average_salary",
          "average_salary",
          "average_salary",
          "average_salary",
          "average_salary",
          "average_salary",
          "average_salary",
          "average_salary",
          "average_salary",
          "average_salary",
          "average_salary",
          "average_salary",
          "average_salary",
          "average_salary",
          "average_salary",
          "average_salary",
          "average_salary",
          "average_salary",
          "average_salary",
          "average_salary",
          "average_salary",
          "average_salary",
          "average_salary",
          "average_salary",
          "average_salary",
          "average_salary",
          "average_salary",
          "average_salary",
          "average_salary",
          "average_salary",
          "average_salary",
          "average_salary",
          "average_salary",
          "average_salary",
          "average_salary",
          "average_salary",
          "average_salary",
          "average_salary",
          "average_salary",
          "average_salary",
          "average_salary",
          "average_salary",
          "average_salary",
          "average_salary",
          "average_salary",
          "average_salary",
          "average_salary",
          "average_salary",
          "average_salary",
          "average_salary",
          "average_salary",
          "average_salary",
          "average_salary",
          "average_salary",
          "average_salary",
          "average_salary",
          "average_salary",
          "average_salary",
          "average_salary",
          "average_salary",
          "average_salary",
          "average_salary",
          "average_salary",
          "average_salary",
          "average_salary",
          "average_salary",
          "average_salary",
          "average_salary",
          "average_salary",
          "average_salary",
          "average_salary",
          "average_salary",
          "average_salary",
          "average_salary",
          "average_salary",
          "average_salary",
          "average_salary",
          "average_salary",
          "average_salary",
          "average_salary",
          "average_salary",
          "average_salary",
          "average_salary",
          "average_salary",
          "average_salary",
          "average_salary",
          "average_salary",
          "average_salary",
          "average_salary",
          "average_salary",
          "average_salary",
          "average_salary",
          "average_salary",
          "average_salary",
          "average_salary",
          "average_salary",
          "average_salary",
          "average_salary",
          "average_salary",
          "average_salary",
          "average_salary",
          "average_salary",
          "average_salary",
          "average_salary",
          "average_salary",
          "average_salary",
          "average_salary",
          "average_salary",
          "average_salary",
          "average_salary",
          "average_salary",
          "average_salary",
          "average_salary",
          "average_salary",
          "average_salary",
          "average_salary",
          "average_salary",
          "average_salary",
          "average_salary",
          "average_salary",
          "average_salary",
          "average_salary",
          "average_salary",
          "average_salary",
          "average_salary",
          "average_salary",
          "average_salary",
          "average_salary",
          "average_salary",
          "average_salary",
          "average_salary",
          "average_salary",
          "average_salary",
          "average_salary",
          "average_salary",
          "average_salary",
          "average_salary",
          "average_salary",
          "average_salary",
          "average_salary",
          "average_salary",
          "average_salary",
          "average_salary",
          "average_salary",
          "average_salary",
          "average_salary",
          "average_salary",
          "average_salary",
          "average_salary",
          "average_salary",
          "average_salary",
          "average_salary",
          "average_salary",
          "average_salary",
          "average_salary",
          "average_salary",
          "average_salary",
          "average_salary",
          "average_salary",
          "average_salary",
          "average_salary",
          "average_salary",
          "average_salary",
          "average_salary",
          "average_salary",
          "average_salary",
          "average_salary",
          "average_salary",
          "average_salary",
          "average_salary",
          "average_salary",
          "average_salary",
          "average_salary",
          "average_salary",
          "average_salary",
          "average_salary",
          "average_salary",
          "average_salary",
          "average_salary",
          "average_salary",
          "average_salary",
          "average_salary",
          "average_salary",
          "average_salary",
          "average_salary",
          "average_salary",
          "average_salary",
          "average_salary",
          "average_salary",
          "average_salary",
          "average_salary",
          "average_salary",
          "average_salary",
          "average_salary",
          "average_salary",
          "average_salary",
          "average_salary",
          "average_salary",
          "average_salary",
          "average_salary",
          "average_salary",
          "average_salary",
          "average_salary",
          "average_salary",
          "average_salary",
          "average_salary",
          "average_salary",
          "average_salary",
          "average_salary",
          "average_salary",
          "average_salary",
          "average_salary",
          "average_salary",
          "average_salary",
          "average_salary",
          "average_salary",
          "average_salary",
          "average_salary",
          "average_salary",
          "average_salary",
          "average_salary",
          "average_salary",
          "average_salary",
          "average_salary",
          "average_salary",
          "average_salary",
          "average_salary",
          "average_salary",
          "average_salary",
          "average_salary",
          "average_salary",
          "average_salary",
          "average_salary",
          "average_salary",
          "average_salary",
          "average_salary",
          "average_salary",
          "average_salary",
          "average_salary",
          "average_salary",
          "average_salary",
          "average_salary",
          "average_salary",
          "average_salary",
          "average_salary",
          "average_salary",
          "average_salary",
          "average_salary",
          "average_salary",
          "average_salary",
          "average_salary",
          "average_salary",
          "average_salary",
          "average_salary",
          "average_salary",
          "average_salary",
          "average_salary",
          "average_salary",
          "average_salary",
          "average_salary",
          "average_salary",
          "average_salary",
          "average_salary",
          "average_salary",
          "average_salary",
          "average_salary",
          "average_salary",
          "average_salary",
          "average_salary",
          "average_salary",
          "average_salary",
          "average_salary",
          "average_salary",
          "average_salary",
          "average_salary",
          "average_salary",
          "average_salary",
          "average_salary",
          "average_salary",
          "average_salary",
          "average_salary",
          "average_salary",
          "average_salary",
          "average_salary",
          "average_salary",
          "average_salary",
          "average_salary",
          "average_salary",
          "average_salary",
          "average_salary",
          "average_salary",
          "average_salary",
          "average_salary",
          "average_salary",
          "average_salary",
          "average_salary",
          "average_salary",
          "average_salary",
          "average_salary",
          "average_salary",
          "average_salary",
          "average_salary",
          "average_salary",
          "average_salary",
          "average_salary",
          "average_salary",
          "average_salary",
          "average_salary",
          "average_salary",
          "average_salary",
          "average_salary",
          "average_salary",
          "average_salary",
          "average_salary",
          "average_salary",
          "average_salary",
          "average_salary",
          "average_salary",
          "average_salary",
          "average_salary",
          "average_salary",
          "average_salary",
          "average_salary",
          "average_salary",
          "average_salary",
          "average_salary",
          "average_salary",
          "average_salary",
          "average_salary",
          "average_salary",
          "average_salary",
          "average_salary",
          "average_salary",
          "average_salary",
          "average_salary",
          "average_salary",
          "average_salary",
          "average_salary",
          "average_salary",
          "average_salary",
          "average_salary",
          "average_salary",
          "average_salary",
          "average_salary",
          "average_salary",
          "average_salary",
          "average_salary",
          "average_salary",
          "average_salary",
          "average_salary",
          "average_salary",
          "average_salary",
          "average_salary",
          "average_salary",
          "average_salary",
          "average_salary",
          "average_salary",
          "average_salary",
          "average_salary",
          "average_salary",
          "average_salary",
          "average_salary",
          "average_salary",
          "average_salary",
          "average_salary",
          "average_salary",
          "average_salary",
          "average_salary",
          "average_salary",
          "average_salary",
          "average_salary",
          "average_salary",
          "average_salary",
          "average_salary",
          "average_salary",
          "average_salary",
          "average_salary",
          "average_salary",
          "average_salary",
          "average_salary",
          "average_salary",
          "average_salary",
          "average_salary",
          "average_salary",
          "average_salary",
          "average_salary",
          "average_salary",
          "average_salary",
          "average_salary",
          "average_salary",
          "average_salary",
          "average_salary",
          "average_salary",
          "average_salary",
          "average_salary",
          "average_salary",
          "average_salary",
          "average_salary",
          "average_salary",
          "average_salary",
          "average_salary",
          "average_salary",
          "average_salary",
          "average_salary",
          "average_salary",
          "average_salary",
          "average_salary",
          "average_salary",
          "average_salary",
          "average_salary",
          "average_salary",
          "average_salary",
          "average_salary",
          "average_salary",
          "average_salary",
          "average_salary",
          "average_salary",
          "average_salary",
          "average_salary",
          "average_salary",
          "average_salary",
          "average_salary",
          "average_salary",
          "average_salary",
          "average_salary",
          "average_salary",
          "average_salary",
          "average_salary",
          "average_salary",
          "average_salary",
          "average_salary",
          "average_salary",
          "average_salary",
          "average_salary",
          "average_salary",
          "average_salary",
          "average_salary",
          "average_salary",
          "average_salary",
          "average_salary",
          "average_salary",
          "average_salary",
          "average_salary",
          "average_salary",
          "average_salary",
          "average_salary",
          "average_salary",
          "average_salary",
          "average_salary",
          "average_salary",
          "average_salary",
          "average_salary",
          "average_salary",
          "average_salary",
          "average_salary",
          "average_salary",
          "average_salary",
          "average_salary",
          "average_salary",
          "average_salary",
          "average_salary",
          "average_salary",
          "average_salary",
          "average_salary",
          "average_salary",
          "average_salary",
          "average_salary",
          "average_salary",
          "average_salary",
          "average_salary",
          "average_salary",
          "average_salary",
          "average_salary",
          "average_salary",
          "average_salary",
          "average_salary",
          "average_salary",
          "average_salary",
          "average_salary",
          "average_salary",
          "average_salary",
          "average_salary",
          "average_salary",
          "average_salary",
          "average_salary",
          "average_salary",
          "average_salary",
          "average_salary",
          "average_salary",
          "average_salary",
          "average_salary",
          "average_salary",
          "average_salary",
          "average_salary",
          "average_salary",
          "average_salary",
          "average_salary",
          "average_salary",
          "average_salary",
          "average_salary",
          "average_salary",
          "average_salary",
          "average_salary",
          "average_salary",
          "average_salary",
          "average_salary",
          "average_salary",
          "average_salary",
          "average_salary",
          "average_salary",
          "average_salary",
          "average_salary",
          "average_salary",
          "average_salary",
          "average_salary",
          "average_salary",
          "average_salary",
          "average_salary",
          "average_salary",
          "average_salary",
          "average_salary",
          "average_salary",
          "average_salary",
          "average_salary",
          "average_salary",
          "average_salary",
          "average_salary",
          "average_salary",
          "average_salary",
          "average_salary",
          "average_salary",
          "average_salary",
          "average_salary",
          "average_salary",
          "average_salary",
          "average_salary",
          "average_salary",
          "average_salary",
          "average_salary",
          "average_salary",
          "average_salary",
          "average_salary",
          "average_salary",
          "average_salary",
          "average_salary",
          "average_salary",
          "average_salary",
          "average_salary",
          "average_salary",
          "average_salary",
          "average_salary",
          "average_salary",
          "average_salary",
          "average_salary",
          "average_salary",
          "average_salary",
          "average_salary",
          "average_salary",
          "average_salary",
          "average_salary",
          "average_salary",
          "average_salary",
          "average_salary",
          "average_salary",
          "average_salary",
          "average_salary",
          "average_salary",
          "average_salary",
          "average_salary",
          "average_salary",
          "average_salary",
          "average_salary",
          "average_salary",
          "average_salary",
          "average_salary",
          "average_salary",
          "average_salary",
          "average_salary",
          "average_salary",
          "average_salary",
          "average_salary",
          "average_salary",
          "average_salary",
          "average_salary",
          "average_salary",
          "average_salary",
          "average_salary",
          "average_salary",
          "average_salary",
          "average_salary",
          "average_salary",
          "average_salary",
          "average_salary",
          "average_salary",
          "average_salary",
          "average_salary",
          "average_salary",
          "average_salary",
          "average_salary",
          "average_salary",
          "average_salary",
          "average_salary",
          "average_salary",
          "average_salary",
          "average_salary",
          "average_salary",
          "average_salary",
          "average_salary",
          "average_salary",
          "average_salary",
          "average_salary",
          "average_salary",
          "average_salary",
          "average_salary",
          "average_salary",
          "average_salary",
          "average_salary",
          "average_salary",
          "average_salary",
          "average_salary",
          "average_salary",
          "average_salary",
          "average_salary",
          "average_salary",
          "average_salary",
          "average_salary",
          "average_salary",
          "average_salary",
          "average_salary"
         ],
         "x0": " ",
         "xaxis": "x",
         "y": [
          72000,
          87500,
          85000,
          76500,
          114500,
          95000,
          73500,
          114000,
          61000,
          140000,
          163500,
          85000,
          139000,
          65500,
          113500,
          146000,
          102000,
          153500,
          142500,
          87500,
          105500,
          96000,
          112500,
          84000,
          143000,
          86500,
          99500,
          47500,
          84000,
          85000,
          76500,
          96000,
          114500,
          121000,
          112500,
          106000,
          107000,
          110000,
          147500,
          106000,
          88000,
          98500,
          142500,
          82500,
          130000,
          155000,
          184500,
          29500,
          86500,
          81000,
          91000,
          114500,
          68000,
          115000,
          109500,
          75500,
          154500,
          143500,
          73500,
          95000,
          107000,
          115000,
          139500,
          67000,
          85000,
          118000,
          79500,
          56500,
          128500,
          97500,
          66500,
          179500,
          76000,
          112000,
          98000,
          128000,
          150500,
          87500,
          110000,
          113500,
          124000,
          56500,
          130000,
          77500,
          87000,
          53500,
          139000,
          114000,
          85500,
          48000,
          48000,
          174000,
          85000,
          106500,
          72500,
          85500,
          97500,
          99000,
          56500,
          133000,
          121000,
          85500,
          87500,
          237500,
          95500,
          104500,
          56500,
          55000,
          61500,
          157000,
          78000,
          113500,
          140000,
          132500,
          108000,
          80500,
          107500,
          95000,
          119500,
          134000,
          100500,
          107500,
          122000,
          92500,
          62000,
          39500,
          107500,
          40500,
          89500,
          81000,
          147000,
          85000,
          81500,
          168000,
          100500,
          97000,
          85000,
          153500,
          132500,
          100000,
          105000,
          87000,
          103500,
          124000,
          67000,
          87000,
          137500,
          100000,
          106500,
          98500,
          61000,
          106500,
          84500,
          109500,
          164000,
          169000,
          142000,
          76500,
          107000,
          171500,
          96000,
          142500,
          107000,
          145000,
          61500,
          20500,
          120000,
          62000,
          150500,
          87500,
          71500,
          51500,
          151500,
          77500,
          140000,
          98500,
          225000,
          27500,
          161500,
          147000,
          61000,
          120000,
          124500,
          148000,
          59000,
          146500,
          91500,
          133000,
          140500,
          70500,
          84500,
          93500,
          134500,
          181000,
          84500,
          205000,
          48500,
          21500,
          52500,
          124000,
          64000,
          98000,
          27500,
          54000,
          81000,
          107500,
          112500,
          89000,
          100500,
          65000,
          20000,
          72500,
          61000,
          109500,
          84500,
          87500,
          92500,
          81500,
          79000,
          164000,
          169000,
          142000,
          47500,
          76500,
          69000,
          49000,
          171500,
          107000,
          59000,
          88500,
          107000,
          86500,
          84000,
          114500,
          145000,
          88000,
          100000,
          61500,
          96500,
          76000,
          15500,
          83500,
          120000,
          163000,
          100000,
          52500,
          20500,
          50000,
          93000,
          94500,
          150500,
          102000,
          62000,
          87500,
          84000,
          143000,
          155000,
          71500,
          108000,
          151500,
          51500,
          140000,
          77500,
          63500,
          109000,
          96000,
          225000,
          101000,
          98500,
          77500,
          161500,
          27500,
          147000,
          90000,
          58000,
          61000,
          120000,
          128000,
          99500,
          96000,
          101000,
          148000,
          142000,
          169000,
          124500,
          59000,
          52500,
          75500,
          139000,
          102500,
          60500,
          146500,
          125000,
          81000,
          133000,
          77000,
          92000,
          121000,
          162500,
          60000,
          87500,
          90500,
          114500,
          121000,
          110000,
          91500,
          70500,
          70500,
          76500,
          92000,
          140500,
          82000,
          84500,
          134500,
          164500,
          44000,
          93500,
          109000,
          149500,
          65500,
          124500,
          114000,
          49000,
          84500,
          71000,
          101000,
          107000,
          112500,
          181000,
          61000,
          205000,
          103500,
          63000,
          62500,
          94500,
          48500,
          154500,
          21500,
          87000,
          52500,
          64500,
          111500,
          154500,
          124000,
          128500,
          31500,
          64000,
          98000,
          142500,
          137000,
          99000,
          54000,
          139500,
          109000,
          254000,
          73000,
          81000,
          27500,
          99500,
          45500,
          122500,
          140000,
          77500,
          26500,
          117500,
          70500,
          61500,
          70000,
          80000,
          90000,
          120000,
          73500,
          91000,
          155000,
          129500,
          167500,
          60000,
          180000,
          65000,
          112500,
          87500,
          51500,
          51000,
          62500,
          100000,
          85000,
          122000,
          66500,
          70500,
          138500,
          107500,
          120500,
          81000,
          103500,
          107500,
          162000,
          68500,
          110500,
          81000,
          130000,
          115500,
          80500,
          43000,
          140000,
          120000,
          66500,
          94500,
          119000,
          25000,
          13500,
          194500,
          71500,
          105500,
          74000,
          62500,
          65500,
          161500,
          72500,
          139000,
          136500,
          74500,
          80500,
          75500,
          143500,
          101000,
          92000,
          76500,
          140500,
          116500,
          232500,
          120500,
          82000,
          84500,
          153000,
          127000,
          85500,
          76500,
          128000,
          91500,
          134500,
          164500,
          93500,
          44000,
          149500,
          65500,
          109000,
          177000,
          107000,
          154500,
          113500,
          124500,
          143500,
          113500,
          101500,
          73000,
          80500,
          110500,
          114000,
          139500,
          145500,
          87000,
          100500,
          147000,
          110500,
          49000,
          94000,
          123500,
          84500,
          71000,
          73000,
          101000,
          181000,
          109500,
          184500,
          165000,
          61000,
          205000,
          59500,
          103500,
          62500,
          63000,
          66000,
          94500,
          75500,
          87000,
          140000,
          86000,
          116500,
          154500,
          87000,
          48500,
          80000,
          21500,
          52500,
          173000,
          68500,
          172000,
          114500,
          95000,
          69500,
          64500,
          111500,
          97500,
          154500,
          124000,
          95000,
          128500,
          194000,
          104500,
          31500,
          85500,
          50000,
          113000,
          90500,
          153000,
          123500,
          47000,
          64000,
          162000,
          137000,
          98000,
          115000,
          133500,
          99000,
          54000,
          109000,
          109000,
          139500,
          254000,
          125000,
          106500,
          73000,
          81000,
          27500,
          99500,
          45500,
          54000,
          122500,
          37500,
          53500,
          140000,
          77500,
          26500,
          117500,
          70500,
          70000,
          61500,
          80000,
          79500,
          168000,
          90000,
          120000,
          138500,
          111500,
          68500,
          84500,
          102500,
          73500,
          93500,
          127500,
          72000,
          129500,
          47000,
          65000,
          60000,
          167500,
          65000,
          94000,
          87500,
          97000,
          112500,
          91500,
          51500,
          114500,
          115000,
          74000,
          51000,
          100000,
          121000,
          121500,
          62500,
          117500,
          122000,
          85000,
          60500,
          180000,
          70500,
          118500,
          66500,
          107500,
          138500,
          81000,
          58500,
          107500,
          120500,
          63500,
          103500,
          107000,
          105500,
          83000,
          162000,
          68500,
          110500,
          115500,
          87500,
          80500,
          43000,
          140000,
          172000,
          120000,
          66500,
          100000,
          94500,
          221500,
          119000,
          95500,
          194500,
          25000,
          13500,
          173000,
          105500,
          71500,
          74000,
          62500,
          65500,
          85000,
          147500,
          161500,
          81000,
          72500,
          139000,
          136500,
          83000,
          121000,
          74500,
          85500,
          80500,
          167500,
          107500,
          44500,
          107500,
          132500,
          69500,
          98500,
          80500,
          37000,
          99000,
          96500,
          53000,
          103000,
          139500,
          67000,
          62500,
          92000,
          66000,
          94500,
          114000,
          75500,
          96000,
          87000,
          86000,
          116500,
          154500,
          48500,
          87000,
          80000,
          21500,
          173000,
          52500,
          68500,
          95000,
          69500,
          107000,
          112000,
          96500,
          111500,
          154500,
          95000,
          97500,
          128500,
          124000,
          194000,
          31500,
          50000,
          104500,
          69500,
          121000,
          85500,
          113000,
          103000,
          90500,
          153000,
          106500,
          130000,
          123500,
          86500,
          64000,
          47000,
          162000,
          140000,
          89000,
          98000,
          137000,
          99000,
          54000,
          109000,
          109000,
          139500,
          254000,
          125000,
          106500,
          27500,
          73000,
          81000,
          128500,
          99500,
          92000,
          45500,
          122500,
          37500,
          54000,
          53500,
          140000,
          77500,
          26500,
          117500,
          70500,
          61500,
          80000,
          70000,
          120000,
          90000,
          111000,
          138500,
          68500,
          87500,
          111500,
          84500,
          102500,
          73500,
          127500,
          93500
         ],
         "y0": " ",
         "yaxis": "y"
        }
       ],
       "layout": {
        "boxmode": "group",
        "legend": {
         "tracegroupgap": 0
        },
        "margin": {
         "t": 60
        },
        "template": {
         "data": {
          "bar": [
           {
            "error_x": {
             "color": "#2a3f5f"
            },
            "error_y": {
             "color": "#2a3f5f"
            },
            "marker": {
             "line": {
              "color": "#E5ECF6",
              "width": 0.5
             },
             "pattern": {
              "fillmode": "overlay",
              "size": 10,
              "solidity": 0.2
             }
            },
            "type": "bar"
           }
          ],
          "barpolar": [
           {
            "marker": {
             "line": {
              "color": "#E5ECF6",
              "width": 0.5
             },
             "pattern": {
              "fillmode": "overlay",
              "size": 10,
              "solidity": 0.2
             }
            },
            "type": "barpolar"
           }
          ],
          "carpet": [
           {
            "aaxis": {
             "endlinecolor": "#2a3f5f",
             "gridcolor": "white",
             "linecolor": "white",
             "minorgridcolor": "white",
             "startlinecolor": "#2a3f5f"
            },
            "baxis": {
             "endlinecolor": "#2a3f5f",
             "gridcolor": "white",
             "linecolor": "white",
             "minorgridcolor": "white",
             "startlinecolor": "#2a3f5f"
            },
            "type": "carpet"
           }
          ],
          "choropleth": [
           {
            "colorbar": {
             "outlinewidth": 0,
             "ticks": ""
            },
            "type": "choropleth"
           }
          ],
          "contour": [
           {
            "colorbar": {
             "outlinewidth": 0,
             "ticks": ""
            },
            "colorscale": [
             [
              0,
              "#0d0887"
             ],
             [
              0.1111111111111111,
              "#46039f"
             ],
             [
              0.2222222222222222,
              "#7201a8"
             ],
             [
              0.3333333333333333,
              "#9c179e"
             ],
             [
              0.4444444444444444,
              "#bd3786"
             ],
             [
              0.5555555555555556,
              "#d8576b"
             ],
             [
              0.6666666666666666,
              "#ed7953"
             ],
             [
              0.7777777777777778,
              "#fb9f3a"
             ],
             [
              0.8888888888888888,
              "#fdca26"
             ],
             [
              1,
              "#f0f921"
             ]
            ],
            "type": "contour"
           }
          ],
          "contourcarpet": [
           {
            "colorbar": {
             "outlinewidth": 0,
             "ticks": ""
            },
            "type": "contourcarpet"
           }
          ],
          "heatmap": [
           {
            "colorbar": {
             "outlinewidth": 0,
             "ticks": ""
            },
            "colorscale": [
             [
              0,
              "#0d0887"
             ],
             [
              0.1111111111111111,
              "#46039f"
             ],
             [
              0.2222222222222222,
              "#7201a8"
             ],
             [
              0.3333333333333333,
              "#9c179e"
             ],
             [
              0.4444444444444444,
              "#bd3786"
             ],
             [
              0.5555555555555556,
              "#d8576b"
             ],
             [
              0.6666666666666666,
              "#ed7953"
             ],
             [
              0.7777777777777778,
              "#fb9f3a"
             ],
             [
              0.8888888888888888,
              "#fdca26"
             ],
             [
              1,
              "#f0f921"
             ]
            ],
            "type": "heatmap"
           }
          ],
          "heatmapgl": [
           {
            "colorbar": {
             "outlinewidth": 0,
             "ticks": ""
            },
            "colorscale": [
             [
              0,
              "#0d0887"
             ],
             [
              0.1111111111111111,
              "#46039f"
             ],
             [
              0.2222222222222222,
              "#7201a8"
             ],
             [
              0.3333333333333333,
              "#9c179e"
             ],
             [
              0.4444444444444444,
              "#bd3786"
             ],
             [
              0.5555555555555556,
              "#d8576b"
             ],
             [
              0.6666666666666666,
              "#ed7953"
             ],
             [
              0.7777777777777778,
              "#fb9f3a"
             ],
             [
              0.8888888888888888,
              "#fdca26"
             ],
             [
              1,
              "#f0f921"
             ]
            ],
            "type": "heatmapgl"
           }
          ],
          "histogram": [
           {
            "marker": {
             "pattern": {
              "fillmode": "overlay",
              "size": 10,
              "solidity": 0.2
             }
            },
            "type": "histogram"
           }
          ],
          "histogram2d": [
           {
            "colorbar": {
             "outlinewidth": 0,
             "ticks": ""
            },
            "colorscale": [
             [
              0,
              "#0d0887"
             ],
             [
              0.1111111111111111,
              "#46039f"
             ],
             [
              0.2222222222222222,
              "#7201a8"
             ],
             [
              0.3333333333333333,
              "#9c179e"
             ],
             [
              0.4444444444444444,
              "#bd3786"
             ],
             [
              0.5555555555555556,
              "#d8576b"
             ],
             [
              0.6666666666666666,
              "#ed7953"
             ],
             [
              0.7777777777777778,
              "#fb9f3a"
             ],
             [
              0.8888888888888888,
              "#fdca26"
             ],
             [
              1,
              "#f0f921"
             ]
            ],
            "type": "histogram2d"
           }
          ],
          "histogram2dcontour": [
           {
            "colorbar": {
             "outlinewidth": 0,
             "ticks": ""
            },
            "colorscale": [
             [
              0,
              "#0d0887"
             ],
             [
              0.1111111111111111,
              "#46039f"
             ],
             [
              0.2222222222222222,
              "#7201a8"
             ],
             [
              0.3333333333333333,
              "#9c179e"
             ],
             [
              0.4444444444444444,
              "#bd3786"
             ],
             [
              0.5555555555555556,
              "#d8576b"
             ],
             [
              0.6666666666666666,
              "#ed7953"
             ],
             [
              0.7777777777777778,
              "#fb9f3a"
             ],
             [
              0.8888888888888888,
              "#fdca26"
             ],
             [
              1,
              "#f0f921"
             ]
            ],
            "type": "histogram2dcontour"
           }
          ],
          "mesh3d": [
           {
            "colorbar": {
             "outlinewidth": 0,
             "ticks": ""
            },
            "type": "mesh3d"
           }
          ],
          "parcoords": [
           {
            "line": {
             "colorbar": {
              "outlinewidth": 0,
              "ticks": ""
             }
            },
            "type": "parcoords"
           }
          ],
          "pie": [
           {
            "automargin": true,
            "type": "pie"
           }
          ],
          "scatter": [
           {
            "fillpattern": {
             "fillmode": "overlay",
             "size": 10,
             "solidity": 0.2
            },
            "type": "scatter"
           }
          ],
          "scatter3d": [
           {
            "line": {
             "colorbar": {
              "outlinewidth": 0,
              "ticks": ""
             }
            },
            "marker": {
             "colorbar": {
              "outlinewidth": 0,
              "ticks": ""
             }
            },
            "type": "scatter3d"
           }
          ],
          "scattercarpet": [
           {
            "marker": {
             "colorbar": {
              "outlinewidth": 0,
              "ticks": ""
             }
            },
            "type": "scattercarpet"
           }
          ],
          "scattergeo": [
           {
            "marker": {
             "colorbar": {
              "outlinewidth": 0,
              "ticks": ""
             }
            },
            "type": "scattergeo"
           }
          ],
          "scattergl": [
           {
            "marker": {
             "colorbar": {
              "outlinewidth": 0,
              "ticks": ""
             }
            },
            "type": "scattergl"
           }
          ],
          "scattermapbox": [
           {
            "marker": {
             "colorbar": {
              "outlinewidth": 0,
              "ticks": ""
             }
            },
            "type": "scattermapbox"
           }
          ],
          "scatterpolar": [
           {
            "marker": {
             "colorbar": {
              "outlinewidth": 0,
              "ticks": ""
             }
            },
            "type": "scatterpolar"
           }
          ],
          "scatterpolargl": [
           {
            "marker": {
             "colorbar": {
              "outlinewidth": 0,
              "ticks": ""
             }
            },
            "type": "scatterpolargl"
           }
          ],
          "scatterternary": [
           {
            "marker": {
             "colorbar": {
              "outlinewidth": 0,
              "ticks": ""
             }
            },
            "type": "scatterternary"
           }
          ],
          "surface": [
           {
            "colorbar": {
             "outlinewidth": 0,
             "ticks": ""
            },
            "colorscale": [
             [
              0,
              "#0d0887"
             ],
             [
              0.1111111111111111,
              "#46039f"
             ],
             [
              0.2222222222222222,
              "#7201a8"
             ],
             [
              0.3333333333333333,
              "#9c179e"
             ],
             [
              0.4444444444444444,
              "#bd3786"
             ],
             [
              0.5555555555555556,
              "#d8576b"
             ],
             [
              0.6666666666666666,
              "#ed7953"
             ],
             [
              0.7777777777777778,
              "#fb9f3a"
             ],
             [
              0.8888888888888888,
              "#fdca26"
             ],
             [
              1,
              "#f0f921"
             ]
            ],
            "type": "surface"
           }
          ],
          "table": [
           {
            "cells": {
             "fill": {
              "color": "#EBF0F8"
             },
             "line": {
              "color": "white"
             }
            },
            "header": {
             "fill": {
              "color": "#C8D4E3"
             },
             "line": {
              "color": "white"
             }
            },
            "type": "table"
           }
          ]
         },
         "layout": {
          "annotationdefaults": {
           "arrowcolor": "#2a3f5f",
           "arrowhead": 0,
           "arrowwidth": 1
          },
          "autotypenumbers": "strict",
          "coloraxis": {
           "colorbar": {
            "outlinewidth": 0,
            "ticks": ""
           }
          },
          "colorscale": {
           "diverging": [
            [
             0,
             "#8e0152"
            ],
            [
             0.1,
             "#c51b7d"
            ],
            [
             0.2,
             "#de77ae"
            ],
            [
             0.3,
             "#f1b6da"
            ],
            [
             0.4,
             "#fde0ef"
            ],
            [
             0.5,
             "#f7f7f7"
            ],
            [
             0.6,
             "#e6f5d0"
            ],
            [
             0.7,
             "#b8e186"
            ],
            [
             0.8,
             "#7fbc41"
            ],
            [
             0.9,
             "#4d9221"
            ],
            [
             1,
             "#276419"
            ]
           ],
           "sequential": [
            [
             0,
             "#0d0887"
            ],
            [
             0.1111111111111111,
             "#46039f"
            ],
            [
             0.2222222222222222,
             "#7201a8"
            ],
            [
             0.3333333333333333,
             "#9c179e"
            ],
            [
             0.4444444444444444,
             "#bd3786"
            ],
            [
             0.5555555555555556,
             "#d8576b"
            ],
            [
             0.6666666666666666,
             "#ed7953"
            ],
            [
             0.7777777777777778,
             "#fb9f3a"
            ],
            [
             0.8888888888888888,
             "#fdca26"
            ],
            [
             1,
             "#f0f921"
            ]
           ],
           "sequentialminus": [
            [
             0,
             "#0d0887"
            ],
            [
             0.1111111111111111,
             "#46039f"
            ],
            [
             0.2222222222222222,
             "#7201a8"
            ],
            [
             0.3333333333333333,
             "#9c179e"
            ],
            [
             0.4444444444444444,
             "#bd3786"
            ],
            [
             0.5555555555555556,
             "#d8576b"
            ],
            [
             0.6666666666666666,
             "#ed7953"
            ],
            [
             0.7777777777777778,
             "#fb9f3a"
            ],
            [
             0.8888888888888888,
             "#fdca26"
            ],
            [
             1,
             "#f0f921"
            ]
           ]
          },
          "colorway": [
           "#636efa",
           "#EF553B",
           "#00cc96",
           "#ab63fa",
           "#FFA15A",
           "#19d3f3",
           "#FF6692",
           "#B6E880",
           "#FF97FF",
           "#FECB52"
          ],
          "font": {
           "color": "#2a3f5f"
          },
          "geo": {
           "bgcolor": "white",
           "lakecolor": "white",
           "landcolor": "#E5ECF6",
           "showlakes": true,
           "showland": true,
           "subunitcolor": "white"
          },
          "hoverlabel": {
           "align": "left"
          },
          "hovermode": "closest",
          "mapbox": {
           "style": "light"
          },
          "paper_bgcolor": "white",
          "plot_bgcolor": "#E5ECF6",
          "polar": {
           "angularaxis": {
            "gridcolor": "white",
            "linecolor": "white",
            "ticks": ""
           },
           "bgcolor": "#E5ECF6",
           "radialaxis": {
            "gridcolor": "white",
            "linecolor": "white",
            "ticks": ""
           }
          },
          "scene": {
           "xaxis": {
            "backgroundcolor": "#E5ECF6",
            "gridcolor": "white",
            "gridwidth": 2,
            "linecolor": "white",
            "showbackground": true,
            "ticks": "",
            "zerolinecolor": "white"
           },
           "yaxis": {
            "backgroundcolor": "#E5ECF6",
            "gridcolor": "white",
            "gridwidth": 2,
            "linecolor": "white",
            "showbackground": true,
            "ticks": "",
            "zerolinecolor": "white"
           },
           "zaxis": {
            "backgroundcolor": "#E5ECF6",
            "gridcolor": "white",
            "gridwidth": 2,
            "linecolor": "white",
            "showbackground": true,
            "ticks": "",
            "zerolinecolor": "white"
           }
          },
          "shapedefaults": {
           "line": {
            "color": "#2a3f5f"
           }
          },
          "ternary": {
           "aaxis": {
            "gridcolor": "white",
            "linecolor": "white",
            "ticks": ""
           },
           "baxis": {
            "gridcolor": "white",
            "linecolor": "white",
            "ticks": ""
           },
           "bgcolor": "#E5ECF6",
           "caxis": {
            "gridcolor": "white",
            "linecolor": "white",
            "ticks": ""
           }
          },
          "title": {
           "x": 0.05
          },
          "xaxis": {
           "automargin": true,
           "gridcolor": "white",
           "linecolor": "white",
           "ticks": "",
           "title": {
            "standoff": 15
           },
           "zerolinecolor": "white",
           "zerolinewidth": 2
          },
          "yaxis": {
           "automargin": true,
           "gridcolor": "white",
           "linecolor": "white",
           "ticks": "",
           "title": {
            "standoff": 15
           },
           "zerolinecolor": "white",
           "zerolinewidth": 2
          }
         }
        },
        "xaxis": {
         "anchor": "y",
         "domain": [
          0,
          1
         ],
         "title": {
          "text": "variable"
         }
        },
        "yaxis": {
         "anchor": "x",
         "domain": [
          0,
          1
         ],
         "title": {
          "text": "value"
         }
        }
       }
      }
     },
     "metadata": {},
     "output_type": "display_data"
    }
   ],
   "source": [
    "fig = px.box(data_numerical['average_salary'])\n",
    "fig.show()"
   ]
  },
  {
   "cell_type": "code",
   "execution_count": 91,
   "metadata": {},
   "outputs": [
    {
     "data": {
      "text/plain": [
       "\"The function is defined in the code block.The function is executed in the expression.Hit the 'verify' check mark to ensure the expression is valid.After the run, check for remaining null values in the calculated field.Nulls indicate your state abbreviations were not defined in the dictionary.https://gis.stackexchange.com/questions/16423/converting-state-name-abbreviations-to-full-names-using-arcgis-field-calculator\""
      ]
     },
     "execution_count": 91,
     "metadata": {},
     "output_type": "execute_result"
    }
   ],
   "source": [
    "'''The function is defined in the code block.The function is executed in the expression.Hit the 'verify' check mark to ensure the expression is valid.After the run, check for remaining null values in the calculated field.Nulls indicate your state abbreviations were not defined in the dictionary.https://gis.stackexchange.com/questions/16423/converting-state-name-abbreviations-to-full-names-using-arcgis-field-calculator'''# Expression:#  <FIELD> =stateNames(!STATE_ID!)# Code Blockdef stateNames(stateAbbreviation):    states = {            'AK': 'Alaska',            'AL': 'Alabama',            'AR': 'Arkansas',            'AS': 'American Samoa',            'AZ': 'Arizona',            'CA': 'California',            'CO': 'Colorado',            'CT': 'Connecticut',            'DC': 'District of Columbia',            'DE': 'Delaware',            'FL': 'Florida',            'GA': 'Georgia',            'GU': 'Guam',            'HI': 'Hawaii',            'IA': 'Iowa',            'ID': 'Idaho',            'IL': 'Illinois',            'IN': 'Indiana',            'KS': 'Kansas',            'KY': 'Kentucky',            'LA': 'Louisiana',            'MA': 'Massachusetts',            'MD': 'Maryland',            'ME': 'Maine',            'MI': 'Michigan',            'MN': 'Minnesota',            'MO': 'Missouri',            'MP': 'Northern Mariana Islands',            'MS': 'Mississippi',            'MT': 'Montana',            'NA': 'National',            'NC': 'North Carolina',            'ND': 'North Dakota',            'NE': 'Nebraska',            'NH': 'New Hampshire',            'NJ': 'New Jersey',            'NM': 'New Mexico',            'NV': 'Nevada',            'NY': 'New York',            'OH': 'Ohio',            'OK': 'Oklahoma',            'OR': 'Oregon',            'PA': 'Pennsylvania',            'PR': 'Puerto Rico',            'RI': 'Rhode Island',            'SC': 'South Carolina',            'SD': 'South Dakota',            'TN': 'Tennessee',            'TX': 'Texas',            'UT': 'Utah',            'VA': 'Virginia',            'VI': 'Virgin Islands',            'VT': 'Vermont',            'WA': 'Washington',            'WI': 'Wisconsin',            'WV': 'West Virginia',            'WY': 'Wyoming'    }    if stateAbbreviation is not None:        if stateAbbreviation in states:            return states[stateAbbreviation]        else:            return None        else:        return None‍‍‍‍‍‍‍‍‍‍‍‍‍‍‍‍‍‍‍‍‍‍‍‍‍‍‍‍‍‍‍‍‍‍‍‍‍‍‍‍‍‍‍‍‍‍‍‍‍‍‍‍‍‍‍‍‍‍‍‍‍‍‍‍‍‍‍‍‍‍‍‍‍‍‍‍‍‍‍‍‍‍\n"
   ]
  },
  {
   "cell_type": "code",
   "execution_count": 92,
   "metadata": {},
   "outputs": [],
   "source": [
    "data['state'] = data['state'].str.replace(' ', '')"
   ]
  },
  {
   "cell_type": "code",
   "execution_count": 93,
   "metadata": {},
   "outputs": [
    {
     "data": {
      "text/plain": [
       "0      NM\n",
       "1      MD\n",
       "2      FL\n",
       "3      WA\n",
       "4      NY\n",
       "       ..\n",
       "950    MA\n",
       "951    TN\n",
       "952    PA\n",
       "953    PA\n",
       "955    OH\n",
       "Name: state, Length: 742, dtype: object"
      ]
     },
     "execution_count": 93,
     "metadata": {},
     "output_type": "execute_result"
    }
   ],
   "source": [
    "data['state']"
   ]
  },
  {
   "cell_type": "code",
   "execution_count": 94,
   "metadata": {},
   "outputs": [],
   "source": [
    "#data.to_csv('glassdoor1.csv',index=False)\n",
    "data.to_csv('mapglass1.csv',index=False)"
   ]
  },
  {
   "cell_type": "code",
   "execution_count": 95,
   "metadata": {},
   "outputs": [
    {
     "data": {
      "text/html": [
       "<div>\n",
       "<style scoped>\n",
       "    .dataframe tbody tr th:only-of-type {\n",
       "        vertical-align: middle;\n",
       "    }\n",
       "\n",
       "    .dataframe tbody tr th {\n",
       "        vertical-align: top;\n",
       "    }\n",
       "\n",
       "    .dataframe thead th {\n",
       "        text-align: right;\n",
       "    }\n",
       "</style>\n",
       "<table border=\"1\" class=\"dataframe\">\n",
       "  <thead>\n",
       "    <tr style=\"text-align: right;\">\n",
       "      <th></th>\n",
       "      <th>state</th>\n",
       "      <th>average_salary</th>\n",
       "      <th>max_salary</th>\n",
       "      <th>min_salary</th>\n",
       "    </tr>\n",
       "  </thead>\n",
       "  <tbody>\n",
       "    <tr>\n",
       "      <th>0</th>\n",
       "      <td>AL</td>\n",
       "      <td>57937.500000</td>\n",
       "      <td>75000.000000</td>\n",
       "      <td>40875.000000</td>\n",
       "    </tr>\n",
       "    <tr>\n",
       "      <th>1</th>\n",
       "      <td>AZ</td>\n",
       "      <td>85666.666667</td>\n",
       "      <td>105555.555556</td>\n",
       "      <td>65777.777778</td>\n",
       "    </tr>\n",
       "    <tr>\n",
       "      <th>2</th>\n",
       "      <td>CA</td>\n",
       "      <td>123619.205298</td>\n",
       "      <td>154741.721854</td>\n",
       "      <td>92496.688742</td>\n",
       "    </tr>\n",
       "    <tr>\n",
       "      <th>3</th>\n",
       "      <td>CO</td>\n",
       "      <td>77045.454545</td>\n",
       "      <td>96636.363636</td>\n",
       "      <td>57454.545455</td>\n",
       "    </tr>\n",
       "    <tr>\n",
       "      <th>4</th>\n",
       "      <td>CT</td>\n",
       "      <td>71100.000000</td>\n",
       "      <td>84600.000000</td>\n",
       "      <td>57600.000000</td>\n",
       "    </tr>\n",
       "    <tr>\n",
       "      <th>5</th>\n",
       "      <td>DC</td>\n",
       "      <td>110181.818182</td>\n",
       "      <td>131727.272727</td>\n",
       "      <td>88636.363636</td>\n",
       "    </tr>\n",
       "    <tr>\n",
       "      <th>6</th>\n",
       "      <td>DE</td>\n",
       "      <td>27500.000000</td>\n",
       "      <td>34000.000000</td>\n",
       "      <td>21000.000000</td>\n",
       "    </tr>\n",
       "    <tr>\n",
       "      <th>7</th>\n",
       "      <td>FL</td>\n",
       "      <td>77625.000000</td>\n",
       "      <td>94875.000000</td>\n",
       "      <td>60375.000000</td>\n",
       "    </tr>\n",
       "    <tr>\n",
       "      <th>8</th>\n",
       "      <td>GA</td>\n",
       "      <td>80666.666667</td>\n",
       "      <td>105666.666667</td>\n",
       "      <td>55666.666667</td>\n",
       "    </tr>\n",
       "    <tr>\n",
       "      <th>9</th>\n",
       "      <td>IA</td>\n",
       "      <td>78900.000000</td>\n",
       "      <td>101400.000000</td>\n",
       "      <td>56400.000000</td>\n",
       "    </tr>\n",
       "    <tr>\n",
       "      <th>10</th>\n",
       "      <td>ID</td>\n",
       "      <td>56250.000000</td>\n",
       "      <td>73000.000000</td>\n",
       "      <td>39500.000000</td>\n",
       "    </tr>\n",
       "    <tr>\n",
       "      <th>11</th>\n",
       "      <td>IL</td>\n",
       "      <td>116662.500000</td>\n",
       "      <td>144975.000000</td>\n",
       "      <td>88350.000000</td>\n",
       "    </tr>\n",
       "    <tr>\n",
       "      <th>12</th>\n",
       "      <td>IN</td>\n",
       "      <td>90300.000000</td>\n",
       "      <td>116600.000000</td>\n",
       "      <td>64000.000000</td>\n",
       "    </tr>\n",
       "    <tr>\n",
       "      <th>13</th>\n",
       "      <td>KS</td>\n",
       "      <td>87000.000000</td>\n",
       "      <td>113000.000000</td>\n",
       "      <td>61000.000000</td>\n",
       "    </tr>\n",
       "    <tr>\n",
       "      <th>14</th>\n",
       "      <td>KY</td>\n",
       "      <td>97000.000000</td>\n",
       "      <td>127666.666667</td>\n",
       "      <td>66333.333333</td>\n",
       "    </tr>\n",
       "    <tr>\n",
       "      <th>15</th>\n",
       "      <td>LA</td>\n",
       "      <td>63300.000000</td>\n",
       "      <td>81200.000000</td>\n",
       "      <td>45400.000000</td>\n",
       "    </tr>\n",
       "    <tr>\n",
       "      <th>16</th>\n",
       "      <td>MA</td>\n",
       "      <td>106281.553398</td>\n",
       "      <td>134941.747573</td>\n",
       "      <td>77621.359223</td>\n",
       "    </tr>\n",
       "    <tr>\n",
       "      <th>17</th>\n",
       "      <td>MD</td>\n",
       "      <td>97357.142857</td>\n",
       "      <td>126400.000000</td>\n",
       "      <td>68314.285714</td>\n",
       "    </tr>\n",
       "    <tr>\n",
       "      <th>18</th>\n",
       "      <td>MI</td>\n",
       "      <td>100250.000000</td>\n",
       "      <td>123500.000000</td>\n",
       "      <td>77000.000000</td>\n",
       "    </tr>\n",
       "    <tr>\n",
       "      <th>19</th>\n",
       "      <td>MN</td>\n",
       "      <td>85500.000000</td>\n",
       "      <td>111000.000000</td>\n",
       "      <td>60000.000000</td>\n",
       "    </tr>\n",
       "    <tr>\n",
       "      <th>20</th>\n",
       "      <td>MO</td>\n",
       "      <td>84722.222222</td>\n",
       "      <td>109777.777778</td>\n",
       "      <td>59666.666667</td>\n",
       "    </tr>\n",
       "    <tr>\n",
       "      <th>21</th>\n",
       "      <td>NC</td>\n",
       "      <td>98452.380952</td>\n",
       "      <td>127857.142857</td>\n",
       "      <td>69047.619048</td>\n",
       "    </tr>\n",
       "    <tr>\n",
       "      <th>22</th>\n",
       "      <td>NE</td>\n",
       "      <td>41000.000000</td>\n",
       "      <td>53750.000000</td>\n",
       "      <td>28250.000000</td>\n",
       "    </tr>\n",
       "    <tr>\n",
       "      <th>23</th>\n",
       "      <td>NJ</td>\n",
       "      <td>104558.823529</td>\n",
       "      <td>132294.117647</td>\n",
       "      <td>76823.529412</td>\n",
       "    </tr>\n",
       "    <tr>\n",
       "      <th>24</th>\n",
       "      <td>NM</td>\n",
       "      <td>74333.333333</td>\n",
       "      <td>93666.666667</td>\n",
       "      <td>55000.000000</td>\n",
       "    </tr>\n",
       "    <tr>\n",
       "      <th>25</th>\n",
       "      <td>NY</td>\n",
       "      <td>98652.777778</td>\n",
       "      <td>125180.555556</td>\n",
       "      <td>72125.000000</td>\n",
       "    </tr>\n",
       "    <tr>\n",
       "      <th>26</th>\n",
       "      <td>OH</td>\n",
       "      <td>87571.428571</td>\n",
       "      <td>112285.714286</td>\n",
       "      <td>62857.142857</td>\n",
       "    </tr>\n",
       "    <tr>\n",
       "      <th>27</th>\n",
       "      <td>OR</td>\n",
       "      <td>92125.000000</td>\n",
       "      <td>116000.000000</td>\n",
       "      <td>68250.000000</td>\n",
       "    </tr>\n",
       "    <tr>\n",
       "      <th>28</th>\n",
       "      <td>PA</td>\n",
       "      <td>92560.606061</td>\n",
       "      <td>119121.212121</td>\n",
       "      <td>66000.000000</td>\n",
       "    </tr>\n",
       "    <tr>\n",
       "      <th>29</th>\n",
       "      <td>RI</td>\n",
       "      <td>100000.000000</td>\n",
       "      <td>126000.000000</td>\n",
       "      <td>74000.000000</td>\n",
       "    </tr>\n",
       "    <tr>\n",
       "      <th>30</th>\n",
       "      <td>SC</td>\n",
       "      <td>60500.000000</td>\n",
       "      <td>82000.000000</td>\n",
       "      <td>39000.000000</td>\n",
       "    </tr>\n",
       "    <tr>\n",
       "      <th>31</th>\n",
       "      <td>TN</td>\n",
       "      <td>87115.384615</td>\n",
       "      <td>112615.384615</td>\n",
       "      <td>61615.384615</td>\n",
       "    </tr>\n",
       "    <tr>\n",
       "      <th>32</th>\n",
       "      <td>TX</td>\n",
       "      <td>89392.857143</td>\n",
       "      <td>113142.857143</td>\n",
       "      <td>65642.857143</td>\n",
       "    </tr>\n",
       "    <tr>\n",
       "      <th>33</th>\n",
       "      <td>UT</td>\n",
       "      <td>94150.000000</td>\n",
       "      <td>119600.000000</td>\n",
       "      <td>68700.000000</td>\n",
       "    </tr>\n",
       "    <tr>\n",
       "      <th>34</th>\n",
       "      <td>VA</td>\n",
       "      <td>95621.951220</td>\n",
       "      <td>121219.512195</td>\n",
       "      <td>70024.390244</td>\n",
       "    </tr>\n",
       "    <tr>\n",
       "      <th>35</th>\n",
       "      <td>WA</td>\n",
       "      <td>93190.476190</td>\n",
       "      <td>115333.333333</td>\n",
       "      <td>71047.619048</td>\n",
       "    </tr>\n",
       "    <tr>\n",
       "      <th>36</th>\n",
       "      <td>WI</td>\n",
       "      <td>73300.000000</td>\n",
       "      <td>92200.000000</td>\n",
       "      <td>54400.000000</td>\n",
       "    </tr>\n",
       "  </tbody>\n",
       "</table>\n",
       "</div>"
      ],
      "text/plain": [
       "   state  average_salary     max_salary    min_salary\n",
       "0     AL    57937.500000   75000.000000  40875.000000\n",
       "1     AZ    85666.666667  105555.555556  65777.777778\n",
       "2     CA   123619.205298  154741.721854  92496.688742\n",
       "3     CO    77045.454545   96636.363636  57454.545455\n",
       "4     CT    71100.000000   84600.000000  57600.000000\n",
       "5     DC   110181.818182  131727.272727  88636.363636\n",
       "6     DE    27500.000000   34000.000000  21000.000000\n",
       "7     FL    77625.000000   94875.000000  60375.000000\n",
       "8     GA    80666.666667  105666.666667  55666.666667\n",
       "9     IA    78900.000000  101400.000000  56400.000000\n",
       "10    ID    56250.000000   73000.000000  39500.000000\n",
       "11    IL   116662.500000  144975.000000  88350.000000\n",
       "12    IN    90300.000000  116600.000000  64000.000000\n",
       "13    KS    87000.000000  113000.000000  61000.000000\n",
       "14    KY    97000.000000  127666.666667  66333.333333\n",
       "15    LA    63300.000000   81200.000000  45400.000000\n",
       "16    MA   106281.553398  134941.747573  77621.359223\n",
       "17    MD    97357.142857  126400.000000  68314.285714\n",
       "18    MI   100250.000000  123500.000000  77000.000000\n",
       "19    MN    85500.000000  111000.000000  60000.000000\n",
       "20    MO    84722.222222  109777.777778  59666.666667\n",
       "21    NC    98452.380952  127857.142857  69047.619048\n",
       "22    NE    41000.000000   53750.000000  28250.000000\n",
       "23    NJ   104558.823529  132294.117647  76823.529412\n",
       "24    NM    74333.333333   93666.666667  55000.000000\n",
       "25    NY    98652.777778  125180.555556  72125.000000\n",
       "26    OH    87571.428571  112285.714286  62857.142857\n",
       "27    OR    92125.000000  116000.000000  68250.000000\n",
       "28    PA    92560.606061  119121.212121  66000.000000\n",
       "29    RI   100000.000000  126000.000000  74000.000000\n",
       "30    SC    60500.000000   82000.000000  39000.000000\n",
       "31    TN    87115.384615  112615.384615  61615.384615\n",
       "32    TX    89392.857143  113142.857143  65642.857143\n",
       "33    UT    94150.000000  119600.000000  68700.000000\n",
       "34    VA    95621.951220  121219.512195  70024.390244\n",
       "35    WA    93190.476190  115333.333333  71047.619048\n",
       "36    WI    73300.000000   92200.000000  54400.000000"
      ]
     },
     "execution_count": 95,
     "metadata": {},
     "output_type": "execute_result"
    }
   ],
   "source": [
    "data_st = data.groupby(by='state')['average_salary','max_salary','min_salary'].mean().reset_index()\n",
    "data_st"
   ]
  },
  {
   "cell_type": "code",
   "execution_count": null,
   "metadata": {},
   "outputs": [],
   "source": []
  },
  {
   "cell_type": "code",
   "execution_count": null,
   "metadata": {},
   "outputs": [],
   "source": []
  }
 ],
 "metadata": {
  "kernelspec": {
   "display_name": "Python 3 (ipykernel)",
   "language": "python",
   "name": "python3"
  },
  "language_info": {
   "codemirror_mode": {
    "name": "ipython",
    "version": 3
   },
   "file_extension": ".py",
   "mimetype": "text/x-python",
   "name": "python",
   "nbconvert_exporter": "python",
   "pygments_lexer": "ipython3",
   "version": "3.9.13"
  }
 },
 "nbformat": 4,
 "nbformat_minor": 4
}
